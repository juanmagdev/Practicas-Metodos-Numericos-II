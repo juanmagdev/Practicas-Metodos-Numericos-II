{
 "cells": [
  {
   "cell_type": "markdown",
   "id": "ddeb0e0a",
   "metadata": {},
   "source": [
    "<div align=\"center\"><span style=\"font-family: Arial,Helvetica,sans-serif; color:#0000FF\"\"><b>\n",
    "    <span style=\"font-size: x-large\">Métodos Numéricos II</span>\n",
    "    <br>\n",
    "    <span style=\"font-size: large\">Segundo de Grado en Matemáticas - Curso 2021/22</span>\n",
    "    <br>\n",
    "    Facultad de Ciencias de la Universidad de Málaga\n",
    "    <br>\n",
    "    <span style=\"font-size: small\">Dpto. de Análisis Matemático, Estadística e Investigación Operativa, y Matemática Aplicada</span>\n",
    "    <br>\n",
    "    <span style=\"font-size: small\">Profs. María López y Francisco José Palma (Área Conocimiento de Matemática Aplicada)</span>\n",
    "    <br>\n",
    "    <span style=\"color:#FF0000\">Práctica número 8</span>\n",
    "    </b></span></div>"
   ]
  },
  {
   "cell_type": "code",
   "execution_count": 1,
   "id": "d4a095fb",
   "metadata": {},
   "outputs": [],
   "source": [
    "from algoritmos import *"
   ]
  },
  {
   "cell_type": "markdown",
   "id": "3e0fed03",
   "metadata": {},
   "source": [
    "<span style=\"color:#FF0000\"><b>Ejercicio 1.</b></span> Dado el vector $X$ que aparece en la celda siguiente, calcular la matriz de Householder $H(X)$."
   ]
  },
  {
   "cell_type": "code",
   "execution_count": 2,
   "id": "7162b787",
   "metadata": {},
   "outputs": [
    {
     "name": "stdout",
     "output_type": "stream",
     "text": [
      "[[ 0.93333333 -0.13333333 -0.2        -0.26666667]\n",
      " [-0.13333333  0.73333333 -0.4        -0.53333333]\n",
      " [-0.2        -0.4         0.4        -0.8       ]\n",
      " [-0.26666667 -0.53333333 -0.8        -0.06666667]]\n"
     ]
    }
   ],
   "source": [
    "X = array([[1], [2], [3], [4]])\n",
    "den = conjugada(X)@X\n",
    "N = X@conjugada(X)\n",
    "fr = 2/den\n",
    "n = size(X)\n",
    "H = eye(n,n) - fr * N\n",
    "print(H)"
   ]
  },
  {
   "cell_type": "markdown",
   "id": "d6420904",
   "metadata": {},
   "source": [
    "<span style=\"color:#FF0000\"><b>Ejercicio 2.</b></span> Dado el vector $X$ que aparece en la celda siguiente, calcular las matrices de Householder $H(Z_i)$, $i=1,2$, tales que el vector $H(Z_i)\\,X$ tiene nulas todas sus componentes excepto, quizás, la primera."
   ]
  },
  {
   "cell_type": "code",
   "execution_count": 3,
   "id": "76564717",
   "metadata": {},
   "outputs": [
    {
     "name": "stdout",
     "output_type": "stream",
     "text": [
      "[[-1.  0.  0.  0.]\n",
      " [ 0.  1.  0.  0.]\n",
      " [ 0.  0.  1.  0.]\n",
      " [ 0.  0.  0.  1.]]\n"
     ]
    }
   ],
   "source": [
    "X = array([[1], [0], [0], [0]])\n",
    "print(Householder(X))"
   ]
  },
  {
   "cell_type": "markdown",
   "id": "19c59fde",
   "metadata": {},
   "source": [
    "<span style=\"color:#FF0000\"><b>Ejercicio 3.</b></span> Considera el sistema lineal $A\\,X = B$, así como el sistema perturbado $A\\,\\bar{X} = \\bar{B}$, donde\n",
    "$$\n",
    "A = \\left( \\begin{array}{rrrr}\n",
    "10 & 1 & 4 & 0 \\\\ 1 & 10 & 5 & -1 \\\\ 4 & 5 & 10 & 7 \\\\ 0 & -1 & 7 & 9\n",
    "\\end{array} \\right)\\,, \\quad B = \\left( \\begin{array}{r}\n",
    "15 \\\\ 15 \\\\ 26 \\\\ 15\n",
    "\\end{array} \\right) \\quad y \\quad \\bar{B} = \\left( \\begin{array}{r}\n",
    "16 \\\\ 16 \\\\ 25 \\\\ 16\n",
    "\\end{array} \\right)\\,.\n",
    "$$\n",
    "Calcular $X$ y $\\bar{X}$ (mediante el método de Gauss con estrategia de pívot parcial) y verificar la desigualdad\n",
    "$$\n",
    "\\frac{\\|\\delta X\\|_2}{\\|X\\|_2} \\le \\rm{cond}_2(A)\\,\\frac{\\|\\delta B\\|_2}{\\|B\\|_2}\\,.\n",
    "$$"
   ]
  },
  {
   "cell_type": "code",
   "execution_count": 5,
   "id": "a6bcb6c2",
   "metadata": {},
   "outputs": [
    {
     "name": "stdout",
     "output_type": "stream",
     "text": [
      "(True, array([[1.],\n",
      "       [1.],\n",
      "       [1.],\n",
      "       [1.]]))\n",
      "(True, array([[  832.],\n",
      "       [ 1324.],\n",
      "       [-2407.],\n",
      "       [ 2021.]]))\n",
      "Comprobación:  1754.975355950986 <= 1947.5701637220152\n"
     ]
    }
   ],
   "source": [
    "A = array([[10,1,4,0],[1,10,5,-1],[4,5,10,7],[0,-1,7,9]])\n",
    "B = array([[15],[15],[26],[15]])\n",
    "B1 = array([[16],[16],[25],[16]])\n",
    "print(gauss_pp(A,B))\n",
    "print(gauss_pp(A,B1))\n",
    "\n",
    "\n",
    "exito, X = gauss_pp(A, B)\n",
    "exitop, Xp = gauss_pp(A, B1)\n",
    "Xdelta = X - Xp\n",
    "Bdelta = B - B1\n",
    "m = norma_vec(Xdelta, 2) / norma_vec(X, 2)\n",
    "M = norma_mat(A, 2)*norma_mat(inv(A), 2)*norma_vec(Bdelta, 2) / norma_vec(B, 2)\n",
    "print(\"Comprobación: \", m, \"<=\", M)"
   ]
  },
  {
   "cell_type": "markdown",
   "id": "7b0bfb21",
   "metadata": {},
   "source": [
    "<span style=\"color:#FF0000\"><b>Ejercicio 4.</b></span> Calcular $\\rm{cond}_p(A_2)$, $p=1,2,\\infty$, donde $A_2$ es la matriz triangular superior resultante de aplicar el método de Gauss al sistema\n",
    "$$\n",
    "\\left\\{ \\begin{array}{rcrcr}\n",
    "10^{-4}\\,x_1 & + & x_2 & = & 1\\,, \\\\ x_1 & + & x_2 & = & 2\\,.\n",
    "\\end{array} \\right.\n",
    "$$\n",
    "Comparar los resultados cuando no se utiliza ninguna estrategia de pivot y cuando se utiliza una estrategia de pivot parcial."
   ]
  },
  {
   "cell_type": "code",
   "execution_count": 1,
   "id": "aac7ded9",
   "metadata": {},
   "outputs": [
    {
     "name": "stdout",
     "output_type": "stream",
     "text": [
      "[[1.     1.    ]\n",
      " [0.     0.9999]]\n",
      "4.000200020002\n",
      "2.6181510933132386\n",
      "4.000200020002\n"
     ]
    }
   ],
   "source": [
    "from algoritmos import *\n",
    "from numpy import *\n",
    "from numpy.linalg import *\n",
    "from numpy import abs, sum, max, min\n",
    "\n",
    "A = array([[10**(-4),1],[1,1]])\n",
    "B = array([[1],[2]])\n",
    "A2 = matrizTriangularGauss(A,B)\n",
    "print(A2)\n",
    "print(cond(A2,1))\n",
    "print(cond(A2,2))\n",
    "print(cond(A2,inf))"
   ]
  },
  {
   "cell_type": "markdown",
   "id": "8cf84385",
   "metadata": {},
   "source": [
    "<span style=\"color:#FF0000\"><b>Ejercicio 5.</b></span> Se consideran las matrices $A = \\left( \\begin{array}{ccc} 1 & 2 & -2 \\\\ 1 & 1 & 1 \\\\ 2 & 2 & 1 \\end{array} \\right)$ y $B = \\left( \\begin{array}{ccc} 2 & -1 & 1 \\\\ 2 & 2 & 2 \\\\ -1 & -1 & 2 \\end{array} \\right)$. Demostrar que para la primera matriz se tiene que $\\rho(J)<1<\\rho({\\cal L}_1)$ mientras que para la segunda se tiene que $\\rho({\\cal L}_1)<1<\\rho(J)$."
   ]
  },
  {
   "cell_type": "code",
   "execution_count": 2,
   "id": "3ad28391",
   "metadata": {},
   "outputs": [
    {
     "name": "stdout",
     "output_type": "stream",
     "text": [
      "[[ 0  0  0]\n",
      " [-1  0  0]\n",
      " [-2 -2  0]]\n",
      "[[ 0 -2  2]\n",
      " [ 0  0 -1]\n",
      " [ 0  0  0]]\n",
      "[[1 0 0]\n",
      " [0 1 0]\n",
      " [0 0 1]]\n",
      "1.0812771377650137e-05\n",
      "2.0\n",
      "True\n"
     ]
    }
   ],
   "source": [
    "A = array([[1,2,-2],[1,1,1],[2,2,1]])\n",
    "E = -1*tril(A,k=-1)\n",
    "print(E)\n",
    "F = -1*triu(A,k=1)\n",
    "print(F)\n",
    "D = A + E + F\n",
    "print(D)\n",
    "exito, Di = gauss_pp(D,eye(3))\n",
    "J = Di@(E+F)\n",
    "pJ = max(abs(eigvals(J)))\n",
    "print(pJ)\n",
    "\n",
    "exito2, dmenoseinv = gauss_pp(D-E,eye(3))\n",
    "L1 = dmenoseinv@F\n",
    "pL1 = max(abs(eigvals(L1)))\n",
    "print(pL1)\n",
    "\n",
    "print(pJ < 1 < pL1)"
   ]
  }
 ],
 "metadata": {
  "kernelspec": {
   "display_name": "Python 3 (ipykernel)",
   "language": "python",
   "name": "python3"
  },
  "language_info": {
   "codemirror_mode": {
    "name": "ipython",
    "version": 3
   },
   "file_extension": ".py",
   "mimetype": "text/x-python",
   "name": "python",
   "nbconvert_exporter": "python",
   "pygments_lexer": "ipython3",
   "version": "3.10.4"
  }
 },
 "nbformat": 4,
 "nbformat_minor": 5
}
