{
 "cells": [
  {
   "cell_type": "markdown",
   "id": "dd48bf55",
   "metadata": {},
   "source": [
    "<span style=\"font-family: Arial,Helvetica,sans-serif; font-size: medium\">\n",
    "<div align=\"center\"><span style=\"font-size: x-large; color:#0000FF\"><b>Métodos Numéricos II</b></span></div>\n",
    "<div align=\"center\"><span style=\"font-size: large; color:#0000FF\"><b>Segundo de Grado en Matemáticas - Curso 2021/22</b></span></div>\n",
    "<div align=\"center\"><span style=\"font-size: medium; color:#0000FF\"><b>Facultad de Ciencias de la Universidad de Málaga</b></span></div>\n",
    "<div align=\"center\"><span style=\"font-size: small; color:#0000FF\"><b>Dpto. de Análisis Matemático, Estadística e Investigación Operativa, y Matemática Aplicada</b></span></div>\n",
    "<div align=\"center\"><span style=\"font-size: small; color:#0000FF\"><b>Profs. María López Fernández y Francisco José Palma Molina (Área Conocimiento de Matemática Aplicada)</b></span></div>\n",
    "<div align=\"center\"><span style=\"font-size: medium; color:#FF0000\"><b>Práctica número 2</b></span></div></span>"
   ]
  },
  {
   "cell_type": "code",
   "execution_count": 1,
   "id": "0514de44",
   "metadata": {},
   "outputs": [],
   "source": [
    "\n",
    "# -*- coding: utf-8 -*-\n",
    "from numpy import *\n",
    "from numpy.linalg import *\n",
    "from numpy import abs, sum, max, min"
   ]
  },
  {
   "cell_type": "markdown",
   "id": "9b48514f",
   "metadata": {},
   "source": [
    "<span style=\"font-family: Arial,Helvetica,sans-serif; font-size: medium\">\n",
    "    <b>Ejercicio 1:</b> crear una matriz de tamaño 20, que sea tridiagonal con elementos diagonales iguales a 2 y elementos sub-diagonales y supra-diagonales iguales a -1.\n",
    "</span>"
   ]
  },
  {
   "cell_type": "code",
   "execution_count": 2,
   "id": "541cd02a",
   "metadata": {},
   "outputs": [
    {
     "name": "stdout",
     "output_type": "stream",
     "text": [
      "Ejercicio 1.\n",
      "<function diag at 0x7f771c117d00>\n"
     ]
    }
   ],
   "source": [
    "# Ejercicio 1.\n",
    "print(\"Ejercicio 1.\")\n",
    "A = 2*eye(20) + eye(20, k=1) - eye(20, k=-1)\n",
    "# print(\"A = \", A)\n",
    "def wilkinson(n):\n",
    "    diag = array([])\n",
    "    for i in range(n):\n",
    "        diag.insert(n -i)\n",
    "    return diag\n",
    "\n",
    "print(diag)"
   ]
  },
  {
   "cell_type": "markdown",
   "id": "a9888da7",
   "metadata": {},
   "source": [
    "<b>Ejercicio 2:</b> dada la matriz $A = \\left( \\begin{array}{cc} 1 & 2 \\\\ 3 & 4 \\end{array} \\right)$, construir las matrices $B = \\left( \\begin{array}{c|c} A & 2\\,A \\\\ \\hline 3\\,A & 4\\,A \\end{array} \\right)$ y $C = \\left( \\begin{array}{c|c|c} A & I & \\\\ \\hline I & A & I \\\\ \\hline & I & A \\end{array} \\right)$. Con la ayuda del comando <span style=\"font-family: Courier,monospace\">det()</span>, cuyo único argumento es una matriz, calcular los determinantes de las matrices anteriores."
   ]
  },
  {
   "cell_type": "code",
   "execution_count": 5,
   "id": "be0ed65b",
   "metadata": {},
   "outputs": [
    {
     "name": "stdout",
     "output_type": "stream",
     "text": [
      "Ejercicio 2.\n",
      "A =  [[1 2]\n",
      " [3 4]] \n",
      "det(A) =  -2.0000000000000004\n",
      "B =  [[ 1  2  2  4]\n",
      " [ 3  4  6  8]\n",
      " [ 3  6  4  8]\n",
      " [ 9 12 12 16]] \n",
      "det(B) =  15.999999999999998\n",
      "C =  [[1. 2. 1. 0. 0. 0.]\n",
      " [3. 4. 0. 1. 0. 0.]\n",
      " [1. 0. 1. 2. 1. 0.]\n",
      " [0. 1. 3. 4. 0. 1.]\n",
      " [0. 0. 1. 0. 1. 2.]\n",
      " [0. 0. 0. 1. 3. 4.]] \n",
      "det(C) =  99.99999999999996\n"
     ]
    }
   ],
   "source": [
    "# Ejercicio 2.\n",
    "print(\"Ejercicio 2.\")\n",
    "A = array([[1, 2], [3, 4]])\n",
    "print(\"A = \", A, \"\\ndet(A) = \", det(A))\n",
    "B = vstack([hstack([A, 2*A]), hstack([3*A, 4*A])])\n",
    "print(\"B = \", B, \"\\ndet(B) = \", det(B))\n",
    "C = vstack([hstack([A, eye(2), zeros((2,2))]),hstack([eye(2), A, eye(2)]), hstack([zeros((2,2)), eye(2), A ])])\n",
    "print(\"C = \", C, \"\\ndet(C) = \", det(C))"
   ]
  },
  {
   "cell_type": "markdown",
   "id": "8759e679",
   "metadata": {},
   "source": [
    "\n",
    "<b>Ejercicio 3:</b> construir una matriz $A=(a_{ij})\\in\\mathcal{M}_{10}(\\mathbb{R})$ tal que $a_{ij}=10\\,(i-1)+j$, para todo $i,j=1,2,\\ldots,10$. Construir también las matrices $B,C\\in\\mathcal{M}_{10}(\\mathbb{R})$ que coinciden con $A$, excepto que en $B$ permutan entre sí las filas y columnas segunda y quinta, y en $C$ a la quinta fila de $A$ se le suma 3 veces la segunda fila."
   ]
  },
  {
   "cell_type": "code",
   "execution_count": 10,
   "id": "211078ce",
   "metadata": {},
   "outputs": [
    {
     "name": "stdout",
     "output_type": "stream",
     "text": [
      "Ejercicio 3.\n",
      "A =  [[ 0  1  2  3  4  5  6  7  8  9]\n",
      " [10 11 12 13 14 15 16 17 18 19]\n",
      " [20 21 22 23 24 25 26 27 28 29]\n",
      " [30 31 32 33 34 35 36 37 38 39]\n",
      " [40 41 42 43 44 45 46 47 48 49]\n",
      " [50 51 52 53 54 55 56 57 58 59]\n",
      " [60 61 62 63 64 65 66 67 68 69]\n",
      " [70 71 72 73 74 75 76 77 78 79]\n",
      " [80 81 82 83 84 85 86 87 88 89]\n",
      " [90 91 92 93 94 95 96 97 98 99]]\n",
      "Permutación de las filas 2 y 4\n",
      "A toda la fila 4, le suma 3 veces el contenido de la fila 1\n",
      "C =  [[  0   1   2   3   4   5   6   7   8   9]\n",
      " [ 10  11  12  13  14  15  16  17  18  19]\n",
      " [ 20  21  22  23  24  25  26  27  28  29]\n",
      " [ 30  31  32  33  34  35  36  37  38  39]\n",
      " [ 70  74  78  82  86  90  94  98 102 106]\n",
      " [ 50  51  52  53  54  55  56  57  58  59]\n",
      " [ 60  61  62  63  64  65  66  67  68  69]\n",
      " [ 70  71  72  73  74  75  76  77  78  79]\n",
      " [ 80  81  82  83  84  85  86  87  88  89]\n",
      " [ 90  91  92  93  94  95  96  97  98  99]]\n"
     ]
    }
   ],
   "source": [
    "# Ejercicio 3.\n",
    "print(\"Ejercicio 3.\")\n",
    "A = reshape(arange(0,100,1), (10,10))\n",
    "print(\"A = \", A)\n",
    "B = array(A)\n",
    "print(\"Permutación de las filas 2 y 4\")\n",
    "B[[1, 4], :] = B[[4, 1], :]\n",
    "print(\"B = \", B)\n",
    "C = array(A)\n",
    "print(\"A toda la fila 4, le suma 3 veces el contenido de la fila 1\") ##no entiendo bien que pasa\n",
    "C[4, :] += 3*C[1, :]\n",
    "print(\"C = \", C)"
   ]
  },
  {
   "cell_type": "markdown",
   "id": "7d751e40",
   "metadata": {},
   "source": [
    "<b>Ejercicio 4:</b> se llama <b>matriz de Hilbert de orden $n$</b> a la matriz $H=(h_{ij})\\in\\mathcal{M}(\\mathbb{R})$ tal que $h_{ij}=\\frac{1}{i+j-1}$, para todo $i,j=1,2,\\ldots,n$. Construir e imprimir una matriz de Hilbert de orden 5, así como todas sus submatrices principales (que son también matrices de Hilbert); calcular también el determinante de estas submatrices."
   ]
  },
  {
   "cell_type": "code",
   "execution_count": 4,
   "id": "319c050e",
   "metadata": {},
   "outputs": [
    {
     "name": "stdout",
     "output_type": "stream",
     "text": [
      "Ejercicio 4.\n",
      "H =  [[1.         0.5        0.33333333 0.25       0.2       ]\n",
      " [0.5        0.33333333 0.25       0.2        0.16666667]\n",
      " [0.33333333 0.25       0.2        0.16666667 0.14285714]\n",
      " [0.25       0.2        0.16666667 0.14285714 0.125     ]\n",
      " [0.2        0.16666667 0.14285714 0.125      0.11111111]]\n",
      "Submatriz principal de orden:  1\n",
      "H^( 1 ) =  [[1.]]\n",
      "det H^( 1 ) =  1.0\n",
      "Submatriz principal de orden:  2\n",
      "H^( 2 ) =  [[1.         0.5       ]\n",
      " [0.5        0.33333333]]\n",
      "det H^( 2 ) =  0.08333333333333333\n",
      "Submatriz principal de orden:  3\n",
      "H^( 3 ) =  [[1.         0.5        0.33333333]\n",
      " [0.5        0.33333333 0.25      ]\n",
      " [0.33333333 0.25       0.2       ]]\n",
      "det H^( 3 ) =  0.00046296296296296146\n",
      "Submatriz principal de orden:  4\n",
      "H^( 4 ) =  [[1.         0.5        0.33333333 0.25      ]\n",
      " [0.5        0.33333333 0.25       0.2       ]\n",
      " [0.33333333 0.25       0.2        0.16666667]\n",
      " [0.25       0.2        0.16666667 0.14285714]]\n",
      "det H^( 4 ) =  1.6534391534392996e-07\n",
      "Submatriz principal de orden:  5\n",
      "H^( 5 ) =  [[1.         0.5        0.33333333 0.25       0.2       ]\n",
      " [0.5        0.33333333 0.25       0.2        0.16666667]\n",
      " [0.33333333 0.25       0.2        0.16666667 0.14285714]\n",
      " [0.25       0.2        0.16666667 0.14285714 0.125     ]\n",
      " [0.2        0.16666667 0.14285714 0.125      0.11111111]]\n",
      "det H^( 5 ) =  3.749295132515227e-12\n"
     ]
    }
   ],
   "source": [
    "# Ejercicio 4.\n",
    "print(\"Ejercicio 4.\")\n",
    "n = 5\n",
    "H = zeros((n,n))\n",
    "for i in range(n):\n",
    "    for j in range(n):\n",
    "        H[i, j] = 1/(i+j+1)\n",
    "print(\"H = \", H)\n",
    "for k in range(n):\n",
    "    print(\"Submatriz principal de orden: \", k+1)\n",
    "    print(\"H^(\", k+1, \") = \", H[:k+1, :k+1])\n",
    "    print(\"det H^(\", k+1, \") = \",  det(H[:k+1, :k+1]))"
   ]
  },
  {
   "cell_type": "markdown",
   "id": "9009b091",
   "metadata": {},
   "source": [
    "\n",
    "<b>Ejercicio 5:</b> se llama <b>matriz de Vandermonde de orden $n$</b> a la matriz $V=(v_{ij})\\in\\mathcal{M}(\\mathbb{K})$ tal que $v_{ij}={\\alpha_i}^{j-1}$, para todo $i,j=1,2,\\ldots,n$, siendo $\\alpha_i\\in\\mathbb{K}$, para $i=1,2,\\ldots,n$; en el caso en que $\\alpha_i=i$, construir e imprimir una matriz de Vandermonde de orden 5.\n",
    "<br>\n",
    "Para suprimir líneas (filas o columnas) de una matriz, se puede utilizar el comando <span style=\"font-family: Courier,monospace\">delete()</span>, cuyos tres argumentos son una matriz, la(s) línea(s) que se quieren suprimir, y <span style=\"font-family: Courier,monospace\">axis=</span> para indicar si se suprimen filas o columnas. Por otro lado, el comando <span style=\"font-family: Courier,monospace\">inv()</span>, cuyo único argumento es una matriz, calcula la inversa de la matriz dada (supuesta regular).\n",
    "<br>\n",
    "Construir la matriz de cofactores de la matriz de Vandermonde anterior y comprobar que la transpuesta de la misma, dividida por su determinante, es la inversa.\n"
   ]
  },
  {
   "cell_type": "code",
   "execution_count": null,
   "id": "cf4a77de",
   "metadata": {},
   "outputs": [],
   "source": [
    "# Ejercicio 5.\n",
    "print(\"Ejercicio 5.\")\n",
    "n = 5\n",
    "V = zeros((n,n))\n",
    "for i in range(n):\n",
    "    for j in range(n):\n",
    "        V[i, j] = i**j\n",
    "print(\"V = \", V)\n",
    "cofV = zeros((n,n))\n",
    "for i in range(n):\n",
    "    for j in range(n):\n",
    "        cofV[i, j] = ???\n",
    "print(\"cof(V) = \", cofV)\n",
    "print(\"V^(-1) = \", inv(V))\n",
    "print(\"det(V)^(-1)*cof(V)^t = \", transpose(cofV)/det(V))\n",
    "print(\"Comprobación: \", max(abs(inv(V)-transpose(cofV)/det(V))))"
   ]
  },
  {
   "cell_type": "markdown",
   "id": "48b66e0a",
   "metadata": {},
   "source": [
    "<b>Ejercicio 6:</b> para calcular los autovalores y autovectores de una matriz se dispone del comando <span style=\"font-family: Courier,monospace\">eig()</span>, cuyo único argumento de entrada es una matriz. Este comando devuelve un vector conteniendo los autovalores (en orden arbitrario) y una matriz cuyas columnas son los autovectores correspondientes. En el caso de que la matriz sea diagonalizable esta matriz de autovectores es invertible y se trata de una matriz de paso (no necesariamente ortogonal-unitaria) a la forma diagonal.\n",
    "    <br>\n",
    "    Calcular los autovalores y autovectores, y diagonalizar cuando sea posible, las matrices:\n",
    "$$\n",
    "A = \\left( \\begin{array}{rr} 3 & 1 \\\\ 0 & 1 \\end{array} \\right) \\, A = \\left( \\begin{array}{rr} 0 & -2 \\\\ 2 & 0 \\end{array} \\right) \\, A = \\left( \\begin{array}{rrr} 2 & 0 & 2 \\\\ 0 & 1 & 0 \\\\ 2 & 0 & -1 \\end{array} \\right) \\, A = \\left( \\begin{array}{rrr} 1 & 0 & 0 \\\\ -3 & 1 & 0 \\\\ 4 & -7 & 1 \\end{array} \\right) \\, A = \\left( \\begin{array}{rrrr} 1 & 0 & 0 & 1 \\\\ 0 & 1 & 0 & 0 \\\\ 0 & 0 & 1 & -2 \\\\ 1 & 0 & -2 & 5 \\end{array} \\right) \\, A = \\left( \\begin{array}{rrrr} 7 & 1 & 1 & 1 \\\\ 1 & 7 & 1 & 1 \\\\ 1 & 1 & 7 & 1 \\\\ 1 & 1 & 1 & 7 \\end{array} \\right)\n",
    "$$"
   ]
  },
  {
   "cell_type": "code",
   "execution_count": 7,
   "id": "7393d6cb",
   "metadata": {},
   "outputs": [
    {
     "name": "stdout",
     "output_type": "stream",
     "text": [
      "Los autovalores de la primera matriz son:  (array([3., 1.]), array([[ 1.        , -0.4472136 ],\n",
      "       [ 0.        ,  0.89442719]]))\n"
     ]
    }
   ],
   "source": [
    "# Ejercicio 6-a.\n",
    "A = array([[3, 1], [0,1]])\n",
    "print(\"Los autovalores de la primera matriz son: \", eig(A))"
   ]
  },
  {
   "cell_type": "code",
   "execution_count": 10,
   "id": "d2ca4a58",
   "metadata": {},
   "outputs": [
    {
     "name": "stdout",
     "output_type": "stream",
     "text": [
      "Los autovalores de la segunda matriz son:  (array([0.+2.j, 0.-2.j]), array([[0.        +0.70710678j, 0.        -0.70710678j],\n",
      "       [0.70710678+0.j        , 0.70710678-0.j        ]]))\n"
     ]
    }
   ],
   "source": [
    "# Ejercicio 6-b.\n",
    "B = array([[0, -2], [2,0]])\n",
    "print(\"Los autovalores de la segunda matriz son: \", eig(B))"
   ]
  },
  {
   "cell_type": "code",
   "execution_count": 9,
   "id": "973194d3",
   "metadata": {},
   "outputs": [
    {
     "name": "stdout",
     "output_type": "stream",
     "text": [
      "Los autovalores de la tercera matriz son:  (array([ 3., -2.,  1.]), array([[ 0.89442719, -0.4472136 ,  0.        ],\n",
      "       [ 0.        ,  0.        ,  1.        ],\n",
      "       [ 0.4472136 ,  0.89442719,  0.        ]]))\n"
     ]
    }
   ],
   "source": [
    "# Ejercicio 6-c.\n",
    "C = array([[2, 0,2], [0,1,0], [2, 0, -1]])\n",
    "print(\"Los autovalores de la tercera matriz son: \", eig(C))"
   ]
  },
  {
   "cell_type": "code",
   "execution_count": null,
   "id": "d1545007",
   "metadata": {},
   "outputs": [],
   "source": [
    "# Ejercicio 6-d.\n"
   ]
  },
  {
   "cell_type": "code",
   "execution_count": null,
   "id": "d8c56fd9",
   "metadata": {},
   "outputs": [],
   "source": [
    "# Ejercicio 6-e.\n"
   ]
  },
  {
   "cell_type": "code",
   "execution_count": null,
   "id": "06343892",
   "metadata": {},
   "outputs": [],
   "source": [
    "# Ejercicio 6-f.\n"
   ]
  },
  {
   "cell_type": "markdown",
   "id": "0231c7d4",
   "metadata": {},
   "source": [
    "<span style=\"font-family: Arial,Helvetica,sans-serif; font-size: medium\">\n",
    "    Durante el desarrollo de las clases prácticas vamos a crear un fichero <span style=\"font-family: Courier,monospace\">Python</span>, al que daremos el nombre de <span style=\"font-family: Courier,monospace\">algoritmos.py</span> donde almacenaremos todas aquellas funciones propias que definamos durante el curso. A partir de ese momento, podremos utilizar dichas funciones en cualquier hoja de trabajo que estemos utilizando, sin más que importar al principio de la misma las funciones que hayamos definido mediante la siguiente instrucción. (Cada vez que se modifique dicho fichero, no olvidar guardar su contenido y reinicializar el núcleo de la hoja de trabajo.)\n",
    "</span>"
   ]
  },
  {
   "cell_type": "code",
   "execution_count": 5,
   "id": "fc9ecd36",
   "metadata": {},
   "outputs": [],
   "source": [
    "from algoritmos import *"
   ]
  },
  {
   "cell_type": "markdown",
   "id": "1f26ffe6",
   "metadata": {},
   "source": [
    "<b>Ejercicio 7:</b> definir una función, de nombre <span style=\"font-family: Courier,monospace\">conjugada()</span>, con un único argumento de entrada que sea una matriz y que devuelva la conjugada de la misma. Comprobar la validez de la función construida calculando las conjugadas de las matrices\n",
    "$$\n",
    "A = \\left( \\begin{array}{cc} 1 & 4\\,i \\\\ 2 & -5\\,i \\\\ 3 & 6+6\\,i \\end{array} \\right) \\quad B = \\left( \\begin{array}{cc} 1 & 4\\,i \\end{array} \\right) \\quad C = \\left( \\begin{array}{c} 1 \\\\ 2 \\\\ 3 \\end{array} \\right)\n",
    "$$"
   ]
  },
  {
   "cell_type": "code",
   "execution_count": 11,
   "id": "dad3afa4",
   "metadata": {},
   "outputs": [
    {
     "name": "stdout",
     "output_type": "stream",
     "text": [
      "La conjugada de A [[ 1.+0.j  0.+4.j]\n",
      " [ 2.+0.j -0.-5.j]\n",
      " [ 3.+0.j  6.+6.j]] es  [[ 1.-0.j  2.-0.j  3.-0.j]\n",
      " [ 0.-4.j -0.+5.j  6.-6.j]]\n"
     ]
    }
   ],
   "source": [
    "# Ejercicio 7-a.\n",
    "A = array([[1, 4j], [2, -5j], [3, 6 +6j]])\n",
    "print(\"La conjugada de A\", A,  \"es \", conjugada(A))"
   ]
  },
  {
   "cell_type": "code",
   "execution_count": 12,
   "id": "c9aa0b12",
   "metadata": {},
   "outputs": [
    {
     "name": "stdout",
     "output_type": "stream",
     "text": [
      "La conjugada de A [1.+0.j 0.+4.j] es  [1.-0.j 0.-4.j]\n"
     ]
    }
   ],
   "source": [
    "# Ejercicio 7-b.\n",
    "B = array([1, 4j])\n",
    "print(\"La conjugada de B\", B,  \"es \", conjugada(B))"
   ]
  },
  {
   "cell_type": "code",
   "execution_count": 13,
   "id": "0dbeee7c",
   "metadata": {},
   "outputs": [
    {
     "name": "stdout",
     "output_type": "stream",
     "text": [
      "La conjugada de C [1 2 3] es  [1 2 3]\n"
     ]
    }
   ],
   "source": [
    "# Ejercicio 7-c.\n",
    "C = array([1, 2, 3])\n",
    "print(\"La conjugada de C\", C,  \"es \", conjugada(C))"
   ]
  },
  {
   "cell_type": "markdown",
   "id": "b2ce9190",
   "metadata": {},
   "source": [
    "<b>Ejercicio 8:</b> definir una función, de nombre <span style=\"font-family: Courier,monospace\">traza()</span>, con un único argumento de entrada que sea una matriz cuadrada y que devuelva la traza de la misma. Comprobar la validez de la función construida calculando las trazas de las matrices\n",
    "$$\n",
    "A = \\left( \\begin{array}{cc} 1 & 4\\,i \\\\ 2 & -5\\,i \\end{array} \\right) \\quad B = \\left( \\begin{array}{cc} 1 & 4\\,i \\\\ 2 & -5\\,i \\\\ 3 & 6+6\\,i \\end{array} \\right)\n",
    "$$"
   ]
  },
  {
   "cell_type": "code",
   "execution_count": 14,
   "id": "77f0ab59",
   "metadata": {},
   "outputs": [
    {
     "name": "stdout",
     "output_type": "stream",
     "text": [
      "La traza de A es (1-5j)\n"
     ]
    }
   ],
   "source": [
    "# Ejercicio 8-a.\n",
    "A = array([[1, 4j], [2, -5j]])\n",
    "print(\"La traza de A es\", traza(A))"
   ]
  },
  {
   "cell_type": "code",
   "execution_count": 15,
   "id": "a3ac5b44",
   "metadata": {},
   "outputs": [
    {
     "name": "stdout",
     "output_type": "stream",
     "text": [
      "La traza de B es (1-5j)\n"
     ]
    }
   ],
   "source": [
    "# Ejercicio 8-b.\n",
    "B = array([[1, 4j], [2, -5j], [3, 6 + 6j]])\n",
    "print(\"La traza de B es\", traza(B))"
   ]
  },
  {
   "cell_type": "markdown",
   "id": "befcb997",
   "metadata": {},
   "source": [
    "Se recuerda que en $\\mathbb{K}^n$, para cada $p\\ge1$, las funciones $\\|\\cdot\\|_p\\colon\\mathbb{K}^n\\to\\mathbb{R}^+/X\\mapsto\\|X\\|_p$, dadas por\n",
    "$$\n",
    "\\|X\\|_p = \\left( \\sum_{i=1}^n |x_i|^p \\right)^{1/p}\\,,\n",
    "$$\n",
    "así como la función $\\|\\cdot\\|_\\infty\\colon\\mathbb{K}^n\\to\\mathbb{R}^+/X\\mapsto\\|X\\|_\\infty$, dada por\n",
    "$$\n",
    "\\|X\\|_\\infty = \\max_{i=1,2,\\ldots,n} |x_i|\\,,\n",
    "$$\n",
    "definen normas vectoriales. Además se demuestra que para todo $X\\in\\mathbb{K}^n$ la sucesión $\\{\\|X\\|_p\\}_{p\\in\\mathbb{N}}$ es convergente y su límite es justamente $\\|X\\|_\\infty$."
   ]
  },
  {
   "cell_type": "markdown",
   "id": "33a236d8",
   "metadata": {},
   "source": [
    "<b>Ejercicio 9:</b> definir una función, de nombre <span style=\"font-family: Courier,monospace\">norma_vec()</span>, con dos argumentos de entrada, el primero un vector o una matriz fila o columna, y el segundo el índice $p$ (número real mayor o igual a 1, o bien la cadena de caracteres <span style=\"font-family: Courier,monospace\">inf</span>), que devuelva la norma vectorial correspondiente. Comparar los resultados obtenidos con los que devuelve el comando <span style=\"font-family: Courier,monospace\">norm()</span>; este comando de <span style=\"font-family: Courier,monospace\">Python</span> tiene los mismos argumentos de entrada que la función creada anteriormente, pero el primer argumento debe ser un vector (<span style=\"font-family: Courier,monospace\">array</span> de 1 dimensión) para que calcule normas vectoriales, a diferencia de la función creada que calcula normas vectoriales tanto de vectores, como de matrices filas o columnas. Comprobar la validez de la función construida calculado diferentes normas vectoriales tanto de un vector, como de una matriz fila o columna; la comparación con la función de <span style=\"font-family: Courier,monospace\">Python</span> solamente se puede hacer con el vector."
   ]
  },
  {
   "cell_type": "markdown",
   "id": "3fb1163f",
   "metadata": {},
   "source": [
    "Para comprobar la validez de la función construida se proponen varios ejemplos, utilizando para ello un vector de elementos enteros, así como una matriz fila y una matriz columna de elementos reales o complejos; se van a poner de mafiesto algunos resultados <i>no deseados</i>. En los ejemplos propuestos se aprovecha también para comparar los resultados con la función de <span style=\"font-family: Courier,monospace\">norm()</span> de <span style=\"font-family: Courier,monospace\">Python</span>; esta función sirve indistintamente para calcular normas vectoriales o matriciales, en función de que se utilice como argumento un vector o una matriz. Es por ello que solamente lo utilizamos con el vector $x$ (y no con las matrices $X$ e $Y$)."
   ]
  },
  {
   "cell_type": "code",
   "execution_count": 16,
   "id": "1f35400c",
   "metadata": {},
   "outputs": [
    {
     "name": "stdout",
     "output_type": "stream",
     "text": [
      "Ejercicio 9.\n",
      "x =  [ 7 -8  9] \n",
      "X =  [[ 7. -8.  9.]] \n",
      "Y =\n",
      "  [[ 0.+7.j]\n",
      " [-0.-8.j]\n",
      " [ 0.+9.j]]\n"
     ]
    }
   ],
   "source": [
    "# Ejercicio 9. Ejemplos de arrays para probar.\n",
    "print(\"Ejercicio 9.\")\n",
    "x = array([7, -8, 9])\n",
    "X = array([[7., -8., 9e0]])\n",
    "Y = array([[7j], [-8j], [9j]])\n",
    "print(\"x = \", x, \"\\nX = \", X, \"\\nY =\\n \", Y)\n"
   ]
  },
  {
   "cell_type": "code",
   "execution_count": 18,
   "id": "46b3cdbb",
   "metadata": {},
   "outputs": [
    {
     "name": "stdout",
     "output_type": "stream",
     "text": [
      "Norma inf (propio):  9.0\n",
      "Norma inf (Python):  24.0\n"
     ]
    }
   ],
   "source": [
    "print(\"Norma inf (propio): \", norma_vec(X, inf))\n",
    "      \n",
    "print(\"Norma inf (Python): \", norm(X, inf))\n",
    "      "
   ]
  },
  {
   "cell_type": "code",
   "execution_count": 19,
   "id": "7504686a",
   "metadata": {},
   "outputs": [
    {
     "name": "stdout",
     "output_type": "stream",
     "text": [
      "Norma 1 (propio):  24.0\n",
      "Norma 1 (Python):  9.0\n"
     ]
    }
   ],
   "source": [
    "print(\"Norma 1 (propio): \", norma_vec(X, 1))\n",
    "      \n",
    "print(\"Norma 1 (Python): \", norm(X, 1))\n",
    "      "
   ]
  },
  {
   "cell_type": "code",
   "execution_count": 20,
   "id": "ee78dff3",
   "metadata": {},
   "outputs": [
    {
     "name": "stdout",
     "output_type": "stream",
     "text": [
      "Norma 2 (propio):  13.92838827718412\n",
      "Norma 2 (Python):  13.928388277184121\n"
     ]
    }
   ],
   "source": [
    "print(\"Norma 2 (propio): \", norma_vec(X, 2))\n",
    "      \n",
    "print(\"Norma 2 (Python): \", norm(X, 2))\n",
    "      "
   ]
  },
  {
   "cell_type": "code",
   "execution_count": 21,
   "id": "e9ffcaa3",
   "metadata": {},
   "outputs": [
    {
     "name": "stdout",
     "output_type": "stream",
     "text": [
      "Norma 10 (propio):  9.300610567954676\n"
     ]
    },
    {
     "ename": "ValueError",
     "evalue": "Invalid norm order for matrices.",
     "output_type": "error",
     "traceback": [
      "\u001b[0;31m---------------------------------------------------------------------------\u001b[0m",
      "\u001b[0;31mValueError\u001b[0m                                Traceback (most recent call last)",
      "\u001b[1;32m/home/juanmagdev/Documentos/Metodos/Practicas/Practica-2.ipynb Cell 36'\u001b[0m in \u001b[0;36m<cell line: 3>\u001b[0;34m()\u001b[0m\n\u001b[1;32m      <a href='vscode-notebook-cell:/home/juanmagdev/Documentos/Metodos/Practicas/Practica-2.ipynb#ch0000035?line=0'>1</a>\u001b[0m \u001b[39mprint\u001b[39m(\u001b[39m\"\u001b[39m\u001b[39mNorma 10 (propio): \u001b[39m\u001b[39m\"\u001b[39m, norma_vec(X, \u001b[39m10\u001b[39m))\n\u001b[0;32m----> <a href='vscode-notebook-cell:/home/juanmagdev/Documentos/Metodos/Practicas/Practica-2.ipynb#ch0000035?line=2'>3</a>\u001b[0m \u001b[39mprint\u001b[39m(\u001b[39m\"\u001b[39m\u001b[39mNorma 10 (Python): \u001b[39m\u001b[39m\"\u001b[39m, norm(X, \u001b[39m10\u001b[39;49m))\n",
      "File \u001b[0;32m<__array_function__ internals>:180\u001b[0m, in \u001b[0;36mnorm\u001b[0;34m(*args, **kwargs)\u001b[0m\n",
      "File \u001b[0;32m/usr/lib/python3.10/site-packages/numpy/linalg/linalg.py:2589\u001b[0m, in \u001b[0;36mnorm\u001b[0;34m(x, ord, axis, keepdims)\u001b[0m\n\u001b[1;32m   <a href='file:///usr/lib/python3.10/site-packages/numpy/linalg/linalg.py?line=2586'>2587</a>\u001b[0m     ret \u001b[39m=\u001b[39m _multi_svd_norm(x, row_axis, col_axis, \u001b[39msum\u001b[39m)\n\u001b[1;32m   <a href='file:///usr/lib/python3.10/site-packages/numpy/linalg/linalg.py?line=2587'>2588</a>\u001b[0m \u001b[39melse\u001b[39;00m:\n\u001b[0;32m-> <a href='file:///usr/lib/python3.10/site-packages/numpy/linalg/linalg.py?line=2588'>2589</a>\u001b[0m     \u001b[39mraise\u001b[39;00m \u001b[39mValueError\u001b[39;00m(\u001b[39m\"\u001b[39m\u001b[39mInvalid norm order for matrices.\u001b[39m\u001b[39m\"\u001b[39m)\n\u001b[1;32m   <a href='file:///usr/lib/python3.10/site-packages/numpy/linalg/linalg.py?line=2589'>2590</a>\u001b[0m \u001b[39mif\u001b[39;00m keepdims:\n\u001b[1;32m   <a href='file:///usr/lib/python3.10/site-packages/numpy/linalg/linalg.py?line=2590'>2591</a>\u001b[0m     ret_shape \u001b[39m=\u001b[39m \u001b[39mlist\u001b[39m(x\u001b[39m.\u001b[39mshape)\n",
      "\u001b[0;31mValueError\u001b[0m: Invalid norm order for matrices."
     ]
    }
   ],
   "source": [
    "print(\"Norma 10 (propio): \", norma_vec(X, 10))\n",
    "      \n",
    "print(\"Norma 10 (Python): \", norm(X, 10))\n",
    "      "
   ]
  },
  {
   "cell_type": "code",
   "execution_count": 22,
   "id": "b3979ff9",
   "metadata": {},
   "outputs": [
    {
     "name": "stdout",
     "output_type": "stream",
     "text": [
      "Norma 95/7 (propio):  9.141188057729725\n"
     ]
    },
    {
     "ename": "ValueError",
     "evalue": "Invalid norm order for matrices.",
     "output_type": "error",
     "traceback": [
      "\u001b[0;31m---------------------------------------------------------------------------\u001b[0m",
      "\u001b[0;31mValueError\u001b[0m                                Traceback (most recent call last)",
      "\u001b[1;32m/home/juanmagdev/Documentos/Metodos/Practicas/Practica-2.ipynb Cell 37'\u001b[0m in \u001b[0;36m<cell line: 3>\u001b[0;34m()\u001b[0m\n\u001b[1;32m      <a href='vscode-notebook-cell:/home/juanmagdev/Documentos/Metodos/Practicas/Practica-2.ipynb#ch0000036?line=0'>1</a>\u001b[0m \u001b[39mprint\u001b[39m(\u001b[39m\"\u001b[39m\u001b[39mNorma 95/7 (propio): \u001b[39m\u001b[39m\"\u001b[39m, norma_vec(X, \u001b[39m95\u001b[39m\u001b[39m/\u001b[39m\u001b[39m7\u001b[39m))\n\u001b[0;32m----> <a href='vscode-notebook-cell:/home/juanmagdev/Documentos/Metodos/Practicas/Practica-2.ipynb#ch0000036?line=2'>3</a>\u001b[0m \u001b[39mprint\u001b[39m(\u001b[39m\"\u001b[39m\u001b[39mNorma 95/7 (Python): \u001b[39m\u001b[39m\"\u001b[39m, norm(X, \u001b[39m95\u001b[39;49m\u001b[39m/\u001b[39;49m\u001b[39m7\u001b[39;49m))\n",
      "File \u001b[0;32m<__array_function__ internals>:180\u001b[0m, in \u001b[0;36mnorm\u001b[0;34m(*args, **kwargs)\u001b[0m\n",
      "File \u001b[0;32m/usr/lib/python3.10/site-packages/numpy/linalg/linalg.py:2589\u001b[0m, in \u001b[0;36mnorm\u001b[0;34m(x, ord, axis, keepdims)\u001b[0m\n\u001b[1;32m   <a href='file:///usr/lib/python3.10/site-packages/numpy/linalg/linalg.py?line=2586'>2587</a>\u001b[0m     ret \u001b[39m=\u001b[39m _multi_svd_norm(x, row_axis, col_axis, \u001b[39msum\u001b[39m)\n\u001b[1;32m   <a href='file:///usr/lib/python3.10/site-packages/numpy/linalg/linalg.py?line=2587'>2588</a>\u001b[0m \u001b[39melse\u001b[39;00m:\n\u001b[0;32m-> <a href='file:///usr/lib/python3.10/site-packages/numpy/linalg/linalg.py?line=2588'>2589</a>\u001b[0m     \u001b[39mraise\u001b[39;00m \u001b[39mValueError\u001b[39;00m(\u001b[39m\"\u001b[39m\u001b[39mInvalid norm order for matrices.\u001b[39m\u001b[39m\"\u001b[39m)\n\u001b[1;32m   <a href='file:///usr/lib/python3.10/site-packages/numpy/linalg/linalg.py?line=2589'>2590</a>\u001b[0m \u001b[39mif\u001b[39;00m keepdims:\n\u001b[1;32m   <a href='file:///usr/lib/python3.10/site-packages/numpy/linalg/linalg.py?line=2590'>2591</a>\u001b[0m     ret_shape \u001b[39m=\u001b[39m \u001b[39mlist\u001b[39m(x\u001b[39m.\u001b[39mshape)\n",
      "\u001b[0;31mValueError\u001b[0m: Invalid norm order for matrices."
     ]
    }
   ],
   "source": [
    "print(\"Norma 95/7 (propio): \", norma_vec(X, 95/7))\n",
    "      \n",
    "print(\"Norma 95/7 (Python): \", norm(X, 95/7))"
   ]
  },
  {
   "cell_type": "markdown",
   "id": "8272835e",
   "metadata": {},
   "source": [
    "\n",
    "Otra anomalía que debería eliminarsees el hecho de que se calcula la norma $-3$, cuando es algo que carece de sentido pues para que las normas $p$ sean efectivamente normas vectoriales se debe verificar que $p\\ge1$ (aunque formalmente se puedan realizar los cálculos correspondientes). Proponemos mejorar la segunda versión nuestro programa para solucionar este problema.\n"
   ]
  },
  {
   "cell_type": "code",
   "execution_count": 23,
   "id": "2fe0d9d1",
   "metadata": {},
   "outputs": [
    {
     "name": "stdout",
     "output_type": "stream",
     "text": [
      "Norma -3 (propio):  Error norma_vec: valor de p.\n",
      "Norma -3 (Python):  5.431641145211984\n"
     ]
    }
   ],
   "source": [
    "print(\"Norma -3 (propio): \", norma_vec(x, -3))\n",
    "      \n",
    "print(\"Norma -3 (Python): \", norm(x, -3))"
   ]
  },
  {
   "cell_type": "markdown",
   "id": "d4dc8979",
   "metadata": {},
   "source": [
    "<b>Ejercicio 10:</b>Construir una función, a la que daremos el nombre de conv_norma_vec(), con un único argumento de entrada que es un vector o una matriz fila o columna. El objetivo de la función es el siguiente: en primer lugar calcula la norma infinita del mismo, y a continuación calcula las normas-p, con 𝑝=1,2,3,…, hasta que el error relativo de estas normas con la norma infinito sea, en valor absoluto, menor que un cierto 𝜀 fijado (por ejemplo 10−10). Dado que tenemos asegurada de forma teórica la convergencia de las normas-p hacia la norma-infinito, este proceso debe terminar en un momento dado. Considerar, por ejemplo, el vector x = array([1ek, 2ek, 3ek]) con 𝑘=0;±10;±100, y analizar los resultados obtenidos. Mejorar, si es posible, la función que calcula las normas vectoriales creada en el ejercicio anterior para solventar los problemas que aparecen. ¿Qué ocurre cuando se considera el vector nulo?"
   ]
  },
  {
   "cell_type": "code",
   "execution_count": 24,
   "id": "26aaec89",
   "metadata": {},
   "outputs": [
    {
     "name": "stdout",
     "output_type": "stream",
     "text": [
      "Convergencia de las normas vectoriales.\n",
      "\n",
      " Vector: X =  [[1]\n",
      " [2]\n",
      " [3]]\n",
      "Norma infinito =  3.0\n",
      "Norma  1  =  6.0  Error relativo =  1.0\n",
      "Norma  2  =  3.741657386773941  Error relativo =  0.24721912892464695\n",
      "Norma  3  =  3.3019272488946267  Error relativo =  0.10064241629820891\n",
      "Norma  4  =  3.1463462836457885  Error relativo =  0.04878209454859617\n",
      "Norma  5  =  3.0773848853940624  Error relativo =  0.025794961798020804\n",
      "Norma  6  =  3.0430102629193057  Error relativo =  0.014336754306435218\n",
      "Norma  7  =  3.0246626009458444  Error relativo =  0.008220866981948127\n",
      "Norma  8  =  3.014443335890572  Error relativo =  0.0048144452968572615\n",
      "Norma  9  =  3.0085886861624296  Error relativo =  0.0028628953874765273\n",
      "Norma  10  =  3.0051673034450284  Error relativo =  0.00172243448167612\n",
      "Norma  11  =  3.003138080795621  Error relativo =  0.0010460269318737225\n",
      "Norma  12  =  3.0019205304905707  Error relativo =  0.0006401768301902422\n",
      "Norma  13  =  3.0011830869383065  Error relativo =  0.0003943623127688293\n",
      "Norma  14  =  3.0007329128267397  Error relativo =  0.00024430427557990225\n",
      "Norma  15  =  3.0004562595337365  Error relativo =  0.00015208651124550462\n",
      "Norma  16  =  3.0002852581175166  Error relativo =  9.50860391721875e-05\n",
      "Norma  17  =  3.0001790263250028  Error relativo =  5.9675441667591166e-05\n",
      "Norma  18  =  3.000112737659368  Error relativo =  3.757921978930767e-05\n",
      "Norma  19  =  3.000071210130062  Error relativo =  2.373671002064981e-05\n",
      "Norma  20  =  3.000045102899552  Error relativo =  1.503429985068768e-05\n",
      "Norma  21  =  3.000028638104433  Error relativo =  9.546034811069859e-06\n",
      "Norma  22  =  3.0000182248211766  Error relativo =  6.074940392212606e-06\n",
      "Norma  23  =  3.000011621869788  Error relativo =  3.873956595956685e-06\n",
      "Norma  24  =  3.0000074251881017  Error relativo =  2.475062700568742e-06\n",
      "Norma  25  =  3.0000047521651734  Error relativo =  1.5840550577905788e-06\n",
      "Norma  26  =  3.000003046278921  Error relativo =  1.0154263070383251e-06\n",
      "Norma  27  =  3.0000019556440853  Error relativo =  6.518813617795161e-07\n",
      "Norma  28  =  3.000001257203306  Error relativo =  4.1906776863479916e-07\n",
      "Norma  29  =  3.000000809235832  Error relativo =  2.697452773740376e-07\n",
      "Norma  30  =  3.0000005215081913  Error relativo =  1.7383606376597527e-07\n",
      "Norma  31  =  3.0000003364571795  Error relativo =  1.1215239315021108e-07\n",
      "Norma  32  =  3.000000217295383  Error relativo =  7.243179434013314e-08\n",
      "Norma  33  =  3.0000001404738352  Error relativo =  4.6824611743545574e-08\n",
      "Norma  34  =  3.000000090894858  Error relativo =  3.0298285954207436e-08\n",
      "Norma  35  =  3.0000000588652505  Error relativo =  1.9621750150614996e-08\n",
      "Norma  36  =  3.0000000381534075  Error relativo =  1.2717802514809288e-08\n",
      "Norma  37  =  3.000000024748158  Error relativo =  8.249386063141628e-09\n",
      "Norma  38  =  3.000000016064594  Error relativo =  5.3548646998062095e-09\n",
      "Norma  39  =  3.000000010435121  Error relativo =  3.4783737371905468e-09\n",
      "Norma  40  =  3.000000006782829  Error relativo =  2.26094298838575e-09\n",
      "Norma  41  =  3.0000000044115964  Error relativo =  1.4705321405017457e-09\n",
      "Norma  42  =  3.0000000028710385  Error relativo =  9.570128393458315e-10\n",
      "Norma  43  =  3.000000001869514  Error relativo =  6.231712923465693e-10\n",
      "Norma  44  =  3.0000000012180164  Error relativo =  4.060054514809508e-10\n",
      "Norma  45  =  3.0000000007939662  Error relativo =  2.6465540869935467e-10\n",
      "Norma  46  =  3.0000000005178036  Error relativo =  1.726011925976915e-10\n",
      "Norma  47  =  3.0000000003378577  Error relativo =  1.1261924726113648e-10\n",
      "Norma  48  =  3.0000000002205462  Error relativo =  7.351541597699907e-11\n",
      "Norma  49  =  3.00000000014403  Error relativo =  4.801004038768042e-11\n",
      "Norma  50  =  3.0000000000940994  Error relativo =  3.136646498091977e-11\n",
      "Norma  51  =  3.000000000061503  Error relativo =  2.050093428351829e-11\n",
      "Norma  52  =  3.000000000040214  Error relativo =  1.3404684769587524e-11\n",
      "Norma  53  =  3.000000000026303  Error relativo =  8.767653270069786e-12\n",
      "Norma  54  =  3.000000000017211  Error relativo =  5.737040472316342e-12\n",
      "Norma  55  =  3.0000000000112648  Error relativo =  3.754922299018896e-12\n",
      "Norma  56  =  3.0000000000073763  Error relativo =  2.45877392520318e-12\n",
      "Norma  57  =  3.000000000004831  Error relativo =  1.610267474916327e-12\n",
      "Norma  58  =  3.0000000000031655  Error relativo =  1.0551559626037488e-12\n",
      "Norma  59  =  3.0000000000020743  Error relativo =  6.914468997365475e-13\n",
      "Norma  60  =  3.00000000000136  Error relativo =  4.5326705352029723e-13\n",
      "Norma  61  =  3.0000000000008917  Error relativo =  2.972437111263086e-13\n",
      "Norma  62  =  3.000000000000585  Error relativo =  1.949551631241775e-13\n",
      "Norma  63  =  3.0000000000003837  Error relativo =  1.2789769243681803e-13\n",
      "Norma  64  =  3.000000000000252  Error relativo =  8.393286066166183e-14\n",
      "Norma  65  =  3.000000000000165  Error relativo =  5.5067062021407764e-14\n",
      "Norma  66  =  3.0000000000001084  Error relativo =  3.611925573447176e-14\n",
      "Norma  67  =  3.000000000000071  Error relativo =  2.3684757858670007e-14\n",
      "Norma  68  =  3.0000000000000466  Error relativo =  1.554312234475219e-14\n",
      "Norma  69  =  3.0000000000000306  Error relativo =  1.021405182655144e-14\n",
      "Norma  70  =  3.00000000000002  Error relativo =  6.661338147750939e-15\n",
      "Norma  71  =  3.0000000000000133  Error relativo =  4.440892098500626e-15\n",
      "Norma  72  =  3.000000000000009  Error relativo =  2.960594732333751e-15\n",
      "Norma  73  =  3.000000000000006  Error relativo =  2.0724163126336257e-15\n",
      "Norma  74  =  3.000000000000004  Error relativo =  1.3322676295501878e-15\n",
      "Norma  75  =  3.0000000000000027  Error relativo =  8.881784197001252e-16\n",
      "Convergencia numérica alcanzada.\n",
      "\n",
      " Vector: X =  [[1.e+10]\n",
      " [2.e+10]\n",
      " [3.e+10]]\n",
      "Norma infinito =  30000000000.0\n",
      "Norma  1  =  60000000000.0  Error relativo =  1.0\n",
      "Norma  2  =  37416573867.73941  Error relativo =  0.247219128924647\n",
      "Norma  3  =  33019272488.946266  Error relativo =  0.10064241629820887\n",
      "Norma  4  =  31463462836.457886  Error relativo =  0.048782094548596194\n",
      "Norma  5  =  30773848853.940628  Error relativo =  0.025794961798020936\n",
      "Norma  6  =  30430102629.193058  Error relativo =  0.014336754306435268\n",
      "Norma  7  =  30246626009.458443  Error relativo =  0.008220866981948089\n",
      "Norma  8  =  30144433358.905716  Error relativo =  0.004814445296857198\n",
      "Norma  9  =  30085886861.624294  Error relativo =  0.002862895387476476\n",
      "Norma  10  =  30051673034.450287  Error relativo =  0.0017224344816762288\n",
      "Norma  11  =  30031380807.95621  Error relativo =  0.001046026931873703\n",
      "Norma  12  =  30019205304.90571  Error relativo =  0.0006401768301902771\n",
      "Norma  13  =  30011830869.383068  Error relativo =  0.0003943623127689362\n",
      "Norma  14  =  30007329128.2674  Error relativo =  0.0002443042755799611\n",
      "Norma  15  =  30004562595.337364  Error relativo =  0.00015208651124547324\n",
      "Norma  16  =  30002852581.175167  Error relativo =  9.508603917223612e-05\n",
      "Norma  17  =  30001790263.250027  Error relativo =  5.967544166755676e-05\n",
      "Norma  18  =  30001127376.593678  Error relativo =  3.757921978925069e-05\n",
      "Norma  19  =  30000712101.30062  Error relativo =  2.3736710020701092e-05\n",
      "Norma  20  =  30000451028.995518  Error relativo =  1.5034299850591024e-05\n",
      "Norma  21  =  30000286381.04433  Error relativo =  9.546034811019898e-06\n",
      "Norma  22  =  30000182248.21177  Error relativo =  6.0749403923034665e-06\n",
      "Norma  23  =  30000116218.69788  Error relativo =  3.873956595993042e-06\n",
      "Norma  24  =  30000074251.881016  Error relativo =  2.4750627005259194e-06\n",
      "Norma  25  =  30000047521.651733  Error relativo =  1.5840550577799479e-06\n",
      "Norma  26  =  30000030462.78921  Error relativo =  1.0154263070424398e-06\n",
      "Norma  27  =  30000019556.440853  Error relativo =  6.518813617706298e-07\n",
      "Norma  28  =  30000012572.033062  Error relativo =  4.190677687327067e-07\n",
      "Norma  29  =  30000008092.358322  Error relativo =  2.6974527740478514e-07\n",
      "Norma  30  =  30000005215.081913  Error relativo =  1.738360637664795e-07\n",
      "Norma  31  =  30000003364.571793  Error relativo =  1.1215239308675131e-07\n",
      "Norma  32  =  30000002172.95383  Error relativo =  7.243179435729981e-08\n",
      "Norma  33  =  30000001404.738354  Error relativo =  4.682461179097493e-08\n",
      "Norma  34  =  30000000908.948578  Error relativo =  3.029828592936198e-08\n",
      "Norma  35  =  30000000588.652508  Error relativo =  1.9621750259399415e-08\n",
      "Norma  36  =  30000000381.534077  Error relativo =  1.2717802556355794e-08\n",
      "Norma  37  =  30000000247.481583  Error relativo =  8.249386088053385e-09\n",
      "Norma  38  =  30000000160.645943  Error relativo =  5.354864756266276e-09\n",
      "Norma  39  =  30000000104.351215  Error relativo =  3.4783738454182944e-09\n",
      "Norma  40  =  30000000067.82829  Error relativo =  2.260942967732747e-09\n",
      "Norma  41  =  30000000044.115963  Error relativo =  1.4705320994059244e-09\n",
      "Norma  42  =  30000000028.71039  Error relativo =  9.57012939453125e-10\n",
      "Norma  43  =  30000000018.695137  Error relativo =  6.231712341308594e-10\n",
      "Norma  44  =  30000000012.180164  Error relativo =  4.0600547790527346e-10\n",
      "Norma  45  =  30000000007.939663  Error relativo =  2.6465543111165367e-10\n",
      "Norma  46  =  30000000005.17804  Error relativo =  1.72601318359375e-10\n",
      "Norma  47  =  30000000003.37858  Error relativo =  1.1261927286783854e-10\n",
      "Norma  48  =  30000000002.205463  Error relativo =  7.351544698079427e-11\n",
      "Norma  49  =  30000000001.4403  Error relativo =  4.800999959309896e-11\n",
      "Norma  50  =  30000000000.940994  Error relativo =  3.136647542317708e-11\n",
      "Norma  51  =  30000000000.61503  Error relativo =  2.0500946044921876e-11\n",
      "Norma  52  =  30000000000.402138  Error relativo =  1.3404591878255208e-11\n",
      "Norma  53  =  30000000000.26303  Error relativo =  8.7677001953125e-12\n",
      "Norma  54  =  30000000000.172108  Error relativo =  5.736923217773437e-12\n",
      "Norma  55  =  30000000000.112648  Error relativo =  3.754933675130208e-12\n",
      "Norma  56  =  30000000000.07376  Error relativo =  2.4586995442708333e-12\n",
      "Norma  57  =  30000000000.04831  Error relativo =  1.6103108723958334e-12\n",
      "Norma  58  =  30000000000.031654  Error relativo =  1.055145263671875e-12\n",
      "Norma  59  =  30000000000.020744  Error relativo =  6.914774576822916e-13\n",
      "Norma  60  =  30000000000.013596  Error relativo =  4.5318603515625e-13\n",
      "Norma  61  =  30000000000.00892  Error relativo =  2.972920735677083e-13\n",
      "Norma  62  =  30000000000.005848  Error relativo =  1.949310302734375e-13\n",
      "Norma  63  =  30000000000.003838  Error relativo =  1.2791951497395834e-13\n",
      "Norma  64  =  30000000000.002518  Error relativo =  8.392333984375e-14\n",
      "Norma  65  =  30000000000.00165  Error relativo =  5.5058797200520834e-14\n",
      "Norma  66  =  30000000000.001087  Error relativo =  3.62396240234375e-14\n",
      "Norma  67  =  30000000000.000713  Error relativo =  2.3778279622395835e-14\n",
      "Norma  68  =  30000000000.000465  Error relativo =  1.5513102213541667e-14\n",
      "Norma  69  =  30000000000.000305  Error relativo =  1.0172526041666666e-14\n",
      "Norma  70  =  30000000000.0002  Error relativo =  6.612141927083333e-15\n",
      "Norma  71  =  30000000000.000134  Error relativo =  4.450480143229166e-15\n",
      "Norma  72  =  30000000000.000088  Error relativo =  2.924601236979167e-15\n",
      "Norma  73  =  30000000000.00006  Error relativo =  2.0345052083333334e-15\n",
      "Norma  74  =  30000000000.00004  Error relativo =  1.2715657552083333e-15\n",
      "Norma  75  =  30000000000.000027  Error relativo =  8.900960286458334e-16\n",
      "Convergencia numérica alcanzada.\n",
      "\n",
      " Vector: X =  [[1.e-10]\n",
      " [2.e-10]\n",
      " [3.e-10]]\n",
      "Norma infinito =  3e-10\n",
      "Norma  1  =  6e-10  Error relativo =  1.0\n",
      "Norma  2  =  3.741657386773942e-10  Error relativo =  0.24721912892464734\n",
      "Norma  3  =  3.301927248894627e-10  Error relativo =  0.10064241629820894\n",
      "Norma  4  =  3.1463462836457886e-10  Error relativo =  0.0487820945485962\n",
      "Norma  5  =  3.0773848853940626e-10  Error relativo =  0.02579496179802086\n",
      "Norma  6  =  3.043010262919306e-10  Error relativo =  0.014336754306435278\n",
      "Norma  7  =  3.0246626009458446e-10  Error relativo =  0.00822086698194821\n",
      "Norma  8  =  3.0144433358905717e-10  Error relativo =  0.004814445296857224\n",
      "Norma  9  =  3.0085886861624297e-10  Error relativo =  0.00286289538747656\n",
      "Norma  10  =  3.0051673034450286e-10  Error relativo =  0.0017224344816762147\n",
      "Norma  11  =  3.003138080795621e-10  Error relativo =  0.0010460269318736887\n",
      "Norma  12  =  3.0019205304905707e-10  Error relativo =  0.0006401768301902487\n",
      "Norma  13  =  3.0011830869383064e-10  Error relativo =  0.00039436231276882016\n",
      "Norma  14  =  3.00073291282674e-10  Error relativo =  0.0002443042755799368\n",
      "Norma  15  =  3.0004562595337365e-10  Error relativo =  0.00015208651124549674\n",
      "Norma  16  =  3.0002852581175167e-10  Error relativo =  9.508603917223947e-05\n",
      "Norma  17  =  3.0001790263250025e-10  Error relativo =  5.9675441667502125e-05\n",
      "Norma  18  =  3.0001127376593677e-10  Error relativo =  3.757921978922462e-05\n",
      "Norma  19  =  3.000071210130062e-10  Error relativo =  2.3736710020648e-05\n",
      "Norma  20  =  3.0000451028995517e-10  Error relativo =  1.5034299850556958e-05\n",
      "Norma  21  =  3.0000286381044334e-10  Error relativo =  9.546034811138176e-06\n",
      "Norma  22  =  3.000018224821177e-10  Error relativo =  6.074940392337531e-06\n",
      "Norma  23  =  3.000011621869788e-10  Error relativo =  3.873956595955223e-06\n",
      "Norma  24  =  3.000007425188102e-10  Error relativo =  2.4750627006313343e-06\n",
      "Norma  25  =  3.000004752165173e-10  Error relativo =  1.5840550577113011e-06\n",
      "Norma  26  =  3.000003046278921e-10  Error relativo =  1.0154263069738905e-06\n",
      "Norma  27  =  3.0000019556440853e-10  Error relativo =  6.518813617816099e-07\n",
      "Norma  28  =  3.0000012572033063e-10  Error relativo =  4.190677687691622e-07\n",
      "Norma  29  =  3.0000008092358323e-10  Error relativo =  2.697452774471737e-07\n",
      "Norma  30  =  3.000000521508191e-10  Error relativo =  1.7383606373824052e-07\n",
      "Norma  31  =  3.0000003364571793e-10  Error relativo =  1.12152393099868e-07\n",
      "Norma  32  =  3.000000217295383e-10  Error relativo =  7.243179426667643e-08\n",
      "Norma  33  =  3.000000140473835e-10  Error relativo =  4.682461170477621e-08\n",
      "Norma  34  =  3.0000000908948574e-10  Error relativo =  3.029828580522507e-08\n",
      "Norma  35  =  3.0000000588652505e-10  Error relativo =  1.9621750178375972e-08\n",
      "Norma  36  =  3.000000038153408e-10  Error relativo =  1.2717802656329294e-08\n",
      "Norma  37  =  3.000000024748158e-10  Error relativo =  8.249386084344205e-09\n",
      "Norma  38  =  3.0000000160645945e-10  Error relativo =  5.3548648477568365e-09\n",
      "Norma  39  =  3.000000010435121e-10  Error relativo =  3.478373747260851e-09\n",
      "Norma  40  =  3.000000006782829e-10  Error relativo =  2.260942935719553e-09\n",
      "Norma  41  =  3.0000000044115967e-10  Error relativo =  1.4705322246874504e-09\n",
      "Norma  42  =  3.000000002871039e-10  Error relativo =  9.570129858771137e-10\n",
      "Norma  43  =  3.000000001869514e-10  Error relativo =  6.231713347861316e-10\n",
      "Norma  44  =  3.000000001218016e-10  Error relativo =  4.0600540471799115e-10\n",
      "Norma  45  =  3.000000000793966e-10  Error relativo =  2.646554030105755e-10\n",
      "Norma  46  =  3.0000000005178037e-10  Error relativo =  1.7260122990825758e-10\n",
      "Norma  47  =  3.000000000337858e-10  Error relativo =  1.1261926176474046e-10\n",
      "Norma  48  =  3.000000000220546e-10  Error relativo =  7.351533228206177e-11\n",
      "Norma  49  =  3.00000000014403e-10  Error relativo =  4.801007974046057e-11\n",
      "Norma  50  =  3.0000000000940995e-10  Error relativo =  3.1366516498716525e-11\n",
      "Norma  51  =  3.000000000061503e-10  Error relativo =  2.0500982164949664e-11\n",
      "Norma  52  =  3.000000000040214e-10  Error relativo =  1.3404634155716096e-11\n",
      "Norma  53  =  3.000000000026303e-10  Error relativo =  8.767597505179248e-12\n",
      "Norma  54  =  3.000000000017211e-10  Error relativo =  5.7370145359380926e-12\n",
      "Norma  55  =  3.000000000011265e-10  Error relativo =  3.755055322402182e-12\n",
      "Norma  56  =  3.000000000007376e-10  Error relativo =  2.4586220415195927e-12\n",
      "Norma  57  =  3.0000000000048307e-10  Error relativo =  1.610244925769894e-12\n",
      "Norma  58  =  3.0000000000031655e-10  Error relativo =  1.055172268887956e-12\n",
      "Norma  59  =  3.000000000002074e-10  Error relativo =  6.913851286589057e-13\n",
      "Norma  60  =  3.0000000000013597e-10  Error relativo =  4.5322604396134643e-13\n",
      "Norma  61  =  3.000000000000892e-10  Error relativo =  2.972680326362443e-13\n",
      "Norma  62  =  3.0000000000005847e-10  Error relativo =  1.9490443183280715e-13\n",
      "Norma  63  =  3.0000000000003836e-10  Error relativo =  1.2786833635715554e-13\n",
      "Norma  64  =  3.000000000000252e-10  Error relativo =  8.392436631527593e-14\n",
      "Norma  65  =  3.0000000000001654e-10  Error relativo =  5.514537417020184e-14\n",
      "Norma  66  =  3.0000000000001085e-10  Error relativo =  3.618915179919496e-14\n",
      "Norma  67  =  3.0000000000000713e-10  Error relativo =  2.3781442610899546e-14\n",
      "Norma  68  =  3.0000000000000465e-10  Error relativo =  1.550963648536927e-14\n",
      "Norma  69  =  3.0000000000000305e-10  Error relativo =  1.0167428362630965e-14\n",
      "Norma  70  =  3.00000000000002e-10  Error relativo =  6.72084247699335e-15\n",
      "Norma  71  =  3.0000000000000134e-10  Error relativo =  4.4805616513289e-15\n",
      "Norma  72  =  3.000000000000009e-10  Error relativo =  2.929598002791973e-15\n",
      "Norma  73  =  3.000000000000006e-10  Error relativo =  2.067951531382569e-15\n",
      "Norma  74  =  3.000000000000004e-10  Error relativo =  1.3786343542550462e-15\n",
      "Norma  75  =  3.0000000000000026e-10  Error relativo =  8.616464714094038e-16\n",
      "Convergencia numérica alcanzada.\n",
      "\n",
      " Vector: X =  [[1.e+100]\n",
      " [2.e+100]\n",
      " [3.e+100]]\n",
      "Norma infinito =  3e+100\n",
      "Norma  1  =  6e+100  Error relativo =  1.0\n",
      "Norma  2  =  3.741657386773942e+100  Error relativo =  0.2472191289246473\n",
      "Norma  3  =  3.3019272488946265e+100  Error relativo =  0.10064241629820889\n",
      "Norma  4  =  3.1463462836457885e+100  Error relativo =  0.0487820945485962\n",
      "Norma  5  =  3.0773848853940623e+100  Error relativo =  0.02579496179802083\n",
      "Norma  6  =  3.0430102629193057e+100  Error relativo =  0.014336754306435273\n",
      "Norma  7  =  3.024662600945844e+100  Error relativo =  0.008220866981948086\n",
      "Norma  8  =  3.0144433358905715e+100  Error relativo =  0.004814445296857212\n",
      "Norma  9  =  3.0085886861624295e+100  Error relativo =  0.002862895387476564\n",
      "Norma  10  =  3.0051673034450286e+100  Error relativo =  0.0017224344816762478\n",
      "Norma  11  =  3.003138080795621e+100  Error relativo =  0.0010460269318737477\n",
      "Norma  12  =  3.0019205304905706e+100  Error relativo =  0.0006401768301902357\n",
      "Norma  13  =  3.0011830869383067e+100  Error relativo =  0.00039436231276895526\n",
      "Norma  14  =  3.00073291282674e+100  Error relativo =  0.00024430427558000303\n",
      "Norma  15  =  3.0004562595337363e+100  Error relativo =  0.0001520865112454699\n",
      "Norma  16  =  3.0002852581175165e+100  Error relativo =  9.508603917220407e-05\n",
      "Norma  17  =  3.0001790263250025e+100  Error relativo =  5.9675441667552534e-05\n",
      "Norma  18  =  3.0001127376593677e+100  Error relativo =  3.757921978929385e-05\n",
      "Norma  19  =  3.000071210130062e+100  Error relativo =  2.37367100206891e-05\n",
      "Norma  20  =  3.000045102899552e+100  Error relativo =  1.5034299850672382e-05\n",
      "Norma  21  =  3.0000286381044332e+100  Error relativo =  9.546034811125163e-06\n",
      "Norma  22  =  3.0000182248211768e+100  Error relativo =  6.0749403923097625e-06\n",
      "Norma  23  =  3.0000116218697877e+100  Error relativo =  3.873956595933393e-06\n",
      "Norma  24  =  3.0000074251881015e+100  Error relativo =  2.4750627005580194e-06\n",
      "Norma  25  =  3.000004752165173e+100  Error relativo =  1.5840550577520277e-06\n",
      "Norma  26  =  3.000003046278921e+100  Error relativo =  1.015426307036909e-06\n",
      "Norma  27  =  3.0000019556440852e+100  Error relativo =  6.518813617935872e-07\n",
      "Norma  28  =  3.000001257203306e+100  Error relativo =  4.1906776871169795e-07\n",
      "Norma  29  =  3.000000809235832e+100  Error relativo =  2.697452774187412e-07\n",
      "Norma  30  =  3.000000521508191e+100  Error relativo =  1.7383606376044626e-07\n",
      "Norma  31  =  3.0000003364571794e+100  Error relativo =  1.121523931753289e-07\n",
      "Norma  32  =  3.000000217295383e+100  Error relativo =  7.243179433864252e-08\n",
      "Norma  33  =  3.000000140473835e+100  Error relativo =  4.6824611700603175e-08\n",
      "Norma  34  =  3.0000000908948574e+100  Error relativo =  3.02982858613246e-08\n",
      "Norma  35  =  3.0000000588652506e+100  Error relativo =  1.9621750233545524e-08\n",
      "Norma  36  =  3.0000000381534077e+100  Error relativo =  1.2717802607449572e-08\n",
      "Norma  37  =  3.000000024748158e+100  Error relativo =  8.249386094656288e-09\n",
      "Norma  38  =  3.000000016064594e+100  Error relativo =  5.354864746547751e-09\n",
      "Norma  39  =  3.000000010435121e+100  Error relativo =  3.4783737767145074e-09\n",
      "Norma  40  =  3.0000000067828287e+100  Error relativo =  2.260942941913304e-09\n",
      "Norma  41  =  3.000000004411596e+100  Error relativo =  1.4705320989811301e-09\n",
      "Norma  42  =  3.0000000028710387e+100  Error relativo =  9.57012961528117e-10\n",
      "Norma  43  =  3.0000000018695137e+100  Error relativo =  6.231712699170616e-10\n",
      "Norma  44  =  3.0000000012180163e+100  Error relativo =  4.0600549490552664e-10\n",
      "Norma  45  =  3.000000000793966e+100  Error relativo =  2.646553521720688e-10\n",
      "Norma  46  =  3.0000000005178035e+100  Error relativo =  1.7260120964639574e-10\n",
      "Norma  47  =  3.0000000003378576e+100  Error relativo =  1.1261923541877463e-10\n",
      "Norma  48  =  3.000000000220546e+100  Error relativo =  7.351538279842242e-11\n",
      "Norma  49  =  3.00000000014403e+100  Error relativo =  4.801008291239082e-11\n",
      "Norma  50  =  3.0000000000940992e+100  Error relativo =  3.13664614451361e-11\n",
      "Norma  51  =  3.000000000061503e+100  Error relativo =  2.050098481965812e-11\n",
      "Norma  52  =  3.000000000040214e+100  Error relativo =  1.3404674378876494e-11\n",
      "Norma  53  =  3.000000000026303e+100  Error relativo =  8.767653244393161e-12\n",
      "Norma  54  =  3.0000000000172107e+100  Error relativo =  5.736960261261541e-12\n",
      "Norma  55  =  3.000000000011265e+100  Error relativo =  3.755049457412853e-12\n",
      "Norma  56  =  3.0000000000073758e+100  Error relativo =  2.458641750000883e-12\n",
      "Norma  57  =  3.0000000000048305e+100  Error relativo =  1.6102134891361661e-12\n",
      "Norma  58  =  3.0000000000031652e+100  Error relativo =  1.0551282309975344e-12\n",
      "Norma  59  =  3.0000000000020742e+100  Error relativo =  6.914606143728779e-13\n",
      "Norma  60  =  3.0000000000013593e+100  Error relativo =  4.531598969265218e-13\n",
      "Norma  61  =  3.000000000000892e+100  Error relativo =  2.9735785177001826e-13\n",
      "Norma  62  =  3.0000000000005846e+100  Error relativo =  1.949144455199815e-13\n",
      "Norma  63  =  3.0000000000003837e+100  Error relativo =  1.279571243679347e-13\n",
      "Norma  64  =  3.0000000000002516e+100  Error relativo =  8.39232961441515e-14\n",
      "Norma  65  =  3.000000000000165e+100  Error relativo =  5.5042285279728995e-14\n",
      "Norma  66  =  3.0000000000001083e+100  Error relativo =  3.613364139539856e-14\n",
      "Norma  67  =  3.000000000000071e+100  Error relativo =  2.3700560485153896e-14\n",
      "Norma  68  =  3.0000000000000465e+100  Error relativo =  1.5541351137805833e-14\n",
      "Norma  69  =  3.0000000000000305e+100  Error relativo =  1.0231389499055506e-14\n",
      "Norma  70  =  3.0000000000000197e+100  Error relativo =  6.605074233567479e-15\n",
      "Norma  71  =  3.000000000000013e+100  Error relativo =  4.403382822378319e-15\n",
      "Norma  72  =  3.0000000000000084e+100  Error relativo =  2.849247708597736e-15\n",
      "Norma  73  =  3.0000000000000057e+100  Error relativo =  1.942668892225729e-15\n",
      "Norma  74  =  3.0000000000000037e+100  Error relativo =  1.2951125948171529e-15\n",
      "Norma  75  =  3.0000000000000026e+100  Error relativo =  9.065788163720069e-16\n",
      "Convergencia numérica alcanzada.\n",
      "\n",
      " Vector: X =  [[1.e-100]\n",
      " [2.e-100]\n",
      " [3.e-100]]\n",
      "Norma infinito =  3e-100\n",
      "Norma  1  =  6e-100  Error absoluto =  3e-100\n",
      "Convergencia numérica alcanzada.\n",
      "\n",
      " Vector: X =  [[0]\n",
      " [0]\n",
      " [0]]\n",
      "Norma infinito =  0.0\n",
      "Norma  1  =  0.0  Error absoluto =  0.0\n",
      "Convergencia numérica alcanzada.\n"
     ]
    }
   ],
   "source": [
    "print(\"Convergencia de las normas vectoriales.\")\n",
    "\n",
    "X = array([[1], [2], [3]])\n",
    "conv_norma_vec(X)\n",
    "\n",
    "X = array([[1e10], [2e10], [3e10]])\n",
    "conv_norma_vec(X)\n",
    "\n",
    "X = array([[1e-10], [2e-10], [3e-10]])\n",
    "conv_norma_vec(X)\n",
    "\n",
    "X = array([[1e100], [2e100], [3e100]])\n",
    "conv_norma_vec(X)\n",
    "\n",
    "X = array([[1e-100], [2e-100], [3e-100]])\n",
    "conv_norma_vec(X)\n",
    "\n",
    "X = array([[0], [0], [0]])\n",
    "conv_norma_vec(X)"
   ]
  }
 ],
 "metadata": {
  "kernelspec": {
   "display_name": "Python 3 (ipykernel)",
   "language": "python",
   "name": "python3"
  },
  "language_info": {
   "codemirror_mode": {
    "name": "ipython",
    "version": 3
   },
   "file_extension": ".py",
   "mimetype": "text/x-python",
   "name": "python",
   "nbconvert_exporter": "python",
   "pygments_lexer": "ipython3",
   "version": "3.10.4"
  }
 },
 "nbformat": 4,
 "nbformat_minor": 5
}
