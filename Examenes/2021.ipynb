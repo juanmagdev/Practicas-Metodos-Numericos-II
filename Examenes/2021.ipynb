{
 "cells": [
  {
   "cell_type": "markdown",
   "metadata": {},
   "source": [
    " <center><span style=\"font-variant:small-caps;font-family: Times New Roman, Times, serif;\"><font size=\"6\">Métodos Numéricos II</font></span></center>\n",
    " <center><span style=\"font-variant:small-caps;font-family: Times New Roman, Times, serif;\"><font size=\"5\">Segundo de Grado en Matemáticas, Curso 2020/21</font></span></center>\n",
    "  <center><span style=\"font-variant:small-caps;font-family: Times New Roman, Times, serif;\"><font size=\"4\">Facultad de Ciencias de la Universidad de Málaga</font></span></center>"
   ]
  },
  {
   "cell_type": "markdown",
   "metadata": {},
   "source": [
    " <center><span style=\"font-weight: bold; font-family: Times New Roman, Times, serif;\"><font size=\"3\">Convocatoria Ordinaria de Junio. 22/06/2021</font></span></center>"
   ]
  },
  {
   "cell_type": "code",
   "execution_count": 1,
   "metadata": {},
   "outputs": [],
   "source": [
    "# Cargamos los módulos necesarios\n",
    "from numpy import *\n",
    "from numpy.linalg import *\n",
    "from numpy import abs, sum, max, min\n",
    "from algoritmos import *  # \\"
   ]
  },
  {
   "cell_type": "markdown",
   "metadata": {},
   "source": [
    "#### Ejercicio 1."
   ]
  },
  {
   "cell_type": "markdown",
   "metadata": {},
   "source": [
    "a) Definir una función en python llamada ```trilpbanda``` que tome como argumentos de entrada $n$ y $p$ y devuelva como salida una matriz de tamaño $n\\times n$, triangular inferior y $p$-semibanda, de manera que los elementos de la diagonal sean 2 y las subdiagonales sean -1 para la primera subdiagonal, -2 para la segunda subdiagonal, y así hasta ser $-p$ la subdiagonal $p$-ésima."
   ]
  },
  {
   "cell_type": "code",
   "execution_count": 3,
   "metadata": {},
   "outputs": [],
   "source": [
    "def trilpbanda(n,p):\n",
    "    A = 2*eye(n)\n",
    "    for i in range(p):\n",
    "        A = A - (i+1)*eye(n, k = -(i+1))\n",
    "    return A\n",
    "# El bucle for i in range(p) va desde 0 hasta p-1, pero como necesitamos que vaya desde 1 a p, sumamos 1 a i en cada\n",
    "# iteración"
   ]
  },
  {
   "cell_type": "markdown",
   "metadata": {},
   "source": [
    "b) Considerar ```A= tripanda(5,3)```, y $B=(2, 1 , -1 , -4 ,-4)^t$. Resolver el sistema $AX=B$ usando el método del ```descenso```."
   ]
  },
  {
   "cell_type": "code",
   "execution_count": 6,
   "metadata": {},
   "outputs": [
    {
     "name": "stdout",
     "output_type": "stream",
     "text": [
      "A = \n",
      "[[ 2.  0.  0.  0.  0.]\n",
      " [-1.  2.  0.  0.  0.]\n",
      " [-2. -1.  2.  0.  0.]\n",
      " [-3. -2. -1.  2.  0.]\n",
      " [ 0. -3. -2. -1.  2.]]\n",
      "\n",
      "B = \n",
      "[[ 2]\n",
      " [ 1]\n",
      " [-1]\n",
      " [-4]\n",
      " [-4]]\n",
      "\n",
      "La solución del sistema AX = B es: X\n",
      "[[1.]\n",
      " [1.]\n",
      " [1.]\n",
      " [1.]\n",
      " [1.]]\n"
     ]
    }
   ],
   "source": [
    "A = trilpbanda(5,3)\n",
    "B = array([[2], [1], [-1], [-4], [-4]])\n",
    "exito, X = descenso(A,B)\n",
    "if exito:\n",
    "    print(\"A = \")\n",
    "    print(A)\n",
    "    print()\n",
    "    print(\"B = \")\n",
    "    print(B)\n",
    "    print()\n",
    "    print(\"La solución del sistema AX = B es: X\")\n",
    "    print(X)\n",
    "    print (\"Hola mi nombre es Juanma\")"
   ]
  },
  {
   "cell_type": "markdown",
   "metadata": {},
   "source": [
    "#### Ejercicio 2.\n",
    "Consideremos la matriz \n",
    "$$A=\\begin{pmatrix}\n",
    " 9 & 1 & 1 & 5 \\\\\n",
    " 1 & 10 & 1 & 9 \\\\\n",
    "1 & 1 & 10 & 1 \\\\\n",
    "5 & 9 & 1 & 10 \n",
    "\\end{pmatrix}$$"
   ]
  },
  {
   "cell_type": "markdown",
   "metadata": {},
   "source": [
    "a) Analizar si esta matriz admite factorización de Cholesky, y en tal caso, resolver mediante el método de Cholesky el sistema $AX=B$ donde $B$ es el el vector $B=(16,21,13,25)^t$"
   ]
  },
  {
   "cell_type": "code",
   "execution_count": 5,
   "metadata": {},
   "outputs": [
    {
     "name": "stdout",
     "output_type": "stream",
     "text": [
      "La matriz acepta factorización de Cholesky y la solución de AX = B es: X = \n",
      "[[1.]\n",
      " [1.]\n",
      " [1.]\n",
      " [1.]]\n"
     ]
    }
   ],
   "source": [
    "A = array([[9,1,1,5], [1,10,1,9], [1,1,10,1], [5,9,1,10]])\n",
    "B = array([[16], [21], [13], [25]])\n",
    "\n",
    "exito, chol = metodo_cholesky(A,B)\n",
    "if exito:\n",
    "    print(\"La matriz acepta factorización de Cholesky y la solución de AX = B es: X = \")\n",
    "    print(chol)"
   ]
  },
  {
   "cell_type": "markdown",
   "metadata": {},
   "source": [
    "b) Se considera el sistema perturbado $\\bar{A}\\bar{X}=B$, donde\n",
    "\n",
    "$$\\bar{X}=X+\\delta X, \\qquad \\bar{A}=A+\\Delta A, \\quad \\text{siendo} \\quad \\Delta{A}=\\verb\"random.rand(4,4)/100\"$$\n",
    "\n",
    "Verificar la desigualdad \n",
    "\n",
    "$$\\frac{\\|\\Delta X\\|_2}{\\|X+\\Delta X\\|_2}\\leq \\text{cond}_2(A) \\frac{\\|\\Delta A\\|_2}{\\|A\\|_2}$$\n",
    "calculando todas las cantidades que aparecen en la misma."
   ]
  },
  {
   "cell_type": "code",
   "execution_count": 10,
   "metadata": {},
   "outputs": [
    {
     "name": "stdout",
     "output_type": "stream",
     "text": [
      "Norma 2 de deltaX:  1.999999999999776\n",
      "Norma 2 de X_:  22.36683208086633\n",
      "Norma 2 de A:  3.233994093357658\n",
      "Norma 2 de inv(A):  1.5830896498638898\n",
      "Norma 2 deltaA:  0.021443011858034624\n",
      "\n",
      "El miembro izquierdo de la desigualdad es:  0.0894181166456144\n",
      "El miembro derecho de la desigualdad es:  0.03394621013436327\n",
      "La desigualdad es:  False\n"
     ]
    }
   ],
   "source": [
    "# La solución del sistema ya la hemos calculado en el apartado anterior, luego X = chol \n",
    "X = chol\n",
    "\n",
    "deltaA = random.rand(4,4)/100\n",
    "A_ = A + deltaA\n",
    "\n",
    "exito, X_ = gauss_pp(A_,B)\n",
    "\n",
    "deltaX = X_ - X\n",
    "\n",
    "norma_deltaX = norma_vec(X, 2)\n",
    "print(\"Norma 2 de deltaX: \",norma_deltaX)\n",
    "norma_X_ = norma_vec(X_,2)\n",
    "print(\"Norma 2 de X_: \",norma_X_)\n",
    "norma_A = norma_mat(A,2)\n",
    "print(\"Norma 2 de A: \",norma_A)\n",
    "norma_invA = norma_vec(inv(A),2)\n",
    "print(\"Norma 2 de inv(A): \",norma_invA)\n",
    "norma_deltaA = norma_mat(deltaA,2)\n",
    "print(\"Norma 2 deltaA: \",norma_deltaA)\n",
    "print()\n",
    "\n",
    "izquierda = norma_deltaX/norma_X_\n",
    "print(\"El miembro izquierdo de la desigualdad es: \",izquierda)\n",
    "derecha = norma_A*norma_invA*norma_deltaA/norma_A\n",
    "print(\"El miembro derecho de la desigualdad es: \",derecha)\n",
    "print(\"La desigualdad es: \",izquierda <= derecha)"
   ]
  },
  {
   "cell_type": "markdown",
   "metadata": {},
   "source": [
    "#### Ejercicio 3\n",
    "Calcular toda la información posible sobre los autovalores y autovectores de la matriz $A$, usando el método de la potencia y sus variantes. Usar como vector inicial el vector $X_0=(1,0,0,0)^t$. Justificar las conclusiones extraídas de la información obtenida.\n",
    "\n",
    "$$A=\\begin{pmatrix}\n",
    " 2& 0 & 0 & 1  \\\\\n",
    " 0 & 1 & 0 & 1\\\\\n",
    "0 & 0 & 3 & 1 \\\\\n",
    "-1 & 0 & 0 &1\n",
    "\\end{pmatrix}$$"
   ]
  },
  {
   "cell_type": "code",
   "execution_count": 3,
   "metadata": {},
   "outputs": [
    {
     "name": "stdout",
     "output_type": "stream",
     "text": [
      "--- Primer autovalor ---\n",
      "\n",
      " Potencia: convergencia numérica alcanzada.\n",
      "\n",
      "\n",
      " Método de la potencia con norma inf.\n",
      "Convergencias de las normas: \n",
      " 2.9999491964572997\n",
      "Convergencias de los cocientes: \n",
      " [ 1.0000000e+00+0.j -5.9048000e+04+0.j  2.9999492e+00+0.j\n",
      "  2.0000000e+00+0.j]\n",
      "Convergencias de los vectores: \n",
      " [[-1.69348010e-05]\n",
      " [ 1.69345142e-05]\n",
      " [-1.00000000e+00]\n",
      " [ 3.38696020e-05]]\n",
      "\n",
      "Aplicando el método de la potencia, deducimos que 3 es el autovalor de mayor módulo de A y su\n",
      "autovector asociado es X = \n",
      "[[-1.69348010e-05]\n",
      " [ 1.69345142e-05]\n",
      " [-1.00000000e+00]\n",
      " [ 3.38696020e-05]]\n",
      "\n",
      "--- Segundo autovalor ---\n",
      "\n",
      " Potenciainv: convergencia numérica alcanzada.\n",
      "\n",
      "\n",
      " Método de la potencia inversa con norma inf.\n",
      "Convergencias de las normas: \n",
      " 0.9999830654857665\n",
      "Convergencias de los cocientes: \n",
      " [-1.00036285e-16+0.j  9.99983065e-01+0.j -1.96826667e+04+0.j\n",
      "  1.00000000e+00+0.j]\n",
      "Convergencias de los vectores: \n",
      " [[ 1.69409458e-21]\n",
      " [-1.00000000e+00]\n",
      " [ 5.64483807e-06]\n",
      " [-1.69348010e-05]]\n",
      "\n",
      "Aplicando el método de la potencia inversa, deducimos que 1 es el autovalor de mayor módulo de inb(A),\n",
      "luego 1 es el autovalor más pequeño y su autovector asociado es X = \n",
      "[[ 1.69409458e-21]\n",
      " [-1.00000000e+00]\n",
      " [ 5.64483807e-06]\n",
      " [-1.69348010e-05]]\n",
      "\n",
      "--- Tercer autovalor ---\n",
      "\n",
      " Potenciainv: convergencia numérica alcanzada.\n",
      "\n",
      "\n",
      " Método de la potencia inversa desplazada con norma inf.\n",
      "Convergencias de las normas: \n",
      " 4.000000001638814\n",
      "Convergencias de los cocientes: \n",
      " [ -0.21826562+0.j  -4.        +0.j  -1.28833291+0.j -16.0158583 +0.j]\n",
      "Convergencias de los vectores: \n",
      " [[ 1.92111977e-11]\n",
      " [-1.00000000e+00]\n",
      " [ 4.05454996e-11]\n",
      " [-1.02425915e-10]]\n",
      "Aplicando el método de la potencia inversa desplaza 1.25, deducimos que 4 es el autovalor de mayor\n",
      "módulo de inv(A - 1.25*Identidad)m luego 1/4 + 1.25 = 1.5 es autovalor de A y su autovector asociado es X = \n",
      "[[ 1.92111977e-11]\n",
      " [-1.00000000e+00]\n",
      " [ 4.05454996e-11]\n",
      " [-1.02425915e-10]]\n",
      "\n",
      "--- Cuarto autovalor ---\n",
      "Nos queda por calcular un úultimo autovalor al que denotaremos h, como sabemos, la traza(A) es la suma\n",
      "de los autovalores de A por tanto:\n",
      "traza(A) = 3 + 1 + 1.5 + h\n",
      "h = 7 - 5.5\n",
      "h = 1.5\n",
      "\n",
      "Por tanto, los autovalores de A son 1, 1.5, 1.5 y 3\n",
      "\n"
     ]
    }
   ],
   "source": [
    "A = array([[2,0,0,1], [0,1,0,1], [0,0,3,1], [-1,0,0,1]])\n",
    "X0 = array([[1], [0], [0], [0]])\n",
    "\n",
    "print(\"--- Primer autovalor ---\")\n",
    "exito, normas, lambdas, X  = potencia(A, X0, inf, 200, 1e-8)\n",
    "print()\n",
    "print(\"\\n Método de la potencia con norma inf.\")\n",
    "if exito:\n",
    "    print(\"Convergencias de las normas: \\n\" ,normas)\n",
    "    print(\"Convergencias de los cocientes: \\n\" ,lambdas)\n",
    "    print(\"Convergencias de los vectores: \\n\" ,X)\n",
    "print()\n",
    "print('''Aplicando el método de la potencia, deducimos que 3 es el autovalor de mayor módulo de A y su\n",
    "autovector asociado es X = ''')\n",
    "print(X)\n",
    "\n",
    "print()\n",
    "print(\"--- Segundo autovalor ---\")\n",
    "exito, normas, lambdas, X  = potenciainv(A, X0, inf, 200, 1e-8)\n",
    "print()\n",
    "print(\"\\n Método de la potencia inversa con norma inf.\")\n",
    "if exito:\n",
    "    print(\"Convergencias de las normas: \\n\" ,normas)\n",
    "    print(\"Convergencias de los cocientes: \\n\" ,lambdas)\n",
    "    print(\"Convergencias de los vectores: \\n\" ,X)\n",
    "print()\n",
    "print('''Aplicando el método de la potencia inversa, deducimos que 1 es el autovalor de mayor módulo de inb(A),\n",
    "luego 1 es el autovalor más pequeño y su autovector asociado es X = ''')\n",
    "print(X)\n",
    "\n",
    "print()\n",
    "print(\"--- Tercer autovalor ---\")\n",
    "exito, normas, lambdas, X  = potenciadesinv(A, X0,1.25, inf, 200, 1e-8)\n",
    "print()\n",
    "print(\"\\n Método de la potencia inversa desplazada con norma inf.\")\n",
    "if exito:\n",
    "    print(\"Convergencias de las normas: \\n\" ,normas)\n",
    "    print(\"Convergencias de los cocientes: \\n\" ,lambdas)\n",
    "    print(\"Convergencias de los vectores: \\n\" ,X)\n",
    "print('''Aplicando el método de la potencia inversa desplaza 1.25, deducimos que 4 es el autovalor de mayor\n",
    "módulo de inv(A - 1.25*Identidad)m luego 1/4 + 1.25 = 1.5 es autovalor de A y su autovector asociado es X = ''')\n",
    "print(X)\n",
    "\n",
    "print()\n",
    "print(\"--- Cuarto autovalor ---\")\n",
    "print('''Nos queda por calcular un úultimo autovalor al que denotaremos h, como sabemos, la traza(A) es la suma\n",
    "de los autovalores de A por tanto:\n",
    "traza(A) = 3 + 1 + 1.5 + h\n",
    "h = 7 - 5.5\n",
    "h = 1.5\n",
    "\n",
    "Por tanto, los autovalores de A son 1, 1.5, 1.5 y 3\n",
    "''')"
   ]
  }
 ],
 "metadata": {
  "kernelspec": {
   "display_name": "Python 3",
   "language": "python",
   "name": "python3"
  },
  "language_info": {
   "codemirror_mode": {
    "name": "ipython",
    "version": 3
   },
   "file_extension": ".py",
   "mimetype": "text/x-python",
   "name": "python",
   "nbconvert_exporter": "python",
   "pygments_lexer": "ipython3",
   "version": "3.10.4"
  }
 },
 "nbformat": 4,
 "nbformat_minor": 4
}
