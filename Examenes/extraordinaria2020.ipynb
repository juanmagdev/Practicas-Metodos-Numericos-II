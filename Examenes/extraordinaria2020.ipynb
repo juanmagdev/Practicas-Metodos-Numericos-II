{
 "cells": [
  {
   "cell_type": "code",
   "execution_count": 2,
   "metadata": {},
   "outputs": [],
   "source": [
    "from numpy import *\n",
    "from numpy.linalg import *\n",
    "from numpy import abs, sum, max, min\n",
    "from algoritmos import *"
   ]
  },
  {
   "cell_type": "markdown",
   "metadata": {},
   "source": [
    "Se considera el sistema lineal $AX = B$, donde\n",
    "\n",
    "$$A=\\begin{pmatrix}\n",
    " 1 & 2 & 3 & 4 \\\\\n",
    " 2 & 9 & 12 & 15 \\\\\n",
    "3 & 26 & 41 & 49 \\\\\n",
    "5 & 40 & 107 & 135 \n",
    "\\end{pmatrix}$$\n",
    "\n",
    "$$B=\\begin{pmatrix}\n",
    " 20 \\\\\n",
    " 74 \\\\\n",
    " 221 \\\\\n",
    "489 \n",
    "\\end{pmatrix}$$"
   ]
  },
  {
   "cell_type": "markdown",
   "metadata": {},
   "source": [
    "1. Calcular el sistema lineal dado"
   ]
  },
  {
   "cell_type": "code",
   "execution_count": 28,
   "metadata": {},
   "outputs": [
    {
     "name": "stdout",
     "output_type": "stream",
     "text": [
      "A: \n",
      "[[  1   2   3   4]\n",
      " [  2   9  12  15]\n",
      " [  3  26  41  49]\n",
      " [  5  40 107 135]]\n",
      "B: \n",
      "[[ 20]\n",
      " [ 74]\n",
      " [221]\n",
      " [489]]\n",
      "La solucion es X:\n",
      "[[4.]\n",
      " [3.]\n",
      " [2.]\n",
      " [1.]]\n"
     ]
    }
   ],
   "source": [
    "A = array([[1, 2, 3, 4], [2, 9, 12, 15], [3, 26, 41, 49], [5, 40, 107, 135]])\n",
    "print(\"A: \")\n",
    "print(A)\n",
    "B = array([[20], [74], [221], [489]])\n",
    "print(\"B: \")\n",
    "print(B)\n",
    "\n",
    "exito, X = gaussjordan_1p(A, B)\n",
    "\n",
    "if exito:\n",
    "    print(\"La solucion es X:\")\n",
    "    print(X)"
   ]
  },
  {
   "cell_type": "markdown",
   "metadata": {},
   "source": [
    "2. Calcular la inversa de esta matriz"
   ]
  },
  {
   "cell_type": "code",
   "execution_count": 29,
   "metadata": {},
   "outputs": [
    {
     "name": "stdout",
     "output_type": "stream",
     "text": [
      "La inversa de A es: \n",
      "[[ 2.895  -1.255   0.2925 -0.0525]\n",
      " [-1.01    0.69   -0.115  -0.005 ]\n",
      " [ 3.775  -2.975   0.9125 -0.1125]\n",
      " [-2.8     2.2    -0.7     0.1   ]]\n",
      "\n",
      " Usando el Metodo de Gauus, con B= I, la inversa de A es: \n",
      "[[ 2.895  -1.255   0.2925 -0.0525]\n",
      " [-1.01    0.69   -0.115  -0.005 ]\n",
      " [ 3.775  -2.975   0.9125 -0.1125]\n",
      " [-2.8     2.2    -0.7     0.1   ]]\n"
     ]
    }
   ],
   "source": [
    "print(\"La inversa de A es: \")\n",
    "print(inv(A))\n",
    "\n",
    "print(\"\\n Usando el Metodo de Gauus, con B= I, la inversa de A es: \")\n",
    "I = eye(shape(A)[0])\n",
    "exito, A_ = gaussjordan_pp(A, I)\n",
    "if exito: \n",
    "    print(A_)"
   ]
  },
  {
   "cell_type": "markdown",
   "metadata": {},
   "source": [
    "3. Calcular, si existen, las matrices L y U de la factorización LU de la matriz A.  "
   ]
  },
  {
   "cell_type": "code",
   "execution_count": 30,
   "metadata": {},
   "outputs": [
    {
     "name": "stdout",
     "output_type": "stream",
     "text": [
      "La factorizacion LU existe\n",
      "La matriz L es: \n",
      "[[1. 0. 0. 0.]\n",
      " [2. 1. 0. 0.]\n",
      " [3. 4. 1. 0.]\n",
      " [5. 6. 7. 1.]]\n",
      "La matriz U es: \n",
      "[[ 1.  2.  3.  4.]\n",
      " [ 0.  5.  6.  7.]\n",
      " [ 0.  0.  8.  9.]\n",
      " [ 0.  0.  0. 10.]]\n"
     ]
    }
   ],
   "source": [
    "exito, lu = facto_lu(A)\n",
    "\n",
    "if exito:\n",
    "    print(\"La factorizacion LU existe\")\n",
    "    L = tril(lu, k = -1) + eye(shape(A)[0])\n",
    "    U = triu(lu)\n",
    "    print(\"La matriz L es: \")\n",
    "    print(L)\n",
    "    print(\"La matriz U es: \")\n",
    "    print(U)"
   ]
  },
  {
   "cell_type": "markdown",
   "metadata": {},
   "source": [
    "4. Calcular, si existe, la matriz C de la factorización de Cholescky de la matriz A."
   ]
  },
  {
   "cell_type": "code",
   "execution_count": 31,
   "metadata": {},
   "outputs": [
    {
     "name": "stdout",
     "output_type": "stream",
     "text": [
      "La matriz del metodo Cholescky es: \n",
      "[[1.         0.         0.         0.        ]\n",
      " [2.         2.23606798 0.         0.        ]\n",
      " [3.         2.68328157 4.97995984 0.        ]\n",
      " [4.         3.13049517 5.7430182  8.73027731]]\n"
     ]
    }
   ],
   "source": [
    "exito, c = facto_cholesky(A)\n",
    "if exito:\n",
    "    print(\"La matriz del metodo Cholescky es: \")\n",
    "    print(tril(c))"
   ]
  },
  {
   "cell_type": "markdown",
   "metadata": {},
   "source": [
    "5. Utilizar el metodo de la potencia (o alguna de sus variantes) para calcular el autovalor de modulo mayor de A."
   ]
  },
  {
   "cell_type": "code",
   "execution_count": 33,
   "metadata": {},
   "outputs": [
    {
     "name": "stdout",
     "output_type": "stream",
     "text": [
      "[179.85167083+0.j           0.25541588+0.j\n",
      "   2.94645664+0.16117144j   2.94645664-0.16117144j]\n",
      "\n",
      "-------------------------Potencia-----------------------\n",
      "\n",
      "\n",
      " Potencia: convergencia numérica alcanzada.\n",
      "\n",
      "Convergencia de las normas:\n",
      "179.85167083374157\n",
      "\n",
      "Convergencia de los cocientes:\n",
      "[179.85167083+0.j 179.85167083+0.j 179.85167083+0.j 179.85167083+0.j]\n",
      "\n",
      "convergencia de los vectores:\n",
      "[[0.02993487]\n",
      " [0.11448298]\n",
      " [0.37497829]\n",
      " [1.        ]]\n",
      "\n",
      "De aqui deducimos que 1040.91 es autovalor de A\n"
     ]
    }
   ],
   "source": [
    "#Método de la potencia\n",
    "print(eig(A)[0])\n",
    "X0 = array([[0], [1],[0],[0]])\n",
    "print(\"\\n-------------------------Potencia-----------------------\\n\")\n",
    "exito, normas, lambdas, X = potencia(A, X0, inf, 200, 1e-15)\n",
    "\n",
    "if exito:\n",
    "    print(\"\\nConvergencia de las normas:\")\n",
    "    print(normas)\n",
    "    print(\"\\nConvergencia de los cocientes:\")\n",
    "    print(lambdas)\n",
    "    print(\"\\nconvergencia de los vectores:\")\n",
    "    print(X)\n",
    "else:\n",
    "    print(normas)\n",
    "\n",
    "print(\"\\nDe aqui deducimos que 179.85167083 es autovalor de A\")"
   ]
  },
  {
   "cell_type": "markdown",
   "metadata": {},
   "source": [
    "6. Utilizar el metodo de la potencia (o alguna de sus variantes) para calcular el autovalor de modulo menor de A."
   ]
  },
  {
   "cell_type": "code",
   "execution_count": 38,
   "metadata": {},
   "outputs": [
    {
     "name": "stdout",
     "output_type": "stream",
     "text": [
      "\n",
      "-------------------------Potencia Inversa-----------------------\n",
      "\n",
      "\n",
      " Potenciainv: convergencia numérica alcanzada.\n",
      "\n",
      "Convergencia de las normas:\n",
      "3.915183374039974\n",
      "\n",
      "Convergencia de los cocientes:\n",
      "[3.91518337+0.j 3.91518337+0.j 3.91518337+0.j 3.91518337+0.j]\n",
      "\n",
      "convergencia de los vectores:\n",
      "[[-0.59822576]\n",
      " [ 0.22183415]\n",
      " [-1.        ]\n",
      " [ 0.75044027]]\n",
      "\n",
      "De aqui deducimos que 3.91518337 es autovalor de inv(A), luego  0.2554158785160553 es autovalor de A\n",
      "Por ahora tenemos que 179.85167083 el autovalor mayor y que  0.2554158785160553  es el menor, luego dentro de ese rango se encuentran los demas\n"
     ]
    }
   ],
   "source": [
    "print(\"\\n-------------------------Potencia Inversa-----------------------\\n\")\n",
    "exito, normas, lambdas, X = potenciainv(A, X0, inf, 200, 1e-15)\n",
    "\n",
    "if exito:\n",
    "    print(\"\\nConvergencia de las normas:\")\n",
    "    print(normas)\n",
    "    print(\"\\nConvergencia de los cocientes:\")\n",
    "    print(lambdas)\n",
    "    print(\"\\nconvergencia de los vectores:\")\n",
    "    print(X)\n",
    "else:\n",
    "    print(normas)\n",
    "\n",
    "print(\"\\nDe aqui deducimos que 3.91518337 es autovalor de inv(A), luego \", 1/3.91518337, \"es autovalor de A\")\n",
    "print(\"Por ahora tenemos que 179.85167083 el autovalor mayor y que \", 1/3.91518337, \" es el menor, luego dentro de ese rango se encuentran los demas\")"
   ]
  },
  {
   "cell_type": "markdown",
   "metadata": {},
   "source": [
    "7. Calcular $||A||_1$, $||A||_2$, $||A||_\\infty$"
   ]
  },
  {
   "cell_type": "code",
   "execution_count": 39,
   "metadata": {},
   "outputs": [
    {
     "name": "stdout",
     "output_type": "stream",
     "text": [
      "La norma 1 de A es:  203.0\n",
      "La norma 2 de A es:  190.8524857443097\n",
      "La norma inf de A es:  287.0\n"
     ]
    }
   ],
   "source": [
    "print(\"La norma 1 de A es: \", norma_mat(A, 1))\n",
    "print(\"La norma 2 de A es: \", norma_mat(A, 2))\n",
    "print(\"La norma inf de A es: \", norma_mat(A, inf))"
   ]
  },
  {
   "cell_type": "markdown",
   "metadata": {},
   "source": [
    "8. Calcular el $cond_1(A)$, $cond_2(A)$, $cond_\\infty(A)$"
   ]
  },
  {
   "cell_type": "code",
   "execution_count": 41,
   "metadata": {},
   "outputs": [
    {
     "name": "stdout",
     "output_type": "stream",
     "text": [
      "El cond1(A) =  2127.4399999999523\n",
      "El cond2(A) =  1323.4641434701864\n",
      "El condInf(A) =  2231.4249999999424\n"
     ]
    }
   ],
   "source": [
    "A_ = inv(A)\n",
    "print(\"El cond1(A) = \", norma_mat(A, 1)*norma_mat(A_, 1))\n",
    "print(\"El cond2(A) = \", norma_mat(A, 2)*norma_mat(A_, 2))\n",
    "print(\"El condInf(A) = \", norma_mat(A, inf)*norma_mat(A_, inf))"
   ]
  },
  {
   "cell_type": "markdown",
   "metadata": {},
   "source": [
    "9. Utilizando el metodo de la potencia y sus variantes, calcular toda la información posible sobre los autovalores y autovectores de: \n",
    "\n",
    "$$A=\\begin{pmatrix}\n",
    " 8 & -8 & 0 & 4 & 4 \\\\\n",
    " 16 & 0 & -8 & -4 & -4 \\\\\n",
    "18 & -14 & 2 & -2 & -2 \\\\\n",
    "19 & -13 & -5 & 3 & -1 \\\\\n",
    "19 & -13 & -5 & -1 & 3 \\\\ \n",
    "\\end{pmatrix}$$"
   ]
  },
  {
   "cell_type": "code",
   "execution_count": 33,
   "metadata": {},
   "outputs": [
    {
     "name": "stdout",
     "output_type": "stream",
     "text": [
      "[-16.  16.   4.   8.   4.]\n",
      "\n",
      "-------------------------Potencia-----------------------\n",
      "\n",
      "ERROR potencia: no se alcanza convergencia.\n",
      "\n",
      "De aqui no deducimos nada\n",
      "\n",
      "-------------------------Potencia inversa-----------------------\n",
      "\n",
      "\n",
      " Potenciainv: convergencia numérica alcanzada.\n",
      "\n",
      "Convergencia de las normas:\n",
      "0.25000000000000056\n",
      "\n",
      "Convergencia de los cocientes:\n",
      "[0.25+0.j 0.25+0.j 0.25+0.j 0.25+0.j 0.25+0.j]\n",
      "\n",
      "convergencia de los vectores:\n",
      "[[ 0.66666667]\n",
      " [ 0.66666667]\n",
      " [ 0.66666667]\n",
      " [-0.33333333]\n",
      " [ 1.        ]]\n",
      "\n",
      "De aqui deducimos que 1/4 es autovalor de inv(A), luego 4 es autovalor de A\n",
      "\n",
      "-------------------------Potencia desplazada 10-----------------------\n",
      "\n",
      "\n",
      " Potencia: convergencia numérica alcanzada.\n",
      "\n",
      "Convergencia de las normas:\n",
      "26.0\n",
      "\n",
      "Convergencia de los cocientes:\n",
      "[  0.+0.j -26.+0.j -26.+0.j -26.+0.j -26.+0.j]\n",
      "\n",
      "convergencia de los vectores:\n",
      "[[ 0.]\n",
      " [-1.]\n",
      " [-1.]\n",
      " [-1.]\n",
      " [-1.]]\n",
      "\n",
      "De aqui deducimos que -26 es autovalor de A desplazada 10, luego -16 es atuvalor de A\n",
      "\n",
      "-------------------------Potencia inversa desplazada 7-----------------------\n",
      "\n",
      "\n",
      " Potenciainv: convergencia numérica alcanzada.\n",
      "\n",
      "Convergencia de las normas:\n",
      "1.0000000000000027\n",
      "\n",
      "Convergencia de los cocientes:\n",
      "[1.        +0.j 1.        +0.j 0.94545455+0.j 1.        +0.j\n",
      " 1.        +0.j]\n",
      "\n",
      "convergencia de los vectores:\n",
      "[[-1.00000000e+00]\n",
      " [-1.00000000e+00]\n",
      " [-3.21173484e-15]\n",
      " [-1.00000000e+00]\n",
      " [-1.00000000e+00]]\n",
      "\n",
      "De aqui deducimos que 1/1 es autovalor de A desplazada 10, luego 1 + 7=8 es atuvalor de A\n",
      "\n",
      "-------------------------Potencia inversa desplazada 15-----------------------\n",
      "\n",
      "\n",
      " Potenciainv: convergencia numérica alcanzada.\n",
      "\n",
      "Convergencia de las normas:\n",
      "0.9999999999999981\n",
      "\n",
      "Convergencia de los cocientes:\n",
      "[1.+0.j 0.+0.j 1.+0.j 1.+0.j 1.+0.j]\n",
      "\n",
      "convergencia de los vectores:\n",
      "[[ 1.00000000e+00]\n",
      " [-2.00126039e-16]\n",
      " [ 1.00000000e+00]\n",
      " [ 1.00000000e+00]\n",
      " [ 1.00000000e+00]]\n",
      "\n",
      "De aqui deducimos que 1/1 es autovalor de A desplazada 15, luego 1 + 15=16 es atuvalor de A\n",
      "Luego tenemos de autovalores 4, 16, -16, 8\n",
      "Para el ultimo autvalor calculamos la traza: 16  que es la suma de sus autovalroes. Luego el autuvalor que falta es 4\n",
      "Por tanto, todos los autovalores son: -16.  16.   4.   8.   4.\n"
     ]
    }
   ],
   "source": [
    "A = array([[8, -8, 0, 4, 4], [16, 0, -8, -4, -4], [18, -14, 2, -2, -2], [19, -13, -5, 3, -1], [19, -13, -5, -1, 3]])\n",
    "print(eig(A)[0])\n",
    "\n",
    "X0 = array([[1], [0], [1], [0], [1]])\n",
    "\n",
    "#Método de la potencia\n",
    "print(\"\\n-------------------------Potencia-----------------------\\n\")\n",
    "exito, normas, lambdas, X = potencia(A, X0, inf, 200, 1e-15)\n",
    "\n",
    "if exito:\n",
    "    print(\"\\nConvergencia de las normas:\")\n",
    "    print(normas)\n",
    "    print(\"\\nConvergencia de los cocientes:\")\n",
    "    print(lambdas)\n",
    "    print(\"\\nconvergencia de los vectores:\")\n",
    "    print(X)\n",
    "else:\n",
    "    print(normas)\n",
    "\n",
    "print(\"\\nDe aqui no deducimos nada\")\n",
    "\n",
    "#Método de la potencia inversa\n",
    "print(\"\\n-------------------------Potencia inversa-----------------------\\n\")\n",
    "exito, normas, lambdas, X = potenciainv(A, X0, inf, 200, 1e-15)\n",
    "\n",
    "if exito:\n",
    "    print(\"\\nConvergencia de las normas:\")\n",
    "    print(normas)\n",
    "    print(\"\\nConvergencia de los cocientes:\")\n",
    "    print(lambdas)\n",
    "    print(\"\\nconvergencia de los vectores:\")\n",
    "    print(X)\n",
    "else:\n",
    "    print(normas)\n",
    "\n",
    "print(\"\\nDe aqui deducimos que 1/4 es autovalor de inv(A), luego 4 es autovalor de A\")\n",
    "\n",
    "print(\"\\n-------------------------Potencia desplazada 10-----------------------\\n\")\n",
    "exito, normas, lambdas, X = potenciades(A, X0,10, inf, 200, 1e-15)\n",
    "\n",
    "if exito:\n",
    "    print(\"\\nConvergencia de las normas:\")\n",
    "    print(normas)\n",
    "    print(\"\\nConvergencia de los cocientes:\")\n",
    "    print(lambdas)\n",
    "    print(\"\\nconvergencia de los vectores:\")\n",
    "    print(X)\n",
    "else:\n",
    "    print(normas)\n",
    "\n",
    "print(\"\\nDe aqui deducimos que -26 es autovalor de A desplazada 10, luego -16 es atuvalor de A\")\n",
    "\n",
    "print(\"\\n-------------------------Potencia inversa desplazada 7-----------------------\\n\")\n",
    "exito, normas, lambdas, X = potenciadesinv(A, X0,7, inf, 200, 1e-15)\n",
    "\n",
    "if exito:\n",
    "    print(\"\\nConvergencia de las normas:\")\n",
    "    print(normas)\n",
    "    print(\"\\nConvergencia de los cocientes:\")\n",
    "    print(lambdas)\n",
    "    print(\"\\nconvergencia de los vectores:\")\n",
    "    print(X)\n",
    "else:\n",
    "    print(normas)\n",
    "\n",
    "print(\"\\nDe aqui deducimos que 1/1 es autovalor de A desplazada 10, luego 1 + 7=8 es atuvalor de A\")\n",
    "\n",
    "print(\"\\n-------------------------Potencia inversa desplazada 15-----------------------\\n\")\n",
    "exito, normas, lambdas, X = potenciadesinv(A, X0,15, inf, 200, 1e-15)\n",
    "\n",
    "if exito:\n",
    "    print(\"\\nConvergencia de las normas:\")\n",
    "    print(normas)\n",
    "    print(\"\\nConvergencia de los cocientes:\")\n",
    "    print(lambdas)\n",
    "    print(\"\\nconvergencia de los vectores:\")\n",
    "    print(X)\n",
    "else:\n",
    "    print(normas)\n",
    "\n",
    "print(\"\\nDe aqui deducimos que 1/1 es autovalor de A desplazada 15, luego 1 + 15=16 es atuvalor de A\")\n",
    "\n",
    "print(\"Luego tenemos de autovalores 4, 16, -16, 8\")\n",
    "print(\"Para el ultimo autvalor calculamos la traza:\", trace(A), \" que es la suma de sus autovalroes. Luego el autuvalor que falta es 4\")\n",
    "print(\"Por tanto, todos los autovalores son: -16.  16.   4.   8.   4.\")\n",
    "\n"
   ]
  }
 ],
 "metadata": {
  "interpreter": {
   "hash": "e7370f93d1d0cde622a1f8e1c04877d8463912d04d973331ad4851f04de6915a"
  },
  "kernelspec": {
   "display_name": "Python 3.10.4 64-bit",
   "language": "python",
   "name": "python3"
  },
  "language_info": {
   "codemirror_mode": {
    "name": "ipython",
    "version": 3
   },
   "file_extension": ".py",
   "mimetype": "text/x-python",
   "name": "python",
   "nbconvert_exporter": "python",
   "pygments_lexer": "ipython3",
   "version": "3.10.4"
  },
  "orig_nbformat": 4
 },
 "nbformat": 4,
 "nbformat_minor": 2
}
