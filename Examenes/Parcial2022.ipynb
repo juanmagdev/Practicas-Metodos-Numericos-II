{
 "cells": [
  {
   "cell_type": "markdown",
   "id": "37704d42",
   "metadata": {},
   "source": [
    "<div align=\"center\"><span style=\"font-family: Arial,Helvetica,sans-serif; color:#0000FF\"><b>\n",
    "    <span style=\"font-size: x-large\">Métodos Numéricos II</span>\n",
    "    <br>\n",
    "    <span style=\"font-size: large\">Segundo de Grado en Matemáticas - Curso 2021/22</span>\n",
    "    <br>\n",
    "    Facultad de Ciencias de la Universidad de Málaga\n",
    "    <br>\n",
    "    <span style=\"font-size: small\">Dpto. de Análisis Matemático, Estadística e Investigación Operativa, y Matemática Aplicada</span>\n",
    "    <br>\n",
    "    <span style=\"font-size: small\">Profs. Manuel J. Castro, María López y Francisco J. Palma (Área Conocimiento de Matemática Aplicada)</span>\n",
    "    <br>\n",
    "    <span style=\"color:#FF0000\">Control de prácticas. 10 de junio de 2022.</span>\n",
    "    </b></span></div>"
   ]
  },
  {
   "cell_type": "markdown",
   "id": "2ecfc284",
   "metadata": {},
   "source": [
    "<div align=\"justify\"><span style=\"font-family: Arial,Helvetica,sans-serif; font-size: medium; color:#000000\">\n",
    "    Escribe en la siguiente celda tu <span style=\"color:#FF0000\"><b>nombre y apellidos</b></span>.\n",
    "    </span></div>"
   ]
  },
  {
   "cell_type": "markdown",
   "id": "d8ec7ea9",
   "metadata": {},
   "source": [
    "Juan Manuel García Delgado"
   ]
  },
  {
   "cell_type": "code",
   "execution_count": null,
   "id": "206c7680",
   "metadata": {},
   "outputs": [],
   "source": []
  },
  {
   "cell_type": "markdown",
   "id": "2c8324c5",
   "metadata": {},
   "source": [
    "<div align=\"justify\"><span style=\"font-family: Arial,Helvetica,sans-serif; font-size: medium; color:#000000\">\n",
    "    <span style=\"color:#FF0000\"><b>Importa </b></span> el fichero <span style=\"font-family: Courier,monospace\">algoritmos.py</span> en los que estén guardados los programas que vayas a utilizar.\n",
    "    </span></div>"
   ]
  },
  {
   "cell_type": "code",
   "execution_count": 1,
   "id": "4a9eeb10",
   "metadata": {},
   "outputs": [],
   "source": [
    "from algoritmos import *"
   ]
  },
  {
   "cell_type": "code",
   "execution_count": null,
   "id": "ccd87268",
   "metadata": {},
   "outputs": [],
   "source": []
  },
  {
   "cell_type": "markdown",
   "id": "0d7a75f7",
   "metadata": {},
   "source": [
    "<div align=\"justify\"><span style=\"font-family: Arial,Helvetica,sans-serif; font-size: medium; color:#000000\">\n",
    "    Dado $n\\in\\mathbb{N}$, llamamos <b>$n$-ésima matriz de Wilkinson</b> a la matriz tridiagonal de orden $\\mathcal{M}_{2n+1}(\\mathbb{C})$, cuyos elementos diagonales son (en ese orden) los elementos del vector\n",
    "\\[\n",
    "X = ( \\, n \\,,\\, n-1 \\,,\\, \\cdots \\,,\\, 1 \\,,\\, 0 \\,,\\, 1 \\,,\\, \\cdots \\,,\\, n-1 \\,,\\, n \\, )\n",
    "\\]\n",
    "y cuyos elementos de la sub y supra-diagonal son todos iguales a 1.\n",
    "    </span></div>"
   ]
  },
  {
   "cell_type": "code",
   "execution_count": null,
   "id": "4001d285",
   "metadata": {},
   "outputs": [],
   "source": []
  },
  {
   "cell_type": "markdown",
   "id": "ce302d15",
   "metadata": {},
   "source": [
    "<div align=\"justify\"><span style=\"font-family: Arial,Helvetica,sans-serif; font-size: medium; color:#000000\">\n",
    "    <span style=\"color:#FF0000\"><b>Ejercicio 1.</b></span> Elabora un programa de nombre <span style=\"font-family: Courier,monospace\">wilkinson()</span>, con un único argumento de entrada que es el valor de $n$, y que devuelva la $n$-matriz de Wilkinson correspondiente.\n",
    "    <br>\n",
    "    Comprueba la validez del programa elaborado imprimiendo la 3-matriz de Wilkinson, a la que llamaremos $A$.\n",
    "    </span></div>"
   ]
  },
  {
   "cell_type": "markdown",
   "id": "6c01f2e0",
   "metadata": {},
   "source": [
    "<div align=\"justify\"><span style=\"font-family: Arial,Helvetica,sans-serif; font-size: medium; color:#000000\">\n",
    "    <b>Observación.</b> Esta 3-matriz de Wilkinson, que denotamos por $A$, será utilizada en los ejercicios que siguen, por lo que, en caso de que no sea posible construirla mediante el programa pedido para $n=3$, deberá ser construida manualmente. Evidentemente será valorado positivamente el que pueda hacerse mediante el programa genérico y no manualmente.\n",
    "    </span></div>"
   ]
  },
  {
   "cell_type": "code",
   "execution_count": 2,
   "id": "c132fdf2",
   "metadata": {},
   "outputs": [],
   "source": [
    "def wilkinson(n):\n",
    "    d = []\n",
    "    for i in range(n):\n",
    "        d.append(n-i)\n",
    "        \n",
    "    for i in range(n):\n",
    "        d.append(i)\n",
    "    d.append(n)\n",
    "    \n",
    "    A = diagflat(d)\n",
    "    \n",
    "    return A + eye(2*n +1, k = 1) + eye(2*n + 1, k = -1)\n",
    "\n",
    "        "
   ]
  },
  {
   "cell_type": "code",
   "execution_count": null,
   "id": "3fcd30ea",
   "metadata": {},
   "outputs": [],
   "source": []
  },
  {
   "cell_type": "code",
   "execution_count": null,
   "id": "77e9e739",
   "metadata": {},
   "outputs": [],
   "source": []
  },
  {
   "cell_type": "markdown",
   "id": "1dae8311",
   "metadata": {},
   "source": [
    "<div align=\"justify\"><span style=\"font-family: Arial,Helvetica,sans-serif; font-size: medium; color:#000000\">\n",
    "    <span style=\"color:#FF0000\"><b>Ejercicio 2.</b></span> Siendo $A$ la 3-matriz de Wilkinson calcula e imprime, si es posible, las matrices $L$ y $U$ de su factorización $L\\,U$.\n",
    "    <br>\n",
    "    En caso de que sea posible, comprueba la validez de los resultados obtenidos verificando que efectivamente $A=L\\,U$.\n",
    "    </span></div>"
   ]
  },
  {
   "cell_type": "code",
   "execution_count": 8,
   "id": "5a8cec12",
   "metadata": {},
   "outputs": [
    {
     "name": "stdout",
     "output_type": "stream",
     "text": [
      "[[3. 1. 0. 0. 0. 0. 0.]\n",
      " [1. 2. 1. 0. 0. 0. 0.]\n",
      " [0. 1. 1. 1. 0. 0. 0.]\n",
      " [0. 0. 1. 0. 1. 0. 0.]\n",
      " [0. 0. 0. 1. 1. 1. 0.]\n",
      " [0. 0. 0. 0. 1. 2. 1.]\n",
      " [0. 0. 0. 0. 0. 1. 3.]]\n"
     ]
    }
   ],
   "source": [
    "A=wilkinson(3)\n",
    "print(A)"
   ]
  },
  {
   "cell_type": "code",
   "execution_count": 9,
   "id": "7326d563",
   "metadata": {},
   "outputs": [
    {
     "name": "stdout",
     "output_type": "stream",
     "text": [
      "La matriz admite factorizacion LU\n",
      "La matriz L es: \n",
      "[[ 1.          0.          0.          0.          0.          0.\n",
      "   0.        ]\n",
      " [ 0.33333333  1.          0.          0.          0.          0.\n",
      "   0.        ]\n",
      " [ 0.          0.6         1.          0.          0.          0.\n",
      "   0.        ]\n",
      " [ 0.          0.          2.5         1.          0.          0.\n",
      "   0.        ]\n",
      " [ 0.          0.          0.         -0.4         1.          0.\n",
      "   0.        ]\n",
      " [ 0.          0.          0.          0.          0.71428571  1.\n",
      "   0.        ]\n",
      " [ 0.          0.          0.          0.          0.          0.77777778\n",
      "   1.        ]]\n",
      "La matriz U es: \n",
      "[[ 3.          1.          0.          0.          0.          0.\n",
      "   0.        ]\n",
      " [ 0.          1.66666667  1.          0.          0.          0.\n",
      "   0.        ]\n",
      " [ 0.          0.          0.4         1.          0.          0.\n",
      "   0.        ]\n",
      " [ 0.          0.          0.         -2.5         1.          0.\n",
      "   0.        ]\n",
      " [ 0.          0.          0.          0.          1.4         1.\n",
      "   0.        ]\n",
      " [ 0.          0.          0.          0.          0.          1.28571429\n",
      "   1.        ]\n",
      " [ 0.          0.          0.          0.          0.          0.\n",
      "   2.22222222]]\n"
     ]
    }
   ],
   "source": [
    "exito, LU = facto_lu(A)\n",
    "if exito:\n",
    "    print(\"La matriz admite factorizacion LU\")\n",
    "    print(\"La matriz L es: \")\n",
    "    L = tril(LU, k = -1) + eye(7)\n",
    "    print(L)\n",
    "    print(\"La matriz U es: \")\n",
    "    U = triu(LU)\n",
    "    print(U)\n",
    "else:\n",
    "    print(\"La matriz no admite factorizacion LU\")\n",
    "    "
   ]
  },
  {
   "cell_type": "code",
   "execution_count": 114,
   "id": "609554c0",
   "metadata": {},
   "outputs": [
    {
     "name": "stdout",
     "output_type": "stream",
     "text": [
      "Veamos que se verifica A = LU\n",
      "Se verifica la igualdad \n",
      "[[3. 1. 0. 0. 0. 0. 0.]\n",
      " [1. 2. 1. 0. 0. 0. 0.]\n",
      " [0. 1. 1. 1. 0. 0. 0.]\n",
      " [0. 0. 1. 0. 1. 0. 0.]\n",
      " [0. 0. 0. 1. 1. 1. 0.]\n",
      " [0. 0. 0. 0. 1. 2. 1.]\n",
      " [0. 0. 0. 0. 0. 1. 3.]]\n",
      "\n",
      "Que coincide con la matriz A\n"
     ]
    }
   ],
   "source": [
    "print(\"Veamos que se verifica A = LU\")\n",
    "\n",
    "print(\"Se verifica la igualdad \")\n",
    "A_ = L@U\n",
    "print(A_)\n",
    "\n",
    "print(\"\\nQue coincide con la matriz A\")"
   ]
  },
  {
   "cell_type": "markdown",
   "id": "49e8f9d1",
   "metadata": {},
   "source": [
    "<div align=\"justify\"><span style=\"font-family: Arial,Helvetica,sans-serif; font-size: medium; color:#000000\">\n",
    "    <span style=\"color:#FF0000\"><b>Ejercicio 3.</b></span> Siendo $A$ la 3-matriz de Wilkinson y\n",
    "\\[\n",
    "B = \\left( \\begin{array}{ccccccc} 7 & 15 & 14 & 12 & 14 & 15 & 7 \\end{array} \\right)^t\n",
    "\\]\n",
    "resuelve mediante el método de Cholesky, si es posible, el sistema $A^t\\,A\\,X = B$.\n",
    "    <br>\n",
    "    En caso de que sea posible, imprime la solución $X$ y comprueba la validez de los resultados obtenidos, verificando que efectivamente $A^t\\,A\\,X=B$.\n",
    "    </span></div>"
   ]
  },
  {
   "cell_type": "code",
   "execution_count": 115,
   "id": "7fce20fb",
   "metadata": {},
   "outputs": [
    {
     "name": "stdout",
     "output_type": "stream",
     "text": [
      "[[10.  5.  1.  0.  0.  0.  0.]\n",
      " [ 5.  6.  3.  1.  0.  0.  0.]\n",
      " [ 1.  3.  3.  1.  1.  0.  0.]\n",
      " [ 0.  1.  1.  2.  1.  1.  0.]\n",
      " [ 0.  0.  1.  1.  3.  3.  1.]\n",
      " [ 0.  0.  0.  1.  3.  6.  5.]\n",
      " [ 0.  0.  0.  0.  1.  5. 10.]]\n",
      "\n",
      "La matriz se puede descomponer con Cholesky. Se puede observar a ojo que es definida positiva y simetrica\n",
      "\n",
      "La matriz solucion X es:\n",
      "[[ 3.08953345e-15]\n",
      " [ 1.00000000e+00]\n",
      " [ 2.00000000e+00]\n",
      " [ 3.00000000e+00]\n",
      " [ 2.00000000e+00]\n",
      " [ 1.00000000e+00]\n",
      " [-2.58459920e-15]]\n",
      "\n",
      "Veamos que verifica la igualda\n",
      "[[ 7.]\n",
      " [15.]\n",
      " [14.]\n",
      " [12.]\n",
      " [14.]\n",
      " [15.]\n",
      " [ 7.]]\n",
      "\n",
      "Que como podemos observar coincide con el vector B\n"
     ]
    }
   ],
   "source": [
    "# nueva A\n",
    "AtA = transpose(A)@A\n",
    "print(AtA)\n",
    "\n",
    "B = array([[7], [15], [14], [12], [14], [15], [7]])\n",
    "\n",
    "exito, c = facto_cholesky(AtA)\n",
    "if exito:\n",
    "    print(\"\\nLa matriz se puede descomponer con Cholesky. Se puede observar a ojo que es definida positiva y simetrica\")\n",
    "else:\n",
    "    print(\"No se puede descomponer\")\n",
    "\n",
    "exito, X = metodo_cholesky(AtA, B)\n",
    "\n",
    "print(\"\\nLa matriz solucion X es:\")\n",
    "print(X)\n",
    "\n",
    "print(\"\\nVeamos que verifica la igualda\")\n",
    "print(AtA@X)\n",
    "print(\"\\nQue como podemos observar coincide con el vector B\")"
   ]
  },
  {
   "cell_type": "code",
   "execution_count": null,
   "id": "44af9d55",
   "metadata": {},
   "outputs": [],
   "source": []
  },
  {
   "cell_type": "code",
   "execution_count": null,
   "id": "b640d156",
   "metadata": {},
   "outputs": [],
   "source": []
  },
  {
   "cell_type": "markdown",
   "id": "db9c844d",
   "metadata": {},
   "source": [
    "<div align=\"justify\"><span style=\"font-family: Arial,Helvetica,sans-serif; font-size: medium; color:#000000\">\n",
    "    <span style=\"color:#FF0000\"><b>Ejercicio 4.</b></span> Siendo $A$ la 3-matriz de Wilkinson y utilizando exclusivamente el método de la potencia y sus variantes, calcula aproximaciones de su autovalor de módulo mayor y menor; escribe dichas aproximaciones en la hoja de enunciados.\n",
    "    </span></div>"
   ]
  },
  {
   "cell_type": "code",
   "execution_count": 116,
   "id": "ef71d786",
   "metadata": {},
   "outputs": [
    {
     "name": "stdout",
     "output_type": "stream",
     "text": [
      "La matiz A es:\n",
      "[[3. 1. 0. 0. 0. 0. 0.]\n",
      " [1. 2. 1. 0. 0. 0. 0.]\n",
      " [0. 1. 1. 1. 0. 0. 0.]\n",
      " [0. 0. 1. 0. 1. 0. 0.]\n",
      " [0. 0. 0. 1. 1. 1. 0.]\n",
      " [0. 0. 0. 0. 1. 2. 1.]\n",
      " [0. 0. 0. 0. 0. 1. 3.]]\n",
      "[-1.12488542  0.26794919  1.          2.          2.36332824  3.76155718\n",
      "  3.73205081]\n",
      "\n",
      "----------POTENCIA----------\n",
      "\n",
      " Potencia: convergencia numérica alcanzada.\n",
      "Convergencia de las normas: \n",
      " 3.7615571818318894\n",
      "Convergencia de los cocientes: \n",
      " [3.76155718+0.j 3.76155718+0.j 3.76155718+0.j 3.76155718+0.j\n",
      " 3.76155718+0.j 3.76155718+0.j 3.76155718+0.j]\n",
      "Convergencia de los vectores: \n",
      " [[1.        ]\n",
      " [0.76155718]\n",
      " [0.34152652]\n",
      " [0.18158784]\n",
      " [0.34152652]\n",
      " [0.76155718]\n",
      " [1.        ]]\n",
      "\n",
      "Por tanto deducimos que 3.7615571818318894 es el mayor autovalor de A\n",
      "\n",
      "----------POTENCIA INVERSA----------\n",
      "\n",
      " Potenciainv: convergencia numérica alcanzada.\n",
      "Convergencia de las normas: \n",
      " 3.7320508075688776\n",
      "Convergencia de los cocientes: \n",
      " [3.73205081+0.j 3.73205081+0.j 3.73205081+0.j 0.        +0.j\n",
      " 3.73205081+0.j 3.73205081+0.j 3.73205081+0.j]\n",
      "Convergencia de los vectores: \n",
      " [[-2.67949192e-01]\n",
      " [ 7.32050808e-01]\n",
      " [-1.00000000e+00]\n",
      " [ 4.75973381e-17]\n",
      " [ 1.00000000e+00]\n",
      " [-7.32050808e-01]\n",
      " [ 2.67949192e-01]]\n",
      "\n",
      "Por tanto deducimos que 0.2679491924311227 es el menor autovalor de A\n"
     ]
    }
   ],
   "source": [
    "print(\"La matiz A es:\")\n",
    "print(A)\n",
    "\n",
    "X0=array([[1],[0],[0],[0],[0], [0], [1]])\n",
    "print(eig(A)[0])        # borrar\n",
    "\n",
    "print(\"\\n----------POTENCIA----------\")\n",
    "        \n",
    "exito,normas,lambdas,X= potencia(A,X0,inf,200,1e-15)\n",
    "if exito:\n",
    "    print('Convergencia de las normas: \\n', normas)\n",
    "    print('Convergencia de los cocientes: \\n', lambdas)\n",
    "    print('Convergencia de los vectores: \\n', X)\n",
    "else:\n",
    "    print(normas)\n",
    "print(\"\\nPor tanto deducimos que 3.7615571818318894 es el mayor autovalor de A\")\n",
    "\n",
    "\n",
    "print(\"\\n----------POTENCIA INVERSA----------\")\n",
    "# X0=array([[0],[0],[0],[1],[0], [0], [0]])        \n",
    "exito,normas,lambdas,X= potenciainv(A,X0,inf,200,1e-15)\n",
    "if exito:\n",
    "    print('Convergencia de las normas: \\n', normas)\n",
    "    print('Convergencia de los cocientes: \\n', lambdas)\n",
    "    print('Convergencia de los vectores: \\n', X)\n",
    "else:\n",
    "    print(normas)\n",
    "print(\"\\nPor tanto deducimos que\",1/3.7320508075688776  ,\"es el menor autovalor de A\")"
   ]
  },
  {
   "cell_type": "code",
   "execution_count": null,
   "id": "5b84d9ec",
   "metadata": {},
   "outputs": [],
   "source": []
  },
  {
   "cell_type": "code",
   "execution_count": null,
   "id": "b10c36a5",
   "metadata": {},
   "outputs": [],
   "source": []
  },
  {
   "cell_type": "markdown",
   "id": "b6c0e1eb",
   "metadata": {},
   "source": [
    "<div align=\"justify\"><span style=\"font-family: Arial,Helvetica,sans-serif; font-size: medium; color:#000000\">\n",
    "    <span style=\"color:#FF0000\"><b>Ejercicio 5.</b></span> Siendo $A$ la 3-matriz de Wilkinson y utilizando exclusivamente el método de la potencia y sus variantes, determina si dicha matriz tiene algún autovalor real negativo; describe brevemente el razonamiento utilizado en la hoja de enunciados.\n",
    "    </span></div>"
   ]
  },
  {
   "cell_type": "code",
   "execution_count": 117,
   "id": "1f3375c4",
   "metadata": {},
   "outputs": [
    {
     "name": "stdout",
     "output_type": "stream",
     "text": [
      "La matiz A tiene como autovalor mayor el 3.76155718 y como autovalor menor el 0.2679491\n",
      "\n",
      "El resto de los autovalores deben pertenecer al intervalo [0.2679491, 3.76155718], por tanto, todos los autovalores son positivos\n"
     ]
    }
   ],
   "source": [
    "print(\"La matiz A tiene como autovalor mayor el 3.76155718 y como autovalor menor el 0.2679491\")\n",
    "print(\"\\nEl resto de los autovalores deben pertenecer al intervalo [0.2679491, 3.76155718], por tanto, todos los autovalores son positivos\")"
   ]
  },
  {
   "cell_type": "code",
   "execution_count": 118,
   "id": "96690730",
   "metadata": {},
   "outputs": [
    {
     "name": "stdout",
     "output_type": "stream",
     "text": [
      "Por otro lado, tambien observamos que la matriz es simetrica, por tanto, podemos afirmar que todos los autovalores son reales\n"
     ]
    }
   ],
   "source": [
    "print(\"Por otro lado, tambien observamos que la matriz es simetrica, por tanto, podemos afirmar que todos los autovalores son reales\")"
   ]
  },
  {
   "cell_type": "code",
   "execution_count": null,
   "id": "87b60d2a",
   "metadata": {},
   "outputs": [],
   "source": []
  },
  {
   "cell_type": "markdown",
   "id": "3d6bd754",
   "metadata": {},
   "source": [
    "<div align=\"justify\"><span style=\"font-family: Arial,Helvetica,sans-serif; font-size: medium; color:#000000\">\n",
    "    <span style=\"color:#FF0000\"><b>Ejercicio 6.</b></span> Sea $\\bar{A}\\in\\mathcal{M}_{2n+1}(\\mathbb{C})$ una perturbación de la  3-matriz de Wilkinson $A$, en la que solamente cambian los elementos de la primera fila y séptima columna, y de la séptima fila y primera columna, que ahora valen $0.5$.\n",
    "    <br>\n",
    "    Utilizando exclusivamente el método de la potencia y sus variantes, calcula una aproximación del autovalor dominante de $\\bar{A}$; escribe dicha aproximación en la hoja de enunciados.\n",
    "    </span></div>"
   ]
  },
  {
   "cell_type": "code",
   "execution_count": 11,
   "id": "9f6e6132",
   "metadata": {},
   "outputs": [
    {
     "name": "stdout",
     "output_type": "stream",
     "text": [
      "[[3.  1.  0.  0.  0.  0.  0.5]\n",
      " [1.  2.  1.  0.  0.  0.  0. ]\n",
      " [0.  1.  1.  1.  0.  0.  0. ]\n",
      " [0.  0.  1.  0.  1.  0.  0. ]\n",
      " [0.  0.  0.  1.  1.  1.  0. ]\n",
      " [0.  0.  0.  0.  1.  2.  1. ]\n",
      " [0.5 0.  0.  0.  0.  1.  3. ]]\n",
      "\n",
      "Para una aproximacion usamos el metodo de la potencia\n",
      "[ 4.08737918  3.45475798 -1.12373016  2.48499934  0.24059165  1.80465036\n",
      "  1.05135165]\n",
      "\n",
      "----------POTENCIA----------\n",
      "\n",
      " Potencia: convergencia numérica alcanzada.\n",
      "Convergencia de las normas: \n",
      " 4.087379175067166\n",
      "Convergencia de los cocientes: \n",
      " [4.08737918+0.j 4.08737918+0.j 4.08737918+0.j 4.08737918+0.j\n",
      " 4.08737918+0.j 4.08737918+0.j 4.08737918+0.j]\n",
      "Convergencia de los vectores: \n",
      " [[1.        ]\n",
      " [0.58737918]\n",
      " [0.22608306]\n",
      " [0.11062495]\n",
      " [0.22608306]\n",
      " [0.58737918]\n",
      " [1.        ]]\n",
      "Por tanto deducimos que 4.1995928 es el mayor autovalor de A\n"
     ]
    }
   ],
   "source": [
    "#Notamos como db a dicha perturbacion\n",
    "dA = array([[0, 0, 0, 0, 0, 0, 0.5], [0, 0, 0, 0, 0, 0, 0], [0, 0, 0, 0, 0, 0, 0], [0, 0, 0, 0, 0, 0, 0], [0, 0, 0, 0, 0, 0, 0], [0, 0, 0, 0, 0, 0, 0], [0.5, 0, 0, 0, 0, 0, 0]])\n",
    "\n",
    "# A = A + A[0, 0, 0, 0, 0, 0, 0.5]\n",
    "A_ = A + dA\n",
    "print(A_)\n",
    "\n",
    "print(\"\\nPara una aproximacion usamos el metodo de la potencia\")\n",
    "X0=array([[0],[1],[0],[0],[0], [0], [1]])\n",
    "print(eig(A_)[0])        # borrar\n",
    "\n",
    "print(\"\\n----------POTENCIA----------\")\n",
    "        \n",
    "exito,normas,lambdas,X= potencia(A_,X0,inf,200,1e-15)\n",
    "if exito:\n",
    "    print('Convergencia de las normas: \\n', normas)\n",
    "    print('Convergencia de los cocientes: \\n', lambdas)\n",
    "    print('Convergencia de los vectores: \\n', X)\n",
    "else:\n",
    "    print(normas)\n",
    "print(\"Por tanto deducimos que 4.1995928 es el mayor autovalor de A\")\n"
   ]
  },
  {
   "cell_type": "code",
   "execution_count": null,
   "id": "e6a0857f",
   "metadata": {},
   "outputs": [],
   "source": []
  },
  {
   "cell_type": "code",
   "execution_count": null,
   "id": "7fb38180",
   "metadata": {},
   "outputs": [],
   "source": []
  },
  {
   "cell_type": "markdown",
   "id": "8b91ddcc",
   "metadata": {},
   "source": [
    "<div align=\"justify\"><span style=\"font-family: Arial,Helvetica,sans-serif; font-size: medium; color:#000000\">\n",
    "    <span style=\"color:#FF0000\"><b>Ejercicio 7.</b></span> Para la pertubación $\\bar{A}$ de la matriz $A$ realizada en el ejercicio anterior y utilizando la norma-2, comprueba que se verifica el teorema de Bauer-Fike para el autovalor dominante cuya aproximación se ha calculado; describe brevemente el razonamiento utilizado en la hoja de enunciados.\n",
    "    </span></div>"
   ]
  },
  {
   "cell_type": "code",
   "execution_count": 12,
   "id": "abdcc091",
   "metadata": {},
   "outputs": [
    {
     "name": "stdout",
     "output_type": "stream",
     "text": [
      "\n",
      "La matriz de paso P es: \n",
      "[[ 5.97135342e-01  4.92325562e-01 -3.19656291e-02  3.16914887e-01\n",
      "  -1.82837225e-01 -4.73482936e-01  2.04872000e-01]\n",
      " [ 3.50744864e-01  4.70051760e-01  1.47800443e-01 -3.21668821e-01\n",
      "   4.13103953e-01  3.29236187e-01 -5.01659485e-01]\n",
      " [ 1.35002184e-01  1.91485989e-01 -4.29723074e-01 -4.72924052e-01\n",
      "  -5.43981317e-01  4.09166766e-01  2.71026440e-01]\n",
      " [ 6.60580672e-02 -4.47191850e-16  7.64815412e-01 -3.80623081e-01\n",
      "  -1.17289197e-16  2.01965753e-16  5.15577141e-01]\n",
      " [ 1.35002184e-01 -1.91485989e-01 -4.29723074e-01 -4.72924052e-01\n",
      "   5.43981317e-01 -4.09166766e-01  2.71026440e-01]\n",
      " [ 3.50744864e-01 -4.70051760e-01  1.47800443e-01 -3.21668821e-01\n",
      "  -4.13103953e-01 -3.29236187e-01 -5.01659485e-01]\n",
      " [ 5.97135342e-01 -4.92325562e-01 -3.19656291e-02  3.16914887e-01\n",
      "   1.82837225e-01  4.73482936e-01  2.04872000e-01]]\n",
      "\n",
      "Su inversa es: \n",
      "[[ 5.97135342e-01  3.50744864e-01  1.35002184e-01  6.60580672e-02\n",
      "   1.35002184e-01  3.50744864e-01  5.97135342e-01]\n",
      " [ 4.92325562e-01  4.70051760e-01  1.91485989e-01 -1.52915498e-16\n",
      "  -1.91485989e-01 -4.70051760e-01 -4.92325562e-01]\n",
      " [-3.19656291e-02  1.47800443e-01 -4.29723074e-01  7.64815412e-01\n",
      "  -4.29723074e-01  1.47800443e-01 -3.19656291e-02]\n",
      " [ 3.16914887e-01 -3.21668821e-01 -4.72924052e-01 -3.80623081e-01\n",
      "  -4.72924052e-01 -3.21668821e-01  3.16914887e-01]\n",
      " [-1.82837225e-01  4.13103953e-01 -5.43981317e-01 -2.09956504e-16\n",
      "   5.43981317e-01 -4.13103953e-01  1.82837225e-01]\n",
      " [-4.73482936e-01  3.29236187e-01  4.09166766e-01  1.46210238e-16\n",
      "  -4.09166766e-01 -3.29236187e-01  4.73482936e-01]\n",
      " [ 2.04872000e-01 -5.01659485e-01  2.71026440e-01  5.15577141e-01\n",
      "   2.71026440e-01 -5.01659485e-01  2.04872000e-01]]\n",
      "\n",
      "El miembro de la derecha de la desigualdad es:  3.299155759253152\n",
      "\n",
      "Anteriormente hemos calculado que 3.7615 es el mayor autovalor de A, luego:\n",
      " \n",
      "Los autovalores de la matri perturbada estan en este conjunto {|z - 3.7615| <= 3.36175\n",
      "0.39975000000000005 <= z <= 7.12325\n",
      "\n",
      "Por tanto, todos los autovalores de A_ estan en ese intervalo, lo que se verifica,ya que su autovalor mayor es 4.1995928 \n"
     ]
    }
   ],
   "source": [
    "# derecha = cond(P)norma(dA)\n",
    "P = eig(A_)[1]\n",
    "print(\"\\nLa matriz de paso P es: \")\n",
    "print(P)\n",
    "\n",
    "print(\"\\nSu inversa es: \")\n",
    "print(inv(P))\n",
    "\n",
    "condP = norma_mat(P, inf)*norma_mat(inv(P), inf)\n",
    "\n",
    "print(\"\\nEl miembro de la derecha de la desigualdad es: \", condP*norma_mat(dA, inf))\n",
    "print(\"\\nAnteriormente hemos calculado que 3.7615 es el mayor autovalor de A, luego:\")\n",
    "print(\" \\nLos autovalores de la matri perturbada estan en este conjunto {|z - 3.7615| <= 3.36175\")\n",
    "# osea, -3.36175 <= z - 3.7615 <= 3.36175 Luego\n",
    "print(-3.36175 + 3.7615 ,\"<= z <=\", 3.7615 + 3.36175)\n",
    "print(\"\\nPor tanto, todos los autovalores de A_ estan en ese intervalo, lo que se verifica,ya que su autovalor mayor es 4.1995928 \")\n"
   ]
  },
  {
   "cell_type": "code",
   "execution_count": null,
   "id": "a76395b7",
   "metadata": {},
   "outputs": [],
   "source": []
  },
  {
   "cell_type": "code",
   "execution_count": null,
   "id": "1222e480",
   "metadata": {},
   "outputs": [],
   "source": []
  },
  {
   "cell_type": "markdown",
   "id": "20325db8",
   "metadata": {},
   "source": [
    "<div align=\"justify\"><span style=\"font-family: Arial,Helvetica,sans-serif; font-size: medium; color:#000000\">\n",
    "    <span style=\"color:#FF0000\">No olvides <b>subir esta hoja de trabajo</b> <span style=\"font-family: Courier,monospace\">Python</span> de nombre <span style=\"font-family: Courier,monospace\">cp.ipynb</span>, convenientemente rellenada y guardada, junto con el fichero <span style=\"font-family: Courier,monospace\">algoritmos.py</span>, a la tarea <b>Entrega del Control de practicas</b> del Campus virtual de la asignatura.</span>"
   ]
  },
  {
   "cell_type": "code",
   "execution_count": null,
   "id": "6030c221",
   "metadata": {},
   "outputs": [],
   "source": []
  }
 ],
 "metadata": {
  "kernelspec": {
   "display_name": "Python 3 (ipykernel)",
   "language": "python",
   "name": "python3"
  },
  "language_info": {
   "codemirror_mode": {
    "name": "ipython",
    "version": 3
   },
   "file_extension": ".py",
   "mimetype": "text/x-python",
   "name": "python",
   "nbconvert_exporter": "python",
   "pygments_lexer": "ipython3",
   "version": "3.10.4"
  }
 },
 "nbformat": 4,
 "nbformat_minor": 5
}
