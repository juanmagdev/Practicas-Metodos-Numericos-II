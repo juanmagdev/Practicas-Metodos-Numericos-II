{
 "cells": [
  {
   "cell_type": "code",
   "execution_count": 8,
   "metadata": {},
   "outputs": [],
   "source": [
    "from numpy import *\n",
    "from numpy.linalg import *\n",
    "from numpy import abs, sum, max, min\n",
    "from algoritmos import *"
   ]
  },
  {
   "cell_type": "markdown",
   "metadata": {},
   "source": [
    "**Ejercicio 1.**\n",
    "Se considera el sistema lineal $AX=B$, donde:\n",
    "\n",
    "$$A=\\begin{pmatrix}\n",
    "10 & 1 & 4 & 0\\\\\n",
    "1 & 10 & 5 & -1\\\\\n",
    "4 & 5 & 10 & 7\\\\\n",
    "0 & -1 & 7 & 9 \n",
    "\\end{pmatrix}\n",
    "\\quad \\text{y} \\quad\n",
    "B=\\begin{pmatrix}\n",
    "15 \\\\\n",
    "15\\\\\n",
    "26\\\\\n",
    "15\n",
    "\\end{pmatrix}$$"
   ]
  },
  {
   "cell_type": "markdown",
   "metadata": {},
   "source": [
    "**a)**\n",
    "Al aplicar el método de Gauss con estrategia de pívot parcial al sistema anterior, se obtiene un sistema triangular\n",
    "superior equivalente, que posteriormente se resuelve mediante un proceso de remonte. Escribir dicho sistema\n",
    "triangular superior y la solución del sistema."
   ]
  },
  {
   "cell_type": "code",
   "execution_count": 4,
   "metadata": {},
   "outputs": [
    {
     "name": "stdout",
     "output_type": "stream",
     "text": [
      "A:\n",
      "[[10  1  4  0]\n",
      " [ 1 10  5 -1]\n",
      " [ 4  5 10  7]\n",
      " [ 0 -1  7  9]]\n",
      "B:\n",
      "[[15]\n",
      " [15]\n",
      " [26]\n",
      " [15]]\n",
      "La solucion al sistema es X\n",
      "[[1.]\n",
      " [1.]\n",
      " [1.]\n",
      " [1.]]\n",
      "La matriz triangular superior es: MA\n",
      "[[ 1.00000000e+01  1.00000000e+00  4.00000000e+00  0.00000000e+00]\n",
      " [ 0.00000000e+00  9.90000000e+00  4.60000000e+00 -1.00000000e+00]\n",
      " [ 0.00000000e+00  0.00000000e+00  7.46464646e+00  8.89898990e+00]\n",
      " [ 0.00000000e+00  0.00000000e+00  0.00000000e+00 -1.35317997e-03]]\n",
      "La B asociada es: MB\n",
      "[[ 1.50000000e+01]\n",
      " [ 1.35000000e+01]\n",
      " [ 1.63636364e+01]\n",
      " [-1.35317997e-03]]\n",
      "\n"
     ]
    }
   ],
   "source": [
    "A = array([[10, 1, 4, 0], [1, 10, 5, -1], [4, 5, 10, 7], [0, -1, 7, 9]])\n",
    "print(\"A:\")\n",
    "print(A)\n",
    "\n",
    "B = array([[15], [15], [26], [15]])\n",
    "print(\"B:\")\n",
    "print(B)\n",
    "\n",
    "exito, X = gauss_pp(A, B)\n",
    "\n",
    "if exito:\n",
    "    print(\"La solucion al sistema es X\")\n",
    "    print(X)\n",
    "    MA, MB = gauss_pp2(A, B)\n",
    "    print(\"La matriz triangular superior es: MA\")\n",
    "    print(triu(MA))\n",
    "    print(\"La B asociada es: MB\")\n",
    "    print(MB)\n",
    "    print()\n",
    "else:\n",
    "    print(\"No se ha podido resolver el sitema\")"
   ]
  },
  {
   "cell_type": "markdown",
   "metadata": {},
   "source": [
    "---"
   ]
  },
  {
   "cell_type": "markdown",
   "metadata": {},
   "source": [
    "**b)**\n",
    "Calcular la inversa de A mediante el método de Gauss con estrategia de pívot parcial."
   ]
  },
  {
   "cell_type": "code",
   "execution_count": 5,
   "metadata": {},
   "outputs": [
    {
     "name": "stdout",
     "output_type": "stream",
     "text": [
      "\n",
      "Calculamos la inversa de A sabiendo que es la solucion del sistema AX=I:\n",
      "[[ 105.  167. -304.  255.]\n",
      " [ 167.  266. -484.  406.]\n",
      " [-304. -484.  881. -739.]\n",
      " [ 255.  406. -739.  620.]]\n"
     ]
    }
   ],
   "source": [
    "I = eye(shape(A)[0])\n",
    "print(\"\\nCalculamos la inversa de A sabiendo que es la solucion del sistema AX=I:\")\n",
    "e, X= gaussjordan_pp(A,I)\n",
    "\n",
    "print(X)"
   ]
  },
  {
   "cell_type": "markdown",
   "metadata": {},
   "source": [
    "-----"
   ]
  },
  {
   "cell_type": "markdown",
   "metadata": {},
   "source": [
    "**c)**\n",
    "Escribir, si es posible, la factorización LU de la matriz A."
   ]
  },
  {
   "cell_type": "code",
   "execution_count": 10,
   "metadata": {},
   "outputs": [
    {
     "name": "stdout",
     "output_type": "stream",
     "text": [
      "La factorizacion es posible\n",
      "La matriz L es: \n",
      "[[ 1.          0.          0.          0.        ]\n",
      " [ 0.1         1.          0.          0.        ]\n",
      " [ 0.4         0.46464646  1.          0.        ]\n",
      " [ 0.         -0.1010101   1.19193548  1.        ]]\n",
      "[[ 1.00000000e+01  1.00000000e+00  4.00000000e+00  0.00000000e+00]\n",
      " [ 0.00000000e+00  9.90000000e+00  4.60000000e+00 -1.00000000e+00]\n",
      " [ 0.00000000e+00  0.00000000e+00  6.26262626e+00  7.46464646e+00]\n",
      " [ 0.00000000e+00  0.00000000e+00  0.00000000e+00  1.61290323e-03]]\n"
     ]
    }
   ],
   "source": [
    "exit, LU = facto_lu(A)\n",
    "if exito:\n",
    "    print(\"La factorizacion es posible\")\n",
    "    print(\"La matriz L es: \")\n",
    "    print(tril(LU, k=-1) + eye(4))  #eye(shape(A)[0])\n",
    "    print(triu(LU))\n"
   ]
  },
  {
   "cell_type": "markdown",
   "metadata": {},
   "source": [
    "----"
   ]
  },
  {
   "cell_type": "markdown",
   "metadata": {},
   "source": [
    "**d)**\n",
    "Se considera ahora el sistema perturbado $A\\bar{X}=\\bar{B}$, donde $\\bar{X}= X +δX$ y $\\bar{B}= B +δB$ , siendo $δB=(1,  1,  −1,  1)^t$.\n",
    "Calcular la solución del sistema perturbado y hacer el análisis numérico (en norma 2) de la situación propuesta,\n",
    "comprobando que el error relativo de la solución es menor o igual que el producto del condicionamiento por el\n",
    "error relativo de los datos.\n",
    "\n",
    "Es decir resolvamos la siguiente desigualdad:\n",
    "\n",
    "$$\\frac{\\|\\delta X\\|_2}{\\|X\\|_2}\\leq \\text{cond}_2(A) \\frac{\\|\\delta B\\|_2}{\\|B\\|_2}$$"
   ]
  },
  {
   "cell_type": "code",
   "execution_count": 11,
   "metadata": {},
   "outputs": [
    {
     "name": "stdout",
     "output_type": "stream",
     "text": [
      "\n",
      "La matriz A es:\n",
      "[[10  1  4  0]\n",
      " [ 1 10  5 -1]\n",
      " [ 4  5 10  7]\n",
      " [ 0 -1  7  9]]\n",
      "\n",
      "El segundo miembro es:\n",
      "[[15]\n",
      " [15]\n",
      " [26]\n",
      " [15]]\n",
      "\n",
      "La matriz identidad es:\n",
      "[[1. 0. 0. 0.]\n",
      " [0. 1. 0. 0.]\n",
      " [0. 0. 1. 0.]\n",
      " [0. 0. 0. 1.]]\n",
      "\n",
      "La diferencia del segundo miembro dB es:\n",
      "[[ 1]\n",
      " [ 1]\n",
      " [-1]\n",
      " [ 1]]\n",
      "\n",
      "El segundo miembro del sistema perturbado es:\n",
      "[[16]\n",
      " [16]\n",
      " [25]\n",
      " [16]]\n",
      "\n",
      "La solución del sistema AX = B es:\n",
      "[[1.]\n",
      " [1.]\n",
      " [1.]\n",
      " [1.]]\n",
      "\n",
      "La solución del sistema AX = B_ es:\n",
      "[[  832.]\n",
      " [ 1324.]\n",
      " [-2407.]\n",
      " [ 2021.]]\n",
      "\n",
      "La inversa de A es:\n",
      "[[ 1.05000000e+02 -4.11589508e+00 -3.52400000e+02  0.00000000e+00]\n",
      " [ 1.67000000e+02  4.11048236e+01  0.00000000e+00  4.06000000e+02]\n",
      " [-3.04000000e+02  1.35317997e-02  8.81000000e+02 -7.39000000e+02]\n",
      " [ 2.55000000e+02  4.06000000e+02 -7.39000000e+02  6.20000000e+02]]\n",
      "\n",
      "El condicionamiento de la matriz A es:\n",
      "35792.397628825755\n",
      "35792.397628825755\n",
      "\n",
      "El incremento de las soluciones es:\n",
      "[[  831.]\n",
      " [ 1323.]\n",
      " [-2408.]\n",
      " [ 2020.]]\n",
      "\n",
      "Ya tenemos caracterizados todos los elementos de las desigualdades, ahora veamos si se prueba la desigualdad.\n",
      "\n",
      "La desigualdad si se cumple.\n"
     ]
    }
   ],
   "source": [
    "print(\"\\nLa matriz A es:\")\n",
    "A = array([[10, 1, 4, 0], [1, 10, 5, -1], [4, 5, 10, 7], [0, -1, 7, 9]])\n",
    "print(A)\n",
    "\n",
    "print(\"\\nEl segundo miembro es:\")\n",
    "B = array([[15], [15], [26], [15]])\n",
    "print(B)\n",
    "\n",
    "print(\"\\nLa matriz identidad es:\")\n",
    "I = eye(shape(A)[0])\n",
    "print(I)\n",
    "\n",
    "print(\"\\nLa diferencia del segundo miembro dB es:\")\n",
    "dB = array([[1], [1], [-1], [1]])\n",
    "print(dB)\n",
    "\n",
    "##Calculamos Bper sabiendo que Bper = B + dB\n",
    "\n",
    "print(\"\\nEl segundo miembro del sistema perturbado es:\")\n",
    "Bper = B + dB\n",
    "print(Bper)\n",
    "\n",
    "\n",
    "##Calculemos la solucion del sistema AX=B\n",
    "print(\"\\nLa solución del sistema AX = B es:\")\n",
    "e, X = gauss_pp(A, B)\n",
    "print(X)\n",
    "\n",
    "##Calculemos la solucion del sistema perturbado AXper=Bper\n",
    "print(\"\\nLa solución del sistema AX_ = B_ es:\")\n",
    "e, Xper = gauss_pp(A, Bper)\n",
    "print(Xper)\n",
    "\n",
    "##Calculemos la inversa de A\n",
    "e, iA = gauss_pp(A, I)  # se podria hacer con inv(A)\n",
    "print(\"\\nLa inversa de A es:\")\n",
    "print(iA)\n",
    "\n",
    "##Calculemos el condicionamiento_2 de A\n",
    "print(\"\\nEl condicionamiento de la matriz A es:\")\n",
    "cond = norma_mat(A, 2)*norma_mat(iA, 2)\n",
    "condM  =cond = norma_mat(A, 2)*norma_mat(inv(A), 2)\n",
    "print(cond)\n",
    "print(condM)\n",
    "\n",
    "##Calculemos dX sabiendo que Xper = X + dX\n",
    "\n",
    "dX = Xper - X\n",
    "\n",
    "print(\"\\nEl incremento de las soluciones es:\")\n",
    "print(dX)\n",
    "\n",
    "print(\"\\nYa tenemos caracterizados todos los elementos de las desigualdades, ahora veamos si se prueba la desigualdad.\")\n",
    "\n",
    "##Llamaremos izq a los elementos de la izquierda de la desigualdad.\n",
    "\n",
    "izq = norma_vec(dX, 2)/norma_vec(X, 2)\n",
    "\n",
    "##Llamaremos der a los elementos de la derecha de la desigualdad.\n",
    "\n",
    "der = cond*(norma_vec(dB, 2)/norma_vec(B, 2))\n",
    "\n",
    "if (izq <= der):\n",
    "    print(\"\\nLa desigualdad si se cumple.\")\n",
    "else:\n",
    "    print(\"\\nLa desigualdad no se cumple.\")"
   ]
  },
  {
   "cell_type": "markdown",
   "metadata": {},
   "source": [
    "----"
   ]
  },
  {
   "cell_type": "markdown",
   "metadata": {},
   "source": [
    "# Ejercicio extra (de otro año)\n",
    "Calcula los autovalores de A usando metodos de la potencia\n",
    "\n",
    "$$\n",
    "A=\\begin{pmatrix}\n",
    "9 & -12 & 9 & -6 & 3\\\\\n",
    "15 & -27 & 27 & -18 & 9\\\\\n",
    "17 & -34 & 45 & -38 & 19\\\\\n",
    "15 & -30 & 45 & -51 & 33\\\\\n",
    "9 & -18 & 27 & -36 & 33\\\\\n",
    "\\end{pmatrix}\n",
    "$$"
   ]
  },
  {
   "cell_type": "code",
   "execution_count": 7,
   "metadata": {},
   "outputs": [
    {
     "name": "stdout",
     "output_type": "stream",
     "text": [
      "[-12.  -6.  15.   9.   3.]\n",
      "---POTENCIA---\n",
      "\n",
      " Potencia: convergencia numérica alcanzada.\n",
      "Convergencia de las normas: \n",
      " 15.000000000000004\n",
      "Convergencia de los cocientes: \n",
      " [ 0.+0.j  0.+0.j  0.+0.j 15.+0.j 15.+0.j]\n",
      "Convergencia de los vectores: \n",
      " [[8.88178420e-17]\n",
      " [3.55271368e-16]\n",
      " [4.73695157e-16]\n",
      " [5.00000000e-01]\n",
      " [1.00000000e+00]]\n",
      "Deducimos que 15 es autovalor\n",
      "El autovector asociado es  [[0. ]\n",
      " [0. ]\n",
      " [0. ]\n",
      " [0.5]\n",
      " [1. ]]\n",
      "---POTENCIA INVERSA---\n",
      "\n",
      " Potenciainv: convergencia numérica alcanzada.\n",
      "Convergencia de las normas: \n",
      " 0.33333333333333326\n",
      "Convergencia de los cocientes: \n",
      " [0.33333333+0.j 0.33333333+0.j 0.16087155+0.j 0.        +0.j\n",
      " 0.        +0.j]\n",
      "Convergencia de los vectores: \n",
      " [[1.00000000e+00]\n",
      " [5.00000000e-01]\n",
      " [7.74024510e-16]\n",
      " [6.96720669e-16]\n",
      " [2.53279048e-16]]\n",
      "Deducimos que 3 es autovalor\n",
      "El autovector asociado es  [[1. ]\n",
      " [0.5]\n",
      " [0. ]\n",
      " [0. ]\n",
      " [0. ]]\n",
      "---POTENCIA DESPLAZADA INVERSA---\n",
      "\n",
      " Potenciainv: convergencia numérica alcanzada.\n",
      "Convergencia de las normas: \n",
      " 0.33333577956114346\n",
      "Convergencia de los cocientes: \n",
      " [ 0.33334287+0.j  0.33333578+0.j  0.11111114+0.j -0.33333351+0.j\n",
      " -0.33333336+0.j]\n",
      "Convergencia de los vectores: \n",
      " [[-0.49999644]\n",
      " [-1.        ]\n",
      " [-0.25000053]\n",
      " [ 0.50000125]\n",
      " [ 0.25000061]]\n",
      "Deducimos que hay dos autovalores equidistantes de -9\n",
      "9\n",
      "29159.999999999938\n",
      "3.0\n",
      "Los autovalores son -12,-6,3,9,15\n"
     ]
    }
   ],
   "source": [
    "A=array([[9,-12,9,-6,3],[15,-27,27,-18,9],[17,-34,45,-38,19],[15,-30,45,-51,33],[9,-18,27,-36,33]])\n",
    "X0=array([[1],[0],[0],[0],[0]])\n",
    "print(eig(A)[0])\n",
    "print('---POTENCIA---')\n",
    "\n",
    "exito,normas,lambdas,X=potencia(A,X0,inf,200,1e-15)\n",
    "if exito:\n",
    "    print('Convergencia de las normas: \\n', normas)\n",
    "    print('Convergencia de los cocientes: \\n', lambdas)\n",
    "    print('Convergencia de los vectores: \\n', X)\n",
    "else:\n",
    "    print(normas)\n",
    "print('Deducimos que 15 es autovalor')\n",
    "Z1=array([[0],[0],[0],[0.5],[1]])\n",
    "print('El autovector asociado es ', Z1)\n",
    "\n",
    "print('---POTENCIA INVERSA---')\n",
    "        \n",
    "exito,normas,lambdas,X=potenciainv(A,X0,inf,200,1e-15)\n",
    "if exito:\n",
    "    print('Convergencia de las normas: \\n', normas)\n",
    "    print('Convergencia de los cocientes: \\n', lambdas)\n",
    "    print('Convergencia de los vectores: \\n', X)\n",
    "else:\n",
    "    print(normas)\n",
    "print('Deducimos que 3 es autovalor')\n",
    "Z2=array([[1],[0.5],[0],[0],[0]])\n",
    "print('El autovector asociado es ', Z2)\n",
    "\n",
    "print('---POTENCIA DESPLAZADA INVERSA---')\n",
    "        \n",
    "exito,normas,lambdas,X=potenciadesinv(A,X0,-9,inf,200,1e-5)\n",
    "if exito:\n",
    "    print('Convergencia de las normas: \\n', normas)\n",
    "    print('Convergencia de los cocientes: \\n', lambdas)\n",
    "    print('Convergencia de los vectores: \\n', X)\n",
    "else:\n",
    "    print(normas)\n",
    "    \n",
    "print('Deducimos que hay dos autovalores equidistantes de -9')\n",
    "\n",
    "# Usamos la traza para deducir el otro de autovalor\n",
    "tr=traza(A)\n",
    "print(tr)\n",
    "\n",
    "# 9=15+3-9+algo-9-algo+elquequeda -> 9=elquequeda\n",
    "# Usamos ahora el determinante para deducir el algo\n",
    "dt=det(A)\n",
    "print(dt)\n",
    "# 29160=9*15*3*(-9-algo)*(-9+algo)\n",
    "# 29160=9*15*3*(81-(algo)^2)\n",
    "# 29160=9*15*3*81-9*15*3*(algo)^2\n",
    "algo=sqrt((29160-9*15*3*81)/(-9*15*3))\n",
    "print(algo)\n",
    "\n",
    "print('Los autovalores son -12,-6,3,9,15')"
   ]
  }
 ],
 "metadata": {
  "kernelspec": {
   "display_name": "Python 3",
   "language": "python",
   "name": "python3"
  },
  "language_info": {
   "codemirror_mode": {
    "name": "ipython",
    "version": 3
   },
   "file_extension": ".py",
   "mimetype": "text/x-python",
   "name": "python",
   "nbconvert_exporter": "python",
   "pygments_lexer": "ipython3",
   "version": "3.10.4"
  }
 },
 "nbformat": 4,
 "nbformat_minor": 4
}
