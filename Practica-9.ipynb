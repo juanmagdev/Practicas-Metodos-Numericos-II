{
 "cells": [
  {
   "cell_type": "markdown",
   "id": "2e9170a7",
   "metadata": {},
   "source": [
    "<div align=\"center\"><span style=\"font-family: Arial,Helvetica,sans-serif; color:#0000FF\"\"><b>\n",
    "    <span style=\"font-size: x-large\">Métodos Numéricos II</span>\n",
    "    <br>\n",
    "    <span style=\"font-size: large\">Segundo de Grado en Matemáticas - Curso 2021/22</span>\n",
    "    <br>\n",
    "    Facultad de Ciencias de la Universidad de Málaga\n",
    "    <br>\n",
    "    <span style=\"font-size: small\">Dpto. de Análisis Matemático, Estadística e Investigación Operativa, y Matemática Aplicada</span>\n",
    "    <br>\n",
    "    <span style=\"font-size: small\">Profs. María López y Francisco José Palma (Área Conocimiento de Matemática Aplicada)</span>\n",
    "    <br>\n",
    "    <span style=\"color:#FF0000\">Práctica número 9</span>\n",
    "    </b></span></div>"
   ]
  },
  {
   "cell_type": "code",
   "execution_count": 1,
   "id": "26e5d562",
   "metadata": {},
   "outputs": [],
   "source": [
    "from algoritmos import *"
   ]
  },
  {
   "cell_type": "markdown",
   "id": "4e341327",
   "metadata": {},
   "source": [
    "El objetivo de esta práctica es desarrollar programas <span style=\"font-family: Courier,monospace\">Python</span> para calcular autovalores y autovectores de matrices mediante el <span style=\"color:#FF0000\"><b>método de la potencia</b></span> y sus <span style=\"color:#FF0000\"><b>variantes</b></span>."
   ]
  },
  {
   "cell_type": "markdown",
   "id": "a222b000",
   "metadata": {},
   "source": [
    "Recordamos que el algoritmo del <b>método de la potencia</b> para calcular el <b>autovalor dominante</b>, y la <b>dirección de un autovector</b> asociado al mismo, de una matriz $A\\in\\mathcal{M}_n(\\mathbb{K})$, se basa en calcular una sucesión de vectores unitarios (para una cierta norma) $\\{X_k\\}_{k\\in\\mathbb{N}}$ y $n$ sucesiones numéricas $\\{\\lambda^j_k\\}_{k\\in\\mathbb{N}}$ mediante el siguiente algoritmo:\n",
    "<ul>\n",
    "<li> dado $X_0\\in\\mathbb{C}^n-\\{0\\}$ unitario;</li>\n",
    "<li> para $k=0,1,2,\\ldots$, se contruye\n",
    "    \n",
    "$$\n",
    "Y_{k+1} = A\\,X_k \\quad y \\quad X_{k+1} = \\frac{1}{\\|Y_{k+1}\\|}\\,Y_{k+1}\\,;\n",
    "$$\n",
    "igualmente, siempre que tengan sentido, se calculan\n",
    "\n",
    "$$\n",
    "\\lambda^j_{k+1} = \\frac{(Y_{k+1})_j}{(X_k)_j}\\,, \\quad j=1,2,\\ldots, n\\,.\n",
    "$$\n",
    "\n",
    "</li>\n",
    "\n",
    "</ul>\n",
    "Sabemos también que bajo ciertas hipótesis (autovalor $\\lambda_1$ dominante único, excepto multiplicidad, buena elección del vector inicial, etc.) se obtienen resultados de convergencia en el siguiente sentido:\n",
    "<ul>\n",
    "    <li>se tiene la convergencia de normas\n",
    "$$\n",
    "\\lim_{k\\to\\infty} \\|Y_{k+1}\\| = \\lim_{k\\to\\infty} \\|A\\,X_k\\| = |\\lambda_1|\\,;\n",
    "$$\n",
    "</li>\n",
    "    <li>se tiene la convergencia del cociente de componentes (cuando tengan sentido)\n",
    "$$\n",
    "\\lim_{k\\to\\infty} \\lambda^j_k = \\lim_{k\\to\\infty} \\frac{(Y_{k+1})_j}{(X_k)_j} = \\lambda_1\\,, \\quad j=1,2,\\ldots, n\\,;\n",
    "$$\n",
    "</li>\n",
    "    <li>se tiene la convergencia de los vectores\n",
    "$$\n",
    "\\lim_{k\\to\\infty} \\left( \\frac{\\bar{\\lambda}_1}{|\\lambda_1|} \\right)^k X_k\n",
    "$$\n",
    "hacia un autovector asociado al autovalor $\\lambda_1$.</li>\n",
    "</ul>"
   ]
  },
  {
   "cell_type": "markdown",
   "id": "e2e87cce",
   "metadata": {},
   "source": [
    "\n",
    "Elaboramos a continuación un programa que implementa el algoritmo del método de la potencia. Dicho programa, de nombre <span style=\"font-family: Courier,monospace\">potencia()</span>, tiene como argumentos de entrada, por este orden, la matriz <span style=\"font-family: Courier,monospace\">A</span>, el vector inicial con el que comenzar las iteraciones <span style=\"font-family: Courier,monospace\">X</span>, la norma <span style=\"font-family: Courier,monospace\">norma</span> con la que realizar el proceso de normalización, el número máximo de iteraciones <span style=\"font-family: Courier,monospace\">itermax</span> superadas las cuales el proceso se detendrá, y la tolerancia <span style=\"font-family: Courier,monospace\">tol</span> que establece el test de parada. En caso de éxito, los parámtros de salida son una variable booleana indicando que efectivamente se ha alcanzado una situación de convergencia (en caso contrario se envía un mensaje explicativo de error), así como los últimos valores calculados de la sucesión de las normas de $Y_k$, de las sucesiones $\\lambda^j_k$, $j=1,2,\\ldots,n$ y de los vectores $X_k$.\n",
    "<br>\n",
    "En el algoritmo implementado se realizarán iteraciones mientras que el número de iteraciones sea inferior al máximo establecido dado y el error sea superior o igual a la tolerancia dada, calculándose el error sobre el valor absoluto de la diferencia de las normas de $Y_{k+1}$ e $Y_k$. En un primer momento podemos hacer que el programa imprima bastante información durante las iteraciones; una vez que se conozca el funcionamiento del mismo, puede ser interesante imprimir menos información.\n"
   ]
  },
  {
   "cell_type": "code",
   "execution_count": 5,
   "id": "b3ffa4c6",
   "metadata": {},
   "outputs": [],
   "source": [
    "def potencia(A, X, norma, itermax, tol):\n",
    "    m, n = shape(A)\n",
    "    r, s = shape(X)\n",
    "    if m != n or n != r or s != 1:\n",
    "        return False, 'ERROR potencia: no se ejecuta el programa.'\n",
    "    k = 0\n",
    "    error = 1.\n",
    "    normaold = 0.\n",
    "    lambdas = zeros(n, dtype=complex)\n",
    "    while k < itermax and error >= tol:\n",
    "        k = k+1\n",
    "        Y = A@X\n",
    "        normanew = norm(Y, norma)\n",
    "        error = abs(normanew - normaold)\n",
    "        for i in range(n):\n",
    "            if abs(X[i, 0]) >= 1.e-100:\n",
    "                lambdas[i] = Y[i, 0]/X[i, 0]\n",
    "            else:\n",
    "                lambdas[i] = 0.\n",
    "        X = Y/normanew\n",
    "        print('Iteración: k = ', k)\n",
    "        print('Norma: ||A*X_k|| = ', normanew)\n",
    "#        print('Lambdas: lambdas_k = \\n', lambdas)\n",
    "#        print('Vectores: X_k = \\n', X)\n",
    "        normaold = normanew\n",
    "    if k == itermax and error >= tol:\n",
    "        return False, 'ERROR potencia: no se alcanza convergencia.'\n",
    "    else:\n",
    "        print('\\n Potencia: convergencia numérica alcanzada.')\n",
    "        return True, normanew, lambdas, X"
   ]
  },
  {
   "cell_type": "markdown",
   "id": "6fd652f7",
   "metadata": {},
   "source": [
    "\n",
    "<span style=\"color:#FF0000\"><b>Ejercicio 1.</b></span> Dada la matriz\n",
    "$$\n",
    "A = \\left( \\begin{array}{rrrr} -2 & 3 & -3 & 11 \\\\ -8 & 9 & -12 & 20 \\\\ -3 & 3 & -6 & 15 \\\\ -3 & 3 & -3 & 12 \\end{array} \\right)\\,,\n",
    "$$\n",
    "calcular mediante el método de la potencia, si es posible, su autovalor dominante y un autovector asociado. Utilizar la norma infinito y tomar como vector inicial el primer vector de la base canónica de $\\mathbb{C}^4$."
   ]
  },
  {
   "cell_type": "code",
   "execution_count": 2,
   "id": "0b4885a7",
   "metadata": {},
   "outputs": [
    {
     "name": "stdout",
     "output_type": "stream",
     "text": [
      "A = \n",
      " [[ -2   3  -3  11]\n",
      " [ -8   9 -12  20]\n",
      " [ -3   3  -6  15]\n",
      " [ -3   3  -3  12]]\n",
      "X_0 = \n",
      " [[1]\n",
      " [0]\n",
      " [0]\n",
      " [0]]\n",
      "\n",
      " Potencia: convergencia numérica alcanzada.\n",
      "Valor de las normas:  9.000000000003144\n",
      "Valores de los lambdas:  [9.01549431+0.j 9.        +0.j 9.01549431+0.j 9.01549431+0.j]\n",
      "Autovector:  [[-0.99657451]\n",
      " [-1.        ]\n",
      " [-0.99657451]\n",
      " [-0.99657451]]\n"
     ]
    }
   ],
   "source": [
    "A = array([[-2, 3, -3, 11], [-8, 9, -12, 20], [-3, 3, -6, 15], [-3, 3, -3, 12]])\n",
    "print(\"A = \\n\", A)\n",
    "X0 = array([[1], [0], [0], [0]])\n",
    "print(\"X_0 = \\n\", X0)\n",
    "exito, normaY, lambdas, X = potencia(A,X0,inf,200,1e-10)\n",
    "if exito:\n",
    "    print(\"Valor de las normas: \", normaY)\n",
    "    print(\"Valores de los lambdas: \", lambdas)\n",
    "    print(\"Autovector: \", X)\n",
    "else:\n",
    "    print(\"Error no convergencia\")"
   ]
  },
  {
   "cell_type": "markdown",
   "id": "a77f8e88",
   "metadata": {},
   "source": [
    "\n",
    "Una variante del método de la potencia es el <b>método de la potencia inversa</b>, que consiste en aplicar el método de la potencia a la matriz $A^{-1}$, en caso de que la misma exista (en caso contrario significa que es singular, y por tanto $\\lambda=0$ es autovalor).\n",
    "<br>\n",
    "Elaboramos a continuación un programa, de nombre <span style=\"font-family: Courier,monospace\">potenciainv()</span>, con los mismos parámetros de entrada y de salida que el anterior, que implemente dicho algoritmo.\n",
    "<br>\n",
    "Notamos que en la implementación utilizaremos el método $L\\,U$ para calcular la solución de $Y_{k+1}=A^{-1}\\,X_k$, por lo que habría que hacer una única llamada al principio al programa <span style=\"font-family: Courier,monospace\">facto_lu()</span> y llamadas a los programas <span style=\"font-family: Courier,monospace\">descenso1()</span> y <span style=\"font-family: Courier,monospace\">remonte</span> en cada iteración.\n"
   ]
  },
  {
   "cell_type": "code",
   "execution_count": 3,
   "id": "b2a62cb0",
   "metadata": {},
   "outputs": [],
   "source": [
    "def potenciainv(A, X, norma, itermax, tol):\n",
    "    m, n = shape(A)\n",
    "    r, s = shape(X)\n",
    "    if m != n or n != r or s != 1:\n",
    "        return False, 'ERROR potencia: no se ejecuta el programa.'\n",
    "    exito, LU = facto_lu(A)\n",
    "    k = 0\n",
    "    error = 1.\n",
    "    normaold = 0.\n",
    "    lambdas = zeros(n, dtype=complex)\n",
    "    while k < itermax and error >= tol:\n",
    "        k = k+1\n",
    "        exito, Y = descenso1(LU,X)\n",
    "        exito, Y = remonte(LU, Y)\n",
    "        normanew = norm(Y, norma)\n",
    "        error = abs(normanew - normaold)\n",
    "        for i in range(n):\n",
    "            if abs(X[i, 0]) >= 1.e-100:\n",
    "                lambdas[i] = Y[i, 0]/X[i, 0]\n",
    "            else:\n",
    "                lambdas[i] = 0.\n",
    "        X = Y/normanew\n",
    "        print('Iteración: k = ', k)\n",
    "        print('Norma: ||A*X_k|| = ', normanew)\n",
    "#        print('Lambdas: lambdas_k = \\n', lambdas)\n",
    "#        print('Vectores: X_k = \\n', X)\n",
    "        normaold = normanew\n",
    "    if k == itermax and error >= tol:\n",
    "        return False, 'ERROR potencia: no se alcanza convergencia.'\n",
    "    else:\n",
    "        print('\\n Potencia: convergencia numérica alcanzada.')\n",
    "        return True, normanew, lambdas, X"
   ]
  },
  {
   "cell_type": "markdown",
   "id": "74fee0ec",
   "metadata": {},
   "source": [
    "<span style=\"color:#FF0000\"><b>Ejercicio 2.</b></span> Para la matriz dada en el ejercicio anterior, calcular mediante el método de la potencia inversa, si es posible, su autovalor de módulo menor y un autovector asociado. Utilizar la norma infinito y tomar como vector inicial el primer vector de la base canónica de $\\mathbb{C}^4$."
   ]
  },
  {
   "cell_type": "code",
   "execution_count": 4,
   "id": "84a173ae",
   "metadata": {},
   "outputs": [
    {
     "name": "stdout",
     "output_type": "stream",
     "text": [
      "A = \n",
      " [[ -2   3  -3  11]\n",
      " [ -8   9 -12  20]\n",
      " [ -3   3  -6  15]\n",
      " [ -3   3  -3  12]]\n",
      "X_0 = \n",
      " [[1]\n",
      " [0]\n",
      " [0]\n",
      " [0]]\n",
      "Iteración: k =  1\n",
      "Norma: ||A*X_k|| =  1.0555555555555558\n",
      "Iteración: k =  2\n",
      "Norma: ||A*X_k|| =  0.9619883040935673\n",
      "Iteración: k =  3\n",
      "Norma: ||A*X_k|| =  0.9880108071597431\n",
      "Iteración: k =  4\n",
      "Norma: ||A*X_k|| =  0.9973698702975748\n",
      "Iteración: k =  5\n",
      "Norma: ||A*X_k|| =  0.9994927906457691\n",
      "Iteración: k =  6\n",
      "Norma: ||A*X_k|| =  0.9999078963436698\n",
      "Iteración: k =  7\n",
      "Norma: ||A*X_k|| =  0.9999838116923525\n",
      "Iteración: k =  8\n",
      "Norma: ||A*X_k|| =  0.9999972089830678\n",
      "Iteración: k =  9\n",
      "Norma: ||A*X_k|| =  0.9999995245045199\n",
      "Iteración: k =  10\n",
      "Norma: ||A*X_k|| =  0.999999919603527\n",
      "Iteración: k =  11\n",
      "Norma: ||A*X_k|| =  0.9999999864731213\n",
      "Iteración: k =  12\n",
      "Norma: ||A*X_k|| =  0.9999999977313572\n",
      "Iteración: k =  13\n",
      "Norma: ||A*X_k|| =  0.9999999996203193\n",
      "Iteración: k =  14\n",
      "Norma: ||A*X_k|| =  0.999999999936545\n",
      "Iteración: k =  15\n",
      "Norma: ||A*X_k|| =  0.9999999999894047\n",
      "\n",
      " Potencia: convergencia numérica alcanzada.\n",
      "Valor de las normas:  0.9999999999894047\n",
      "Valores de los lambdas:  [1.        +0.j 1.        +0.j 0.16685754+0.j 0.16685754+0.j]\n",
      "Autovector:  [[1.00000000e+00]\n",
      " [1.00000000e+00]\n",
      " [2.12196246e-12]\n",
      " [2.12196246e-12]]\n"
     ]
    }
   ],
   "source": [
    "A = array([[-2, 3, -3, 11], [-8, 9, -12, 20], [-3, 3, -6, 15], [-3, 3, -3, 12]])\n",
    "print(\"A = \\n\", A)\n",
    "X0 = array([[1], [0], [0], [0]])\n",
    "print(\"X_0 = \\n\", X0)\n",
    "exito, normaY, lambdas, X = potenciainv(A,X0,inf,200,1e-10)\n",
    "if exito:\n",
    "    print(\"Valor de las normas: \", normaY)\n",
    "    print(\"Valores de los lambdas: \", lambdas)\n",
    "    print(\"Autovector: \", X)\n",
    "else:\n",
    "    print(\"Error no convergencia\")"
   ]
  },
  {
   "cell_type": "markdown",
   "id": "8df70d1e",
   "metadata": {},
   "source": [
    "Otra variante del método de la potencia es el método de la <b>potencia desplazada</b>, que consiste en aplicar el método de la potencia a la matriz $A-\\mu\\,I$, donde $\\mu\\in\\mathbb{C}$ es una valor dado que nos permite mover la escala de los autovalores para localizar otros. Evidentemente se puede combinar el método de la potencia desplazada, con el método de la potencia inversa, dando lugar al método de la <b>potencia desplazada inversa</b>, que nos permite calcular el más próximo al valor de $\\mu$.\n",
    "<br>\n",
    "Los programas <span style=\"font-family: Courier,monospace\">potenciades()</span> y <span style=\"font-family: Courier,monospace\">potenciadesinv()</span> implementarán dichos algoritmos; dichos programas deben tener un parámetro de entrada adicional, que es el valor de $\\mu$."
   ]
  },
  {
   "cell_type": "code",
   "execution_count": 12,
   "id": "0e71753e",
   "metadata": {},
   "outputs": [],
   "source": [
    "def potenciades(A, X, des, norma, itermax, tol):\n",
    "    m , n = shape(A)\n",
    "    B = A - des*eye(n)\n",
    "    exito, normanew, lambdas, X = potencia(B,X, norma, itermax,tol)\n",
    "    return exito, normanew, lambdas, X"
   ]
  },
  {
   "cell_type": "code",
   "execution_count": 18,
   "id": "03c9f55f",
   "metadata": {},
   "outputs": [],
   "source": [
    "def potenciadesinv(A, X, des, norma, itermax, tol):\n",
    "    m , n = shape(A)\n",
    "    B = A - des*eye(n)\n",
    "    exito, normanew, lambdas, X = potenciainv(B,X, norma, itermax,tol)\n",
    "    return exito, normanew, lambdas, X"
   ]
  },
  {
   "cell_type": "markdown",
   "id": "a0043b03",
   "metadata": {},
   "source": [
    "<span style=\"color:#FF0000\"><b>Ejercicio 3.</b></span> Para la matriz dada en los ejercicios anteriores, calcular mediante el método de la potencia inversa y sus variantes toda la información posible sobre sus autovalores y autovectores."
   ]
  },
  {
   "cell_type": "code",
   "execution_count": 5,
   "id": "532c9f94",
   "metadata": {},
   "outputs": [
    {
     "name": "stdout",
     "output_type": "stream",
     "text": [
      "A = \n",
      " [[ -2   3  -3  11]\n",
      " [ -8   9 -12  20]\n",
      " [ -3   3  -6  15]\n",
      " [ -3   3  -3  12]]\n",
      "X_0 = \n",
      " [[0]\n",
      " [0]\n",
      " [0]\n",
      " [1]]\n",
      "\n",
      " Potencia: convergencia numérica alcanzada.\n",
      "Valor de las normas:  11.999999999836817\n",
      "Valores de los lambdas:  [ -7.99999814+0.j -12.        +0.j -12.        +0.j   0.        +0.j]\n",
      "Autovector:  [[-2.71972057e-11]\n",
      " [-1.00000000e+00]\n",
      " [-1.00000000e+00]\n",
      " [ 4.69792957e-19]]\n"
     ]
    }
   ],
   "source": [
    "A = array([[-2, 3, -3, 11], [-8, 9, -12, 20], [-3, 3, -6, 15], [-3, 3, -3, 12]])\n",
    "print(\"A = \\n\", A)\n",
    "X0 = array([[0], [0], [0], [1]])\n",
    "print(\"X_0 = \\n\", X0)\n",
    "exito, normaY, lambdas, X = potenciades(A,X0,9,inf,200,1e-10)\n",
    "if exito:\n",
    "    print(\"Valor de las normas: \", normaY)\n",
    "    print(\"Valores de los lambdas: \", lambdas)\n",
    "    print(\"Autovector: \", X)\n",
    "else:\n",
    "    print(\"Error no convergencia\")"
   ]
  },
  {
   "cell_type": "code",
   "execution_count": 6,
   "id": "033255ba",
   "metadata": {},
   "outputs": [
    {
     "name": "stdout",
     "output_type": "stream",
     "text": [
      "A = \n",
      " [[ -2   3  -3  11]\n",
      " [ -8   9 -12  20]\n",
      " [ -3   3  -6  15]\n",
      " [ -3   3  -3  12]]\n",
      "X_0 = \n",
      " [[1]\n",
      " [1]\n",
      " [0]\n",
      " [0]]\n",
      "\n",
      " Potencia: convergencia numérica alcanzada.\n",
      "Valor de las normas:  1.0\n",
      "Valores de los lambdas:  [1.+0.j 1.+0.j 0.+0.j 0.+0.j]\n",
      "Autovector:  [[1.]\n",
      " [1.]\n",
      " [0.]\n",
      " [0.]]\n"
     ]
    }
   ],
   "source": [
    "A = array([[-2, 3, -3, 11], [-8, 9, -12, 20], [-3, 3, -6, 15], [-3, 3, -3, 12]])\n",
    "print(\"A = \\n\", A)\n",
    "X0 = array([[1], [1], [0], [0]])\n",
    "print(\"X_0 = \\n\", X0)\n",
    "exito, normaY, lambdas, X = potencia(A,X0,inf,200,1e-10)\n",
    "if exito:\n",
    "    print(\"Valor de las normas: \", normaY)\n",
    "    print(\"Valores de los lambdas: \", lambdas)\n",
    "    print(\"Autovector: \", X)\n",
    "else:\n",
    "    print(\"Error no convergencia\")"
   ]
  }
 ],
 "metadata": {
  "kernelspec": {
   "display_name": "Python 3",
   "language": "python",
   "name": "python3"
  },
  "language_info": {
   "codemirror_mode": {
    "name": "ipython",
    "version": 3
   },
   "file_extension": ".py",
   "mimetype": "text/x-python",
   "name": "python",
   "nbconvert_exporter": "python",
   "pygments_lexer": "ipython3",
   "version": "3.10.4"
  }
 },
 "nbformat": 4,
 "nbformat_minor": 5
}
