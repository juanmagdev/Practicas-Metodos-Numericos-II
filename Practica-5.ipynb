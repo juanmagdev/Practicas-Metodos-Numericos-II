{
 "cells": [
  {
   "cell_type": "markdown",
   "metadata": {},
   "source": [
    "<div align=\"center\"><span style=\"font-family: Arial,Helvetica,sans-serif; color:#0000FF\"\"><b>\n",
    "    <span style=\"font-size: x-large\">Métodos Numéricos II</span>\n",
    "    <br>\n",
    "    <span style=\"font-size: large\">Segundo de Grado en Matemáticas - Curso 2021/22</span>\n",
    "    <br>\n",
    "    Facultad de Ciencias de la Universidad de Málaga\n",
    "    <br>\n",
    "    <span style=\"font-size: small\">Dpto. de Análisis Matemático, Estadística e Investigación Operativa, y Matemática Aplicada</span>\n",
    "    <br>\n",
    "    <span style=\"font-size: small\">Profs. María López y Francisco José Palma (Área Conocimiento de Matemática Aplicada)</span>\n",
    "    <br>\n",
    "    <span style=\"color:#FF0000\">Práctica número 5</span>\n",
    "    </b></span></div>"
   ]
  },
  {
   "cell_type": "code",
   "execution_count": 1,
   "metadata": {},
   "outputs": [],
   "source": [
    "from algoritmos import *"
   ]
  },
  {
   "cell_type": "markdown",
   "metadata": {},
   "source": [
    "\n",
    "El objetivo de esta práctica es definir funciones <span style=\"font-family: Courier,monospace\">Python</span> para resolver sistemas de ecuaciones lineales por <span style=\"color:#FF0000\"><b>métodos de tipo Gauss</b></span>.\n",
    "    <br>\n",
    "Suponemos por tanto dadas $A\\in\\mathcal{M}_n(\\mathbb{K})$ inversible y $B\\in\\mathbb{K}^n$, y desarrollamos métodos numéricos para calcular $X\\in\\mathbb{K}^n$ tal que $A\\,X = B$.\n"
   ]
  },
  {
   "cell_type": "markdown",
   "metadata": {},
   "source": [
    "El <span style=\"color:#FF0000\"><b>método de Gauss</b></span> es un <b>método directo</b> de resolución del problema anterior que, formalmente, equivale a calcular una matriz $M\\in\\mathcal{M}_n(\\mathbb{K})$ inversible tal que la matriz $M\\,A$ sea <b>triangular superior</b> y, posteriormente, resolver el sistema $(M\\,A)\\,X = (M\\,B)$ mediante un <b>método de remonte</b>.\n",
    "<br>\n",
    "En la práctica no se calcula dicha matriz $M$, sino que se va <b>triangularizando</b> la matriz $A$ mediante un <b>proceso iterativo</b> de $n-1$ etapas, en cada una de las cuales, tras colocar en la posición diagonal correspondiente un elemento no nulo (<b>pivote</b> de la iteración), se van haciendo nulos a través de adecuadas combinaciones lineales todos los elementos de la columna situados por debajo de la diagonal principal."
   ]
  },
  {
   "cell_type": "markdown",
   "metadata": {},
   "source": [
    "\n",
    "De manera similar, el <span style=\"color:#FF0000\"><b>método de Gauss-Jordan</b></span> es un <b>método directo</b> de resolución del mismo problema que, formalmente, equivale a calcular una matriz $M\\in\\mathcal{M}_n(\\mathbb{K})$ inversible tal que la matriz $M\\,A$ sea <b>diagonal</b> y, posteriormente, resolver el sistema $(M\\,A)\\,X = (M\\,B)$ que es inmediato debido al carácter diagonal de la matriz.\n",
    "<br>\n",
    "Tampoco aquí en la práctica se calcula dicha matriz $M$, sino que se va <b>diagonalizando</b> la matriz $A$ mediante un <b>proceso iterativo</b> de $n$ etapas, en cada una de las cuales, tras colocar en la posición diagonal correspondiente un elemento no nulo (<b>pivote</b> de la iteración), se van haciendo nulos a través de adecuadas combinaciones lineales todos los elementos de la columna excepto, evidentemente, el situado en la diagonal principal."
   ]
  },
  {
   "cell_type": "markdown",
   "metadata": {},
   "source": [
    "En ambos métodos tiene particular importancia la elección del elemento que en cada iteración ocupa la posición de pivote; las dos técnicas más habituales son la de <b>pivote parcial</b> y la de <b>primer pivote no nulo</b>."
   ]
  },
  {
   "cell_type": "markdown",
   "metadata": {},
   "source": [
    "Nos planteamos entonces como primer objetivo elaborar cuatro funciones, a las que daremos los nombres de <span style=\"font-family: Courier,monospace\">gauss_pp()</span> y <span style=\"font-family: Courier,monospace\">gauss_1p()</span>, para el <b>método de Gauss</b>, y <span style=\"font-family: Courier,monospace\">gaussjordan_pp()</span> y <span style=\"font-family: Courier,monospace\">gaussjordan_1p()</span>, para el de <b>Gauss-Jordan</b>, que implementan ambos algoritmos con las dos <b>técnicas de elección de pivote</b> indicadas anteriormente.\n",
    "<br>\n",
    "En todos los casos habrá dos <b>argumentos de entrada</b>, que son la matriz $A$ y el segundo miembro $B$, y como <b>salida</b> se obtienen también dos variables, siendo la primera de tipo booleano, en la que los valores <span style=\"font-family: Courier,monospace\">True</span> o <span style=\"font-family: Courier,monospace\">False</span> indica que se ha resuelto con éxito o no el sistema, y conteniendo la segunda variable la solución o un mensaje de error, respectivamente."
   ]
  },
  {
   "cell_type": "markdown",
   "metadata": {},
   "source": [
    "\n",
    "En todos los programas que realicemos se intentará utilizar la misma terminología y nombre de las variables que se ha visto en clases teóricas y de problemas; de esta manera es posible seguir mejor la programación del algoritmo correspondiente. En cualquier caso, resaltamos los siguientes hechos:\n",
    "<ul>\n",
    "<li> siempre se trabaja con la idea de que los programas puedan resolver múltiples sistemas lineales, todos con la misma matriz $A$, de manera simultánea, por lo que supondremos que $B$, y en consecuencia $X$ también, no es un vector de $\\mathbb{K}^n$, sino un matriz de $\\mathcal{M}_{n\\times q}(\\mathbb{K})$\n",
    "<li> el bucle principal del proceso iterativo se realiza en la variable <span style=\"font-family: Courier,monospace\">k</span>; recordamos que hay $n-1$ iteraciones en el método de Gauss y $n$ en el de Gauss-Jordan;</li>\n",
    "<li> siempre que se haga referencia a las filas de las matrices se utiliza preferentemente el índice <span style=\"font-family: Courier,monospace\">i</span>, mientras que para las columnas se utiliza el índice <span style=\"font-family: Courier,monospace\">j</span>;</li>\n",
    "<li>la fila en la que se localiza la posición del pivote de cada iteración (dependiendo de la estrategia utilizada), se identifica con el índice <span style=\"font-family: Courier,monospace\">ik</span>;</li>\n",
    "<li>son fácilmente identificables las instrucciones que permutan las filas de la matriz y del segundo miembro, en el caso de que el pivote de la iteración no se encuentre en la posición natural;</li>\n",
    "<li>el proceso de hacer ceros por debajo de la diagonal (y por encima también en el caso de Gauss-Jordan), se realiza únicamente si el pivote elegido es mayor o igual en módulo que $10^{-200}$, que es el umbral de precisión elegido;</li>\n",
    "<li>en cada iteración solamente se calculan los elementos de la matriz y del segundo miembro que cambian, no realizandose ningún cálculo supérfluo;</li>\n",
    "<li>en las posiciones que deberían anularse en la iteración $k$-ésima, es decir, $a_{i,k}^{k+1}$, para $i=k+1,\\ldots,n$, (en el caso de Gauss-Jordan también para $i=1,\\ldots,k-1$) no se guardan ceros, sino que se almacenan los cocientes $\\displaystyle\\frac{\\alpha_{i,k}^k}{\\alpha_{k,k}^k}$, que son los elementos no nulos y no diagonales de la matrix de combinaciones lineales $E_k$ con signo cambiado;</li>\n",
    "<li>en el método de Gauss, el proceso de resolución del sistema lineal se realiza mediante una llamada al programa <span style=\"font-family: Courier,monospace\">remonte()</span>, que sería el que detectaría, si fuera el caso, la existencia de elementos nulos (o casi nulos) en la diagonal principal, es decir, detectaría si la matriz es o no regular;\n",
    "<li>en el método de Gauss-Jordan, la resolución del(de los) sistema(s), es decir las $n$ divisiones de los elementos del(de los) segundo(s) miembro(s) por los elementos diagonales de $M\\,A$, se realiza en el propio código, previa comprobación de que dichos elementos diagonales superen el umbral de precisión elegido.</li>\n",
    "</ul>"
   ]
  },
  {
   "cell_type": "markdown",
   "metadata": {},
   "source": [
    "\n",
    "<span style=\"color:#FF0000\"><b>Ejercicio 1.</b></span> Elaborar un programa de nombre <span style=\"font-family: Courier,monospace\">gaus_pp()</span> que implemente el algoritmo del <b>método de Gauss</b>, con estrategia de <b>pivote parcial</b>."
   ]
  },
  {
   "cell_type": "code",
   "execution_count": 2,
   "metadata": {},
   "outputs": [],
   "source": [
    "def gauss_pp(A, B):\n",
    "    m, n = shape(A)\n",
    "    p, q = shape(B)\n",
    "    if m != n or n != p or q < 1:\n",
    "        return False, \"Error gauss_pp: error en las dimensiones.\"\n",
    "    if A.dtype == complex or B.dtype == complex:\n",
    "        gaussA = array(A, dtype=complex)\n",
    "        gaussB = array(B, dtype=complex)\n",
    "    else:\n",
    "        gaussA = array(A, dtype=float)\n",
    "        gaussB = array(B, dtype=float)\n",
    "    for k in range(n-1):\n",
    "        pos = argmax(abs(gaussA[k:, k]))\n",
    "        ik = pos+k\n",
    "        if ik != k:\n",
    "            gaussA[[ik, k], :] = gaussA[[k, ik], :]\n",
    "            gaussB[[ik, k], :] = gaussB[[k, ik], :]\n",
    "        if abs(gaussA[k, k]) >= 1e-200:\n",
    "            for i in range(k+1, n):\n",
    "                gaussA[i, k] = gaussA[i, k]/gaussA[k, k]\n",
    "                gaussA[i, k+1:] -= gaussA[i, k]*gaussA[k, k+1:]\n",
    "                gaussB[i, :] -= gaussA[i, k]*gaussB[k, :]\n",
    "    exito, X = remonte(gaussA, gaussB)\n",
    "    return exito, X"
   ]
  },
  {
   "cell_type": "markdown",
   "metadata": {},
   "source": [
    "<span style=\"color:#FF0000\"><b>Ejercicio 2.</b></span> Elaborar un programa de nombre <span style=\"font-family: Courier,monospace\">gausjordan_pp()</span> que implemente el algoritmo del <b>método de Gauss-Jordan</b>, con estrategia de <b>pivote parcial</b>."
   ]
  },
  {
   "cell_type": "code",
   "execution_count": 3,
   "metadata": {},
   "outputs": [],
   "source": [
    "def gaussjordan_pp(A, B):\n",
    "    (m, n) = shape(A)\n",
    "    (p, q) = shape(B)\n",
    "    if m != n or n != p or q < 1:\n",
    "        return False, \"gaussjordan_pp: error en las dimensiones\"\n",
    "    if A.dtype == complex or B.dtype == complex:\n",
    "        gjA = array(A, dtype=complex)\n",
    "        gjB = array(B, dtype=complex)\n",
    "    else:\n",
    "        gjA = array(A, dtype=float)\n",
    "        gjB = array(B, dtype=float)\n",
    "    for k in range(n):\n",
    "        pos = argmax(abs(gjA[k:n, k]))\n",
    "        ik = pos+k\n",
    "        if ik != k:\n",
    "            gjA[[ik, k], :] = gjA[[k, ik], :]\n",
    "            gjB[[ik, k], :] = gjB[[k, ik], :]\n",
    "        if abs(gjA[k, k]) >= 1e-15:\n",
    "            for i in range(k):\n",
    "                gjA[i, k] = gjA[i, k]/gjA[k, k]\n",
    "                gjA[i, k+1:] = gjA[i, k+1:]-gjA[i, k]*gjA[k, k+1:]\n",
    "                gjB[i, :] = gjB[i, :]-gjA[i, k]*gjB[k, :]\n",
    "            for i in range(k+1, n):\n",
    "                gjA[i, k] = gjA[i, k]/gjA[k, k]\n",
    "                gjA[i, k+1:] = gjA[i, k+1:]-gjA[i, k]*gjA[k, k+1:]\n",
    "                gjB[i, :] = gjB[i, :]-gjA[i, k]*gjB[k, :]\n",
    "    if min(abs(diag(gjA))) < 1e-15:\n",
    "        return False, \"gaussjordan_pp: matriz singular\"\n",
    "    if A.dtype == complex or B.dtype == complex:\n",
    "        X = zeros((n, q), dtype=complex)\n",
    "    else:\n",
    "        X = zeros((n, q), dtype=float)\n",
    "    for i in range(n):\n",
    "        X[i, :] = gjB[i, :]/gjA[i, i]\n",
    "    return True, X"
   ]
  },
  {
   "cell_type": "markdown",
   "metadata": {},
   "source": [
    "\n",
    "<span style=\"color:#FF0000\"><b>Ejercicio 3.</b></span> Resolver los siguientes sistemas de ecuaciones lineales mediante los métodos de Gauss y de Gauss-Jordan, con estrategias de pivote parcial:\n",
    "$$\n",
    "(a) \\quad \\left( \\begin{array}{rrrr}\n",
    "1 & 2 & 1 & 4 \\\\ 2 & 0 & 4 & 3 \\\\ 4 & 2 & 2 & 1 \\\\ -3 & 1 & 3 & 2\n",
    "\\end{array} \\right) \\, \\left( \\begin{array}{c}\n",
    "x_1 \\\\ x_2 \\\\ x_3 \\\\ x_4\n",
    "\\end{array} \\right) = \\left( \\begin{array}{r}\n",
    "13 \\\\ 28 \\\\ 20 \\\\ 6\n",
    "\\end{array} \\right) \\qquad (b) \\quad \\left( \\begin{array}{rrrr}\n",
    "20514 & 4424 & 978 & 224 \\\\ 4424 & 978 & 224 & 54 \\\\ 978 & 224 & 54 & 14 \\\\ 224 & 54 & 14 & 4\n",
    "\\end{array} \\right) \\, \\left( \\begin{array}{c}\n",
    "x_1 \\\\ x_2 \\\\ x_3 \\\\ x_4\n",
    "\\end{array} \\right) =  \\left( \\begin{array}{r}\n",
    "20514 \\\\ 4424 \\\\ 978 \\\\ 224\n",
    "\\end{array} \\right)\n",
    "$$"
   ]
  },
  {
   "cell_type": "code",
   "execution_count": 5,
   "metadata": {},
   "outputs": [
    {
     "name": "stdout",
     "output_type": "stream",
     "text": [
      "Matriz: A =  [[ 1  2  1  4]\n",
      " [ 2  0  4  3]\n",
      " [ 4  2  2  1]\n",
      " [-3  1  3  2]]\n",
      "Segundo miembro: B =  [[13]\n",
      " [28]\n",
      " [20]\n",
      " [ 6]]\n"
     ]
    },
    {
     "data": {
      "text/plain": [
       "(True,\n",
       " array([[ 3.],\n",
       "        [-1.],\n",
       "        [ 4.],\n",
       "        [ 2.]]))"
      ]
     },
     "execution_count": 5,
     "metadata": {},
     "output_type": "execute_result"
    }
   ],
   "source": [
    "A = array([[1, 2, 1, 4], [2, 0, 4, 3], [4, 2, 2, 1], [-3, 1, 3, 2]])\n",
    "print(\"Matriz: A = \", A)\n",
    "B = array([[13], [28], [20], [6]])\n",
    "print(\"Segundo miembro: B = \", B)\n",
    "gauss_1p(A, B)"
   ]
  },
  {
   "cell_type": "code",
   "execution_count": 6,
   "metadata": {},
   "outputs": [
    {
     "data": {
      "text/plain": [
       "array([[-6.93889390e-18,  8.33333333e-02,  8.33333333e-02,\n",
       "        -1.66666667e-01],\n",
       "       [ 6.66666667e-02, -3.44444444e-01,  3.22222222e-01,\n",
       "         2.22222222e-01],\n",
       "       [-2.00000000e-01,  1.16666667e-01,  1.16666667e-01,\n",
       "         1.66666667e-01],\n",
       "       [ 2.66666667e-01,  1.22222222e-01, -2.11111111e-01,\n",
       "        -1.11111111e-01]])"
      ]
     },
     "execution_count": 6,
     "metadata": {},
     "output_type": "execute_result"
    }
   ],
   "source": []
  },
  {
   "cell_type": "markdown",
   "metadata": {},
   "source": [
    "<span style=\"color:#FF0000\"><b>Ejercicio 4.</b></span> Calcular las inversas de las matrices de los sistemas anteriores."
   ]
  },
  {
   "cell_type": "code",
   "execution_count": 7,
   "metadata": {},
   "outputs": [
    {
     "data": {
      "text/plain": [
       "array([[-6.93889390e-18,  8.33333333e-02,  8.33333333e-02,\n",
       "        -1.66666667e-01],\n",
       "       [ 6.66666667e-02, -3.44444444e-01,  3.22222222e-01,\n",
       "         2.22222222e-01],\n",
       "       [-2.00000000e-01,  1.16666667e-01,  1.16666667e-01,\n",
       "         1.66666667e-01],\n",
       "       [ 2.66666667e-01,  1.22222222e-01, -2.11111111e-01,\n",
       "        -1.11111111e-01]])"
      ]
     },
     "execution_count": 7,
     "metadata": {},
     "output_type": "execute_result"
    }
   ],
   "source": [
    "inv(A)"
   ]
  },
  {
   "cell_type": "code",
   "execution_count": null,
   "metadata": {},
   "outputs": [],
   "source": [
    "..."
   ]
  },
  {
   "cell_type": "markdown",
   "metadata": {},
   "source": [
    "<span style=\"color:#FF0000\"><b>Ejercicio 5.</b></span> Para el caso (a) del Ejercicio 3, escribir el sistema final triangular superior resultante $(M\\,A)\\,X = M\\,B$ cuando se utiliza el método de Gauss. Identificar también las matrices $A_k$ y segundos miembros $B_k$, $k=1,2,\\ldots,n$ del proceso iterativo."
   ]
  },
  {
   "cell_type": "markdown",
   "metadata": {},
   "source": [
    "<div align=\"justify\"><span style=\"font-family: Arial,Helvetica,sans-serif; font-size: medium; color:#000000\"\">\n",
    "    <span style=\"color:#FF0000\"><b>Ejercicio 6.</b></span> Para el caso (a) del Ejercicio 3, escribir el sistema final diagonal resultante $(M\\,A)\\,X = M\\,B$ cuando se utiliza el método de Gauss-Jordan. Identificar también las matrices $A_k$ y segundos miembros $B_k$, $k=1,2,\\ldots,n+1$ del proceso iterativo.\n",
    "    </span></div>"
   ]
  },
  {
   "cell_type": "markdown",
   "metadata": {},
   "source": [
    "<div align=\"justify\"><span style=\"font-family: Arial,Helvetica,sans-serif; font-size: medium; color:#000000\"\">\n",
    "    <span style=\"color:#FF0000\"><b>Ejercicio 7.</b></span> Elaborar un programa de nombre <span style=\"font-family: Courier,monospace\">gaus_1p()</span> que implemente el algoritmo del <b>método de Gauss</b>, con estrategia de <b>primer pivote no nulo</b>.\n",
    "    </span></div>"
   ]
  },
  {
   "cell_type": "code",
   "execution_count": 8,
   "metadata": {},
   "outputs": [],
   "source": [
    "# esta en algoritmos.py"
   ]
  },
  {
   "cell_type": "markdown",
   "metadata": {},
   "source": [
    "<div align=\"justify\"><span style=\"font-family: Arial,Helvetica,sans-serif; font-size: medium; color:#000000\"\">\n",
    "    <span style=\"color:#FF0000\"><b>Ejercicio 8.</b></span> Elaborar un programa de nombre <span style=\"font-family: Courier,monospace\">gausjordan_1p()</span> que implemente el algoritmo del <b>método de Gauss-Jordan</b>, con estrategia de <b>primer pivote no nulo</b>.\n",
    "    </span></div>"
   ]
  },
  {
   "cell_type": "code",
   "execution_count": null,
   "metadata": {},
   "outputs": [],
   "source": [
    "# esta en algoritmos.py"
   ]
  },
  {
   "cell_type": "markdown",
   "metadata": {},
   "source": [
    "<div align=\"justify\"><span style=\"font-family: Arial,Helvetica,sans-serif; font-size: medium; color:#000000\"\">\n",
    "    <span style=\"color:#FF0000\"><b>Ejercicio 9.</b></span> Resolver los sistemas de ecuaciones lineales del ejercicio 3 mediante los métodos de Gauss y de Gauss-Jordan, con estrategias de primer pivote no nulo.\n",
    "    </span></div>"
   ]
  },
  {
   "cell_type": "code",
   "execution_count": null,
   "metadata": {},
   "outputs": [],
   "source": [
    "..."
   ]
  },
  {
   "cell_type": "code",
   "execution_count": null,
   "metadata": {},
   "outputs": [],
   "source": [
    "..."
   ]
  },
  {
   "cell_type": "code",
   "execution_count": null,
   "metadata": {},
   "outputs": [],
   "source": []
  }
 ],
 "metadata": {
  "kernelspec": {
   "display_name": "Python 3 (ipykernel)",
   "language": "python",
   "name": "python3"
  },
  "language_info": {
   "codemirror_mode": {
    "name": "ipython",
    "version": 3
   },
   "file_extension": ".py",
   "mimetype": "text/x-python",
   "name": "python",
   "nbconvert_exporter": "python",
   "pygments_lexer": "ipython3",
   "version": "3.10.4"
  }
 },
 "nbformat": 4,
 "nbformat_minor": 4
}
