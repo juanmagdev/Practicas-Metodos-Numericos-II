{
 "cells": [
  {
   "cell_type": "markdown",
   "metadata": {},
   "source": [
    "# Práctica 3. Normas matriciales "
   ]
  },
  {
   "cell_type": "markdown",
   "metadata": {},
   "source": [
    "El objetivo de esta práctica es trabajar con normas matriciales, subordinadas o no a normas vectoriales. No obstante previamente trabajamos con algunos comandos que calculan autovalores y autovectores de matrices.\n",
    "\n",
    "Dada una matriz $A\\in \\mathcal{M}_n(\\mathbb{K})$, el comando **`eig()`**, cuyo único parámetro de entrada es la matriz $A$, tiene dos parámetros de salida, siendo el primero un vector (`array` de dimensión 1 al que llamamos, por ejemplo, $d$) que contiene los autovalores de la matriz, y el segundo una matriz (`array` de dos dimensiones a la que llamamos, por ejemplo, $U$) que contiene, en cada columna, los autovectores asociados.\n",
    "\n",
    "Hay que tener cuidado porque la matriz $U$ no siempre es inversible, lo que ocurre en el caso de que $A$ no es diagonalizable; se puede comprobar esta situación calculando el determinante de la matriz $U$ con el comando **`det()`**, cuyo único parámetro de entrada es la matriz de la que se quiere calcular el determinante.\n",
    "\n",
    "Por otro lado, la matriz $U$, cuyas columnas (que aparecen como vectores normalizados) son los autovectores asociados a los autovalores del vector $d$ (en el mismo orden), verifica las propiedades habituales: autovectores asociados a autovalores diferentes son linealmente independientes, y si la matriz es normal los autovectores son ortogonales (ortonormales pues están normalizados). No obstante, si aparece un autovalor múltiple los autovectores asociades al mismo autovalor no tienen por qué ser linealmente independientes (si la matriz no es diagonalizable), ni por supuesto ortogonales (aún en el caso de que la matriz sea normal).\n",
    "\n",
    "En el caso de que haya efectivamente diagonalización se puede comprobar que $U^{−1}AU = D$, siendo $D = \\mathrm{diag}(d)$. \n",
    "\n",
    "---"
   ]
  },
  {
   "cell_type": "code",
   "execution_count": 28,
   "metadata": {},
   "outputs": [],
   "source": [
    "# Cargamos los módulos necesarios\n",
    "from numpy import *\n",
    "from algoritmos import *\n",
    "from numpy.linalg import *\n",
    "#from numpy import abs, sum, max, min"
   ]
  },
  {
   "cell_type": "markdown",
   "metadata": {},
   "source": [
    "**Ejercicio 1:** Calcular los autovalores y autovectores e indicar si son o no diagonalizables las siguientes matrices. En caso de que sean diagonalizables, determinar si la matriz de paso es unitaria.\n",
    "$$\n",
    "\\mathrm{a}.A=\\begin{pmatrix}\n",
    "3 & 1\\\\\n",
    "0 & 1\n",
    "\\end{pmatrix}\n",
    "; \\quad \n",
    "\\mathrm{b}.A=\\begin{pmatrix}\n",
    "2 & 0 & 2\\\\\n",
    "0 & 1 & 0\\\\\n",
    "2 & 0 & -1\n",
    "\\end{pmatrix}\n",
    "; \\quad\n",
    "\\mathrm{c}.A=\\begin{pmatrix}\n",
    "1 & 0 & 0 & 1\\\\\n",
    "0 & 1 & 0 & 0\\\\\n",
    "0 & 0 & 1 & -2\\\\\n",
    "1 & 0 & -2 & 5\n",
    "\\end{pmatrix}\n",
    "$$\n",
    "$$\n",
    "\\mathrm{d}.A=\\begin{pmatrix}\n",
    "7 & 1 & 1 & 1\\\\\n",
    "1 & 7 & 1 & 1\\\\\n",
    "1 & 1 & 7 & 1\\\\\n",
    "1 & 1 & 1 & 7\n",
    "\\end{pmatrix}\n",
    "; \\quad\n",
    "\\mathrm{e}.A=\\begin{pmatrix}\n",
    "1 & 0 & 0\\\\\n",
    "-3 & 1 & 0\\\\\n",
    "4 & 7 & 1\n",
    "\\end{pmatrix}\n",
    "; \\quad \n",
    "\\mathrm{f}.A=\\begin{pmatrix}\n",
    "0 & -2\\\\\n",
    "2 & 0\n",
    "\\end{pmatrix}\n",
    "$$"
   ]
  },
  {
   "cell_type": "code",
   "execution_count": 29,
   "metadata": {},
   "outputs": [
    {
     "name": "stdout",
     "output_type": "stream",
     "text": [
      "Ejercicio 1.a.\n",
      "A = \n",
      "[[3 1]\n",
      " [0 1]]\n",
      "Autovalores de A\n",
      "[3. 1.]\n",
      "Autovectores de A\n",
      "[[ 1.         -0.4472136 ]\n",
      " [ 0.          0.89442719]]\n",
      "det(U) = 0.8944271909999159\n",
      "Matriz SI diagonalizable\n",
      "||U^(-1) - U*||_e =  0.7071067811865476\n"
     ]
    }
   ],
   "source": [
    "# Ejercicio 1.a\n",
    "print(\"Ejercicio 1.a.\")\n",
    "A = array([[3, 1], [0, 1]])\n",
    "print(\"A = \")\n",
    "print(A)\n",
    "\n",
    "# Calculamos autovalores y autovectores\n",
    "d, U = eig(A)\n",
    "\n",
    "# Imprimimos por pantalla los autovalores (d) y autovectores (U)\n",
    "print(\"Autovalores de A\")\n",
    "print(d)\n",
    "print(\"Autovectores de A\")\n",
    "print(U)\n",
    "\n",
    "# ¿Es la matriz diagonalizable\n",
    "detU = det(U)\n",
    "print(\"det(U) =\" ,detU)\n",
    "if abs(detU) < 1e-15:\n",
    "    print(\"Matriz NO diagonalizable\")\n",
    "else:\n",
    "    print(\"Matriz SI diagonalizable\")\n",
    "    print(\"||U^(-1) - U*||_e = \" ,norm(inv(U) - conjugada(U)))\n",
    "\n",
    "# Repetir el proceso para el resto de matrices"
   ]
  },
  {
   "cell_type": "markdown",
   "metadata": {},
   "source": [
    "---\n",
    "Dada una matriz $A\\in \\mathcal{M}_n(\\mathbb{K})$, el comando **`svd()`** , cuyo parámetro de entrada es la matriz $A$, tiene tres parámetros de salida, siendo el segundo un vector (`array` de dimensión 1 al que llamamos, por ejemplo, $s$) que contiene los valores singulares de la matriz, y el primero y tercero dos matrices ortogonales-unitarias (`array` de dos dimensiones a las que llamamos, por ejemplo, $U$ y $V$ ) de la descomposición de $A$ en valores singulares; estas dos matrices son tales que $U S V = A$, siendo $S = \\mathrm{diag}(s)$.\n"
   ]
  },
  {
   "cell_type": "markdown",
   "metadata": {},
   "source": [
    "**Ejercicio 2:** Dada la matriz\n",
    "$$A=\\begin{pmatrix}\n",
    "1 & 2 & 3\\\\\n",
    "4 & 5 & 6\\\\\n",
    "7 & 8 & 9\n",
    "\\end{pmatrix}$$\n",
    "\n",
    "comprobar que los valores singulares de $A$ son efectivamente las raíces cuadradas positivas de los autovalores de $A^∗ A$.\n"
   ]
  },
  {
   "cell_type": "code",
   "execution_count": 30,
   "metadata": {},
   "outputs": [
    {
     "name": "stdout",
     "output_type": "stream",
     "text": [
      "\n",
      " Ejercicio 2.\n",
      "Matriz: A = \n",
      "[[1 2 3]\n",
      " [4 5 6]\n",
      " [7 8 9]]\n",
      "Raices de los autovalores\n",
      "[1.68481034e+01 1.06836951e+00 8.53406751e-08]\n",
      "Valores singulares de A\n",
      "[1.68481034e+01 1.06836951e+00 4.41842475e-16]\n"
     ]
    }
   ],
   "source": [
    "print(\"\\n Ejercicio 2.\")\n",
    "A = array([[1, 2 , 3], [4, 5 , 6], [7, 8 , 9]])\n",
    "print(\"Matriz: A = \")\n",
    "print(A)\n",
    "# Calculamos las raíces cuadradas de los autovalores de A^* A\n",
    "d,P = eig(conjugada(A)@A)   #@ es la multiplicacion matricial\n",
    "raizd = sqrt(d)\n",
    "\n",
    "# Calculamos los valores singulares de la matriz A:\n",
    "U,s,V = svd(A)\n",
    "\n",
    "# Comparamos ambos resultados\n",
    "print(\"Raices de los autovalores\")\n",
    "print(raizd)\n",
    "print(\"Valores singulares de A\")\n",
    "print(s)"
   ]
  },
  {
   "cell_type": "markdown",
   "metadata": {},
   "source": [
    "**Ejercicio 3:** Calcular la descomposición en valores singulares\n",
    "de las matrices del ejercicio 1.\n",
    "\n",
    "$$\n",
    "\\mathrm{a}.A=\\begin{pmatrix}\n",
    "3 & 1\\\\\n",
    "0 & 1\n",
    "\\end{pmatrix}\n",
    "; \\quad \n",
    "\\mathrm{b}.A=\\begin{pmatrix}\n",
    "2 & 0 & 2\\\\\n",
    "0 & 1 & 0\\\\\n",
    "2 & 0 & -1\n",
    "\\end{pmatrix}\n",
    "; \\quad\n",
    "\\mathrm{c}.A=\\begin{pmatrix}\n",
    "1 & 0 & 0 & 1\\\\\n",
    "0 & 1 & 0 & 0\\\\\n",
    "0 & 0 & 1 & -2\\\\\n",
    "1 & 0 & -2 & 5\n",
    "\\end{pmatrix}\n",
    "$$\n",
    "$$\n",
    "\\mathrm{d}.A=\\begin{pmatrix}\n",
    "7 & 1 & 1 & 1\\\\\n",
    "1 & 7 & 1 & 1\\\\\n",
    "1 & 1 & 7 & 1\\\\\n",
    "1 & 1 & 1 & 7\n",
    "\\end{pmatrix}\n",
    "; \\quad\n",
    "\\mathrm{e}.A=\\begin{pmatrix}\n",
    "1 & 0 & 0\\\\\n",
    "-3 & 1 & 0\\\\\n",
    "4 & 7 & 1\n",
    "\\end{pmatrix}\n",
    "; \\quad \n",
    "\\mathrm{f}.A=\\begin{pmatrix}\n",
    "0 & -2\\\\\n",
    "2 & 0\n",
    "\\end{pmatrix}\n",
    "$$"
   ]
  },
  {
   "cell_type": "code",
   "execution_count": 31,
   "metadata": {},
   "outputs": [
    {
     "name": "stdout",
     "output_type": "stream",
     "text": [
      "\n",
      " Ejercicio 3.a.\n",
      "||U S V - A||_e =  1.0175362097255202e-15\n",
      "[[ 8.88178420e-16  4.44089210e-16]\n",
      " [ 0.00000000e+00 -2.22044605e-16]]\n",
      "\n",
      " Ejercicio 3.b.\n",
      "||U S V - B||_e =  2.560743305106871e-15\n"
     ]
    }
   ],
   "source": [
    "# Ejercicio 3.a.\n",
    "print(\"\\n Ejercicio 3.a.\")\n",
    "A = array([[3, 1], [0, 1]])\n",
    "# Descomposición en valores singulares.\n",
    "U,s,V = svd(A)\n",
    "# Comprobamos que USV=A\n",
    "print(\"||U S V - A||_e = \" ,norm(U@diag(s)@V - A))\n",
    "print(U@diag(s)@V - A)\n",
    "# ¿Son las matrices ortogonales U y V unitarias?\n",
    "# ...\n",
    "\n",
    "# Ejercicio 3.b.\n",
    "print(\"\\n Ejercicio 3.b.\")\n",
    "B = array([[2, 0,2], [0, 1, 0], [2, 0, -1]])\n",
    "# Descomposición en valores singulares.\n",
    "U,s,V = svd(B)\n",
    "# Comprobamos que USV=A\n",
    "print(\"||U S V - B||_e = \" ,norm(U@diag(s)@V - B))\n",
    "# ¿Son las matrices ortogonales U y V unitarias?\n",
    "# ..."
   ]
  },
  {
   "cell_type": "markdown",
   "metadata": {},
   "source": [
    "---\n",
    "Pasamos ahora a trabajar con normas matriciales.\n",
    "\n",
    "Se recuerda que es posible definir una norma matricial en $\\mathcal{M}_n(\\mathbb{K})$ a partir de una norma vectorial en $\\mathbb{K}^n$ poniendo\n",
    "$$\n",
    "\\|A\\| = \\max_{X\\in\\mathbb{K}^n-\\{0\\}} \\frac{\\|A\\,X\\|}{\\|X\\|} = \\max_{\\|X\\|=1} \\|A\\,X\\| = \\max_{\\|X\\|\\le1} \\|A\\,X\\|\\,;\n",
    "$$\n",
    "esta norma matricial recibe el nombre de norma subordinada a la norma vectorial considerada, y en el caso de la normas vectoriales más habituales se tienen las caracterizaciones\n",
    "\\begin{eqnarray*}\n",
    "\\|A\\|_\\infty & = & \\max_{i=1,\\ldots,n} \\sum_{j=1}^n |a_{i,j}|\\,, \\\\\n",
    "\\|A\\|_1 & = & \\max_{j=1,\\ldots,n} \\sum_{i=1}^n |a_{i,j}|\\,, \\\\\n",
    "\\|A\\|_2 & = & \\sqrt{\\varrho(A^*\\,A)} = \\sqrt{\\varrho(A\\,A^*)}\\,.\n",
    "\\end{eqnarray*} \n",
    "Por otro lado, la función $\\|\\cdot\\|_E\\colon\\mathcal{M}_n(\\mathbb{K})\\to\\mathbb{R}^+/A\\mapsto\\|A\\|_E$, dada por\n",
    "$$\n",
    "\\|A\\|_E = \\left( \\sum_{i=1}^n \\sum_{j=1}^n |a_{i,j}|^2 \\right)^{1/2}\n",
    "$$\n",
    "define también una norma matricial, no subordinada, llamada norma euclídea, de Shur, o de Frobenius."
   ]
  },
  {
   "cell_type": "markdown",
   "metadata": {},
   "source": [
    "**Ejercicio 4:** Definir una función, de nombre **`norma_mat()`** con dos argumentos de entrada, el primero una matriz cuadrada, y el segundo el índice $p$ (que puede adoptar los valores `inf`,1,2, o la cadena `'fro'`), que devuelva la norma matricial correspondiente. \n",
    "\n",
    "Aplicar la función **`norma_mat()`** para calcular las normas $\\infty, 1, 2$ y de Frobenius de las matrices \n",
    "$$\n",
    "A = \\begin{pmatrix}\n",
    "1 & 2\\\\\n",
    "3 & 4\n",
    "\\end{pmatrix}\n",
    " \\qquad  \\mbox{ y } \\qquad\n",
    "B = \\begin{pmatrix}\n",
    "1 & -2 & 3\\\\\n",
    "-4i & 5 & -6\\\\\n",
    "7 & 8i & 9\n",
    "\\end{pmatrix}\n",
    "$$\n",
    "\n",
    "Comprobar los resultados obtenidos con los de la funcion **`norm()`** de Python; esta función tiene los mismos parámetros de entrada que la creada por nosotros, y cuando el primero de ellos es una matriz (`array`de dos dimensiones), calcula normas matriciales. \n",
    "\n"
   ]
  },
  {
   "cell_type": "code",
   "execution_count": 32,
   "metadata": {},
   "outputs": [
    {
     "name": "stdout",
     "output_type": "stream",
     "text": [
      "\n",
      " Ejercicio 4.\n",
      "Normas matriciales.\n",
      "A =  [[1 2]\n",
      " [3 4]] \n",
      "B =  [[ 1.+0.j -2.+0.j  3.+0.j]\n",
      " [-0.-4.j  5.+0.j -6.+0.j]\n",
      " [ 7.+0.j  0.+8.j  9.+0.j]]\n",
      "Norma inf (propio):  7.0 24.0\n",
      "Norma inf (Python):  7.0 24.0\n",
      "Norma 1 (propio):  6.0 18.0\n",
      "Norma 1 (Python):  6.0 18.0\n",
      "Norma 2 (propio):  5.464985704219043 15.786285706001541\n",
      "Norma 2 (Python):  5.464985704219043 15.786285706001534\n",
      "Norma euclídea (propio):  5.477225575051661 16.881943016134134\n",
      "Norma euclídea (Python):  5.477225575051661 16.881943016134134\n",
      "Norma 3 (propio):  Error norma_mat: valor de p. Error norma_mat: valor de p.\n"
     ]
    },
    {
     "ename": "ValueError",
     "evalue": "Invalid norm order for matrices.",
     "output_type": "error",
     "traceback": [
      "\u001b[0;31m---------------------------------------------------------------------------\u001b[0m",
      "\u001b[0;31mValueError\u001b[0m                                Traceback (most recent call last)",
      "\u001b[1;32m/home/juanmagdev/Documentos/Metodos/Practicas/Practica-3.ipynb Cell 13'\u001b[0m in \u001b[0;36m<cell line: 31>\u001b[0;34m()\u001b[0m\n\u001b[1;32m     <a href='vscode-notebook-cell:/home/juanmagdev/Documentos/Metodos/Practicas/Practica-3.ipynb#ch0000012?line=28'>29</a>\u001b[0m \u001b[39mprint\u001b[39m(\u001b[39m\"\u001b[39m\u001b[39mNorma euclídea (Python): \u001b[39m\u001b[39m\"\u001b[39m, norm(A, \u001b[39m'\u001b[39m\u001b[39mfro\u001b[39m\u001b[39m'\u001b[39m), norm(B, \u001b[39m'\u001b[39m\u001b[39mfro\u001b[39m\u001b[39m'\u001b[39m))\n\u001b[1;32m     <a href='vscode-notebook-cell:/home/juanmagdev/Documentos/Metodos/Practicas/Practica-3.ipynb#ch0000012?line=29'>30</a>\u001b[0m \u001b[39mprint\u001b[39m(\u001b[39m\"\u001b[39m\u001b[39mNorma 3 (propio): \u001b[39m\u001b[39m\"\u001b[39m, norma_mat(A, \u001b[39m3\u001b[39m), norma_mat(B, \u001b[39m3\u001b[39m))\n\u001b[0;32m---> <a href='vscode-notebook-cell:/home/juanmagdev/Documentos/Metodos/Practicas/Practica-3.ipynb#ch0000012?line=30'>31</a>\u001b[0m \u001b[39mprint\u001b[39m(\u001b[39m\"\u001b[39m\u001b[39mNorma 3 (Python): \u001b[39m\u001b[39m\"\u001b[39m, norm(A, \u001b[39m3\u001b[39;49m), norm(B, \u001b[39m3\u001b[39m))\n",
      "File \u001b[0;32m<__array_function__ internals>:180\u001b[0m, in \u001b[0;36mnorm\u001b[0;34m(*args, **kwargs)\u001b[0m\n",
      "File \u001b[0;32m/usr/lib/python3.10/site-packages/numpy/linalg/linalg.py:2589\u001b[0m, in \u001b[0;36mnorm\u001b[0;34m(x, ord, axis, keepdims)\u001b[0m\n\u001b[1;32m   <a href='file:///usr/lib/python3.10/site-packages/numpy/linalg/linalg.py?line=2586'>2587</a>\u001b[0m     ret \u001b[39m=\u001b[39m _multi_svd_norm(x, row_axis, col_axis, \u001b[39msum\u001b[39m)\n\u001b[1;32m   <a href='file:///usr/lib/python3.10/site-packages/numpy/linalg/linalg.py?line=2587'>2588</a>\u001b[0m \u001b[39melse\u001b[39;00m:\n\u001b[0;32m-> <a href='file:///usr/lib/python3.10/site-packages/numpy/linalg/linalg.py?line=2588'>2589</a>\u001b[0m     \u001b[39mraise\u001b[39;00m \u001b[39mValueError\u001b[39;00m(\u001b[39m\"\u001b[39m\u001b[39mInvalid norm order for matrices.\u001b[39m\u001b[39m\"\u001b[39m)\n\u001b[1;32m   <a href='file:///usr/lib/python3.10/site-packages/numpy/linalg/linalg.py?line=2589'>2590</a>\u001b[0m \u001b[39mif\u001b[39;00m keepdims:\n\u001b[1;32m   <a href='file:///usr/lib/python3.10/site-packages/numpy/linalg/linalg.py?line=2590'>2591</a>\u001b[0m     ret_shape \u001b[39m=\u001b[39m \u001b[39mlist\u001b[39m(x\u001b[39m.\u001b[39mshape)\n",
      "\u001b[0;31mValueError\u001b[0m: Invalid norm order for matrices."
     ]
    }
   ],
   "source": [
    "# función norma_mat() versión 1\n",
    "def norma_mat(A, p):\n",
    "    A = array(A, dtype =\"complex\")\n",
    "    if p == inf:\n",
    "        return max(sum(abs(A), axis = 1))\n",
    "    elif p == 1:\n",
    "        return max(sum(abs(A), axis = 0))\n",
    "    elif p == 2:\n",
    "        return sqrt(max(abs(eig(conjugada(A)@A)[0])))\n",
    "    elif p == 'fro':\n",
    "        return sqrt(sum(abs(A)**2))\n",
    "    else:\n",
    "        return \"Error norma_mat: valor de p.\"\n",
    "\n",
    "\n",
    "# Ejercicio 4.\n",
    "print(\"\\n Ejercicio 4.\")\n",
    "A = array([[1, 2], [3, 4]])\n",
    "B = array([[1, -2., 3e0], [-4j, 5, -6.], [7e0, 8j, 9]])\n",
    "print(\"Normas matriciales.\")\n",
    "print(\"A = \", A, \"\\nB = \", B)\n",
    "print(\"Norma inf (propio): \", norma_mat(A, inf), norma_mat(B, inf))\n",
    "print(\"Norma inf (Python): \", norm(A, inf), norm(B, inf))\n",
    "print(\"Norma 1 (propio): \", norma_mat(A, 1), norma_mat(B, 1))\n",
    "print(\"Norma 1 (Python): \", norm(A, 1), norm(B, 1))\n",
    "print(\"Norma 2 (propio): \", norma_mat(A, 2), norma_mat(B, 2))\n",
    "print(\"Norma 2 (Python): \", norm(A, 2), norm(B, 2))\n",
    "print(\"Norma euclídea (propio): \", norma_mat(A, 'fro'), norma_mat(B, 'fro'))\n",
    "print(\"Norma euclídea (Python): \", norm(A, 'fro'), norm(B, 'fro'))\n",
    "print(\"Norma 3 (propio): \", norma_mat(A, 3), norma_mat(B, 3))\n",
    "print(\"Norma 3 (Python): \", norm(A, 3), norm(B, 3))"
   ]
  },
  {
   "cell_type": "markdown",
   "metadata": {},
   "source": [
    "**Ejercicio 5** Intentar dar una aproximación de la norma matricial de $A$, para $p=1,2,\\mathrm{inf}$, calculando el máximo de los cocientes que la define, $$\\|A\\| = \\max_{X\\in\\mathbb{K}^n-\\{0\\}} \\frac{\\|A\\,X\\|}{\\|X\\|}$$ no sobre el conjunto de todos los vectores no nulos (cosa imposible), sino sobre un conjunto finito de vectores aleatorios suficientemente grande. Comparar estos resultados con los dados por la función `norm` implementada en Python. Repetir el ejercicio restringiendo el cálculo del máximo a los vectores de norma 1. "
   ]
  },
  {
   "cell_type": "code",
   "execution_count": null,
   "metadata": {},
   "outputs": [
    {
     "name": "stdout",
     "output_type": "stream",
     "text": [
      "Norma matricial:  6.0\n",
      "Aproximación:  5.999597741878667\n"
     ]
    }
   ],
   "source": [
    "A=array([[1,2],[3,4]])\n",
    "B=array([[1,-2,3],[-4j,5,-6],[7,8j,9]])\n",
    "aprox_norma_mat(A,1,1000)"
   ]
  }
 ],
 "metadata": {
  "kernelspec": {
   "display_name": "Python 3 (ipykernel)",
   "language": "python",
   "name": "python3"
  },
  "language_info": {
   "codemirror_mode": {
    "name": "ipython",
    "version": 3
   },
   "file_extension": ".py",
   "mimetype": "text/x-python",
   "name": "python",
   "nbconvert_exporter": "python",
   "pygments_lexer": "ipython3",
   "version": "3.10.4"
  }
 },
 "nbformat": 4,
 "nbformat_minor": 4
}
