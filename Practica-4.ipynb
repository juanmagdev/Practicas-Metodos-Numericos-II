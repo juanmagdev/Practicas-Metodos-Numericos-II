{
 "cells": [
  {
   "cell_type": "markdown",
   "metadata": {},
   "source": [
    "<div align=\"center\"><span style=\"font-family: Arial,Helvetica,sans-serif; color:#0000FF\"\"><b>\n",
    "<span style=\"font-size: x-large\">Métodos Numéricos II</span>\n",
    "<br>\n",
    "<span style=\"font-size: large\">Segundo de Grado en Matemáticas - Curso 2021/22</span>\n",
    "<br>\n",
    "<span style=\"font-size: medium\">Facultad de Ciencias de la Universidad de Málaga</span>\n",
    "<br>\n",
    "<span style=\"font-size: small\">Dpto. de Análisis Matemático, Estadística e Investigación Operativa, y Matemática Aplicada</span>\n",
    "<br>\n",
    "<span style=\"font-size: small\">Profs. María López Fernández y Francisco José Palma Molina (Área Conocimiento de Matemática Aplicada)</span>\n",
    "<br>\n",
    "<span style=\"font-size: medium; color:#FF0000\">Práctica número 4</span>\n",
    "</b></span></div>"
   ]
  },
  {
   "cell_type": "code",
   "execution_count": 68,
   "metadata": {},
   "outputs": [],
   "source": [
    "from algoritmos import *"
   ]
  },
  {
   "cell_type": "markdown",
   "metadata": {},
   "source": [
    "El objetivo de esta práctica es definir funciones <span style=\"font-family: Courier,monospace\">Python</span> para resolver sistemas de ecuaciones lineales cuya matriz de coeficientes es triangular y que por tanto pueden ser resueltos mediante los <span style=\"color:#FF0000\"><b>métodos de descenso</b></span> o de <b>sustitución progresiva</b> (en el caso de matrices triangulares inferiores) y los <span style=\"color:#FF0000\"><b>métodos de remonte</b></span> o de <b>sustitución regresiva</b> (en el caso de matrices triangulares superiores)."
   ]
  },
  {
   "cell_type": "markdown",
   "metadata": {},
   "source": [
    "Comenzamos por el caso de matrices triangulares inferiores, es decir, estudiamos los <span style=\"color:#FF0000\"><b>métodos de descenso</b</span>.\n",
    "<br><br>\n",
    "Consideramos un sistema de $n$ ecuaciones lineales con $n$ incógnitas compatible y determinado $A\\,X=B$, donde $A\\in\\mathcal{M}_n(\\mathbb{K})$ es <b>trangular inferior</b> y $X,B\\in\\mathbb{K}^n$, es decir,\n",
    "$$\n",
    "\\left( \\begin{array}{cccc}\n",
    "a_{1,1} & & & \\\\\n",
    "a_{2,1} & a_{2,2} & & \\\\\n",
    "\\vdots & \\vdots & \\ddots & \\\\\n",
    "a_{n,1} & a_{n,2} & \\cdots & a_{n,n}\n",
    "\\end{array} \\right) \\, \\left( \\begin{array}{c}\n",
    "x_1 \\\\ x_2 \\\\ \\vdots \\\\ x_n\n",
    "\\end{array} \\right) = \\left( \\begin{array}{c}\n",
    "b_1 \\\\ b_2 \\\\ \\vdots \\\\ b_n\n",
    "\\end{array} \\right)\\,.\n",
    "$$\n",
    "<br><br>\n",
    "El carácter compatible y determinado del sistema implica que la matriz $A$ es regular y, por tanto, $a_{i,i}\\ne0$, para todo $i=1,2,\\ldots,n$.\n",
    "<br><br>\n",
    "Estos sistemas son fácilmente resolubles, pues al ser la matriz $A$ triangular inferior hace que se puedan calcular las incógnitas de manera inmediata, empezando por la primera y continuando hacia abajo; esto se conoce como <b>método de descenso</b> o de <b>sustitución progresiva</b>, y el algoritmo correspondiente es:\n",
    "\n",
    "$$\n",
    "\\left\\{ \\begin{array}{ccl}\n",
    "x_1 & = & \\displaystyle \\frac{1}{a_{1,1}}\\,b_1 \\\\\n",
    "x_i & = & \\displaystyle \\frac{1}{a_{i,i}}\\,\\left( b_i - \\sum_{j=1}^{i-1} a_{i,j}\\,x_j \\right) \\quad para \\quad i=2,3,\\ldots,n\n",
    "\\end{array} \\right.\n",
    "$$"
   ]
  },
  {
   "cell_type": "markdown",
   "metadata": {},
   "source": [
    "Calcular la solución general de la ecuación diferencial\n",
    "$$\n",
    "\\left( x + y^2 \\right)\\,dx - 2\\,x\\,y\\,dy = 0\\,.\n",
    "$$ \n",
    "Elaborar un programa de nombre <span style=\"font-family: Courier,monospace\">descenso()</span> que implemente el algoritmo del <b>método de descenso</b>. Esta función debe tener dos argumentos de entrada, que son la matriz $A$ y el segundo miembro $B$; por otro lado debe devolver también dos valores, siendo el primero de tipo booleano, en la que los valores <span style=\"font-family: Courier,monospace\">True</span> o <span style=\"font-family: Courier,monospace\">False</span> indican que se ha resuelto o no con éxito el sistema, y conteniendo el segundo valor la solución del sistema en caso de éxito o un mensaje de error en caso contrario."
   ]
  },
  {
   "cell_type": "code",
   "execution_count": 69,
   "metadata": {},
   "outputs": [],
   "source": [
    "def descenso(A, B):\n",
    "    m, n = shape(A)\n",
    "    p, q = shape(B)\n",
    "    if m != n or n != p or q != 1:\n",
    "        return False, \"Error descenso: error en las dimensiones.\"\n",
    "    if min(abs(diag(A))) < 1e-200:\n",
    "        return False, \"Error descenso: matriz singular.\"\n",
    "    if A.dtype == complex or B.dtype == complex:\n",
    "        X = zeros((n, 1), dtype=complex)\n",
    "    else:\n",
    "        X = zeros((n, 1), dtype=float)\n",
    "    for i in range(n):\n",
    "        X[i, 0] = B[i, 0]\n",
    "        if i != 0:\n",
    "            X[i, 0] -= A[i, :i]@X[:i, 0]\n",
    "        X[i, 0] = X[i, 0]/A[i, i]\n",
    "    return True, X"
   ]
  },
  {
   "cell_type": "markdown",
   "metadata": {},
   "source": [
    "<span style=\"color:#FF0000\"><b>Comentarios.</b></span> Notamos que no se hace una <b>comprobación del carácter triangular</b> de la matriz $A$, trabajando con la parte triangular inferior e ignorando los elementos que puedan estar en la parte estrictamente triangular superior (que pueden o no ser ceros); esta estrategia se mostrará útil en algoritmos futuros que usen estas funciones como parte del código.\n",
    "    <br><br>\n",
    "    Los <b>casos de no éxito</b> en la resolución por el método de descenso se limitan a un problema con las dimensiones (bien porque la matriz $A$ no sea cuadrada, bien porque el segundo miembro $B$ no tenga las dimensiones adecuadas), o también a que la matriz $A$ sea singular o <i>casi singular</i>; el criterio de singularidad se establece en que $\\displaystyle \\min_{i=1,2,\\ldots,n}|a_{i,i}|<10^{-200}$.\n",
    "    <br><br>\n",
    "    Finalmente, en los <b>casos de éxito</b> la solución $X$ será un vector de las dimensiones adecuadas de tipo real, excepto que alguno se los datos, $A$ o $B$, sea de tipo complejo, en cuyo caso será, evidentemente, de tipo complejo también."
   ]
  },
  {
   "cell_type": "markdown",
   "metadata": {},
   "source": [
    "**Ejercicio 2.** Comprobar el funcionamiento de la función elaborada resolviendo el sistema\n",
    "\n",
    "$$\n",
    "\n",
    "\\left( \\begin{array}{ccc}\n",
    "1 & & \\\\\n",
    "2 & 3 & \\\\\n",
    "4 & 5 & 6\n",
    "\\end{array} \\right) \\left( \\begin{array}{c}\n",
    "x_1 \\\\ x_2 \\\\ x_3\n",
    "\\end{array} \\right) = \\left( \\begin{array}{c}\n",
    "1 \\\\ 5 \\\\ 15\n",
    "\\end{array} \\right)\\,,\n",
    "\n",
    "$$\n",
    "\n",
    "cuya solución es el vector con sus tres componentes iguales a 1. Comprobar el resultado verificando que $B-A\\,X=0$."
   ]
  },
  {
   "cell_type": "code",
   "execution_count": 70,
   "metadata": {},
   "outputs": [
    {
     "data": {
      "text/plain": [
       "(True,\n",
       " array([[1.],\n",
       "        [1.],\n",
       "        [1.]]))"
      ]
     },
     "execution_count": 70,
     "metadata": {},
     "output_type": "execute_result"
    }
   ],
   "source": [
    "A = array([[1, 0, 0], [2, 3, 0], [4, 5, 6]])\n",
    "B = array([[1], [5], [15]])\n",
    "\n",
    "descenso(A, B)\n"
   ]
  },
  {
   "cell_type": "markdown",
   "metadata": {},
   "source": [
    "<span style=\"color:#FF0000\"><b>Ejercicio 3.</b></span> Modificar el programa anterior para prever la posibilidad de <b>resolver simultáneamente varios sistemas lineales</b> $A\\,X_r=B_r$, $r=1,2,\\ldots,q$, todos con la misma matriz $A$ y diferentes segundos miembros $B_r$. Es por ello que el segundo argumento de entrada del programa $B$ no es necesariamente un vector columna, sino una matriz\n",
    "$$\n",
    "B = \\left( B_1 | B_2 | \\cdots | B_q \\right) \\in \\mathcal{M}_{n\\times q}(\\mathbb{K})\n",
    "$$\n",
    "mientras que, en caso de éxito, la segunda salida del programa $X$ es también una matriz\n",
    "$$\n",
    "X = \\left( X_1 | X_2 | \\cdots | X_q \\right) \\in \\mathcal{M}_{n\\times q}(\\mathbb{K})\n",
    "$$\n",
    "de las mismas dimensiones con las soluciones correspondientes.\n",
    "    <br><br>\n",
    "    En este sentido, recordamos que si $A\\in\\mathcal{M}_n(\\mathbb{K})$ es una matriz invertible, el problema de <b>calcular su inversa</b> $A^{-1}$ es equivalente a resolver $n$ sistemas de ecuaciones lineales, todos con la misma matriz de coeficientes $A$. En efecto, si hacemos la descomposición por bloques de la matriz inversa\n",
    "$$\n",
    "A^{-1} = \\left( X_1 | X_2 | \\cdots | X_n \\right)\\,,\n",
    "$$\n",
    "y de la matriz identidad\n",
    "$$\n",
    "I = \\left( E_1 | E_2 | \\cdots | E_n \\right)\\,,\n",
    "$$\n",
    "entonces\n",
    "$$\n",
    "A\\,A^{-1} = I \\Leftrightarrow A\\,X_i = E_i \\quad para todo \\quad i=1,2,\\ldots,n\\,.\n",
    "$$\n",
    "<br><br>\n",
    "En general, utilizaremos esta técnica de resolver varios sistemas lineales de forma simultánea <b>siempre</b> que el algoritmo lo permita.\n",
    "</span>"
   ]
  },
  {
   "cell_type": "code",
   "execution_count": 71,
   "metadata": {},
   "outputs": [],
   "source": [
    "# A rellenar.\n",
    "def descenso1(A, B):\n",
    "    (m, n) = shape(A)\n",
    "    (p, q) = shape(B)\n",
    "    if m != n or n != p or q < 1:\n",
    "        return False, \"descenso: error en las dimensiones\"\n",
    "    #if min(abs(diag(A))) < 1e-100:\n",
    "    #    return False, \"descenso: matriz singular\"\n",
    "    if A.dtype == complex or B.dtype == complex:\n",
    "        X = zeros((n, q), dtype=complex)\n",
    "    else:\n",
    "        X = zeros((n, q), dtype=float)\n",
    "    for i in range(n):\n",
    "        X[i, :] = B[i, :]\n",
    "        if i != 0:\n",
    "            X[i, :] = X[i, :] - A[i, :i]@X[:i, :]\n",
    "        #X[i, :] = X[i, :]/A[i, i]\n",
    "    return True, X\n",
    "    "
   ]
  },
  {
   "cell_type": "markdown",
   "metadata": {},
   "source": [
    "<span style=\"color:#FF0000\"><b>Ejercicio 4.</b></span> Comprobar el funcionamiento de la modificación realizada en el programa calculando la inversa de la matriz\n",
    "$$\n",
    "A = \\left( \\begin{array}{ccc}\n",
    "1 & & \\\\\n",
    "2 & 3 & \\\\\n",
    "4 & 5 & 6\n",
    "\\end{array} \\right)\\,.\n",
    "$$\n",
    "Comprobar también el resultado verificando que $A\\,A^{-1}=I$.\n",
    "    </span>"
   ]
  },
  {
   "cell_type": "code",
   "execution_count": 72,
   "metadata": {},
   "outputs": [],
   "source": [
    "A = array([[1, 0, 0], [2, 3, 0], [4, 5, 6]])\n",
    "\n",
    "b =descenso1(A, eye(3))"
   ]
  },
  {
   "cell_type": "markdown",
   "metadata": {},
   "source": [
    "Consideramos ahora el caso de matrices triangulares superiores, es decir, estudiamos los <span style=\"color:#FF0000\"><b>métodos de remonte</b></span>.\n",
    "<br><br>\n",
    "Consideramos un sistema de $n$ ecuaciones lineales con $n$ incógnitas compatible y determinado $A\\,X=B$, donde $A\\in\\mathcal{M}_n(\\mathbb{K})$ es <b>triangular superior</b> y $X,B\\in\\mathbb{K}^n$, es decir,\n",
    "$$\n",
    "\\left( \\begin{array}{cccc}\n",
    "a_{1,1} & a_{1,2} & \\cdots & a_{1,n} \\\\\n",
    "& a_{2,2} & \\cdots & a_{2,n} \\\\\n",
    "& & \\ddots & \\vdots \\\\\n",
    "& & & a_{n,n}\n",
    "\\end{array} \\right) \\left( \\begin{array}{c}\n",
    "x_1 \\\\ x_2 \\\\ \\vdots \\\\ x_n\n",
    "\\end{array} \\right) = \\left( \\begin{array}{c}\n",
    "b_1 \\\\ b_2 \\\\ \\vdots \\\\ b_n\n",
    "\\end{array} \\right)\\,.\n",
    "$$\n",
    "<br><br>\n",
    "Aquí también el carácter compatible y determinado del sistema implica que la matriz $A$ es regular y, por tanto, $a_{i,i}\\ne0$, para todo $i=1,2,\\ldots,n$.\n",
    "<br><br>\n",
    "Estos sistemas son fácilmente resolubles, pues al ser la matriz $A$ triangular superior hace que se puedan calcular las incógnitas de manera inmediata, empezando ahora por la última y continuando hacia arriba; esto se conoce como <b>método de remonte</b> o de <b>sustitución regresiva</b>, y el algoritmo correspondiente es:\n",
    "$$\n",
    "\\left\\{ \\begin{array}{ccl}\n",
    "x_n & = & \\displaystyle \\frac{1}{a_{n,n}}\\,b_n \\\\\n",
    "x_i & = & \\displaystyle \\frac{1}{a_{i,i}}\\,\\left( b_i - \\sum_{j=i+1}^n a_{i,j}\\,x_j \\right) \\quad para \\quad i=n-1,n-2,\\ldots,1\n",
    "\\end{array} \\right.\n",
    "$$\n",
    "</span>"
   ]
  },
  {
   "cell_type": "markdown",
   "metadata": {},
   "source": [
    "\n",
    "<span style=\"color:#FF0000\"><b>Ejercicio 5.</b></span> Elaborar un programa de nombre <span style=\"font-family: Courier,monospace\">remonte()</span> que implemente el algoritmo del <b>método de remonte</b>. Esta función debe tener las mismas características que el programa <span style=\"font-family: Courier,monospace\">descenso()</span>.\n",
    "    <br><br>\n",
    "    <span style=\"color:#FF0000\"><b>Comentario.</b></span> Para generar un contador que retroceda, se puede utilizar la instrucción <span style=\"font-family: Courier,monospace\">range(a,b,c)</span> que genera una lista de enteros desde <span style=\"font-family: Courier,monospace\">a</span> (incluido) hasta <span style=\"font-family: Courier,monospace\">b</span> (excluido), con salto de <span style=\"font-family: Courier,monospace\">c</span> (que puede ser negativo).\n",
    "    </span>"
   ]
  },
  {
   "cell_type": "code",
   "execution_count": 73,
   "metadata": {},
   "outputs": [],
   "source": [
    "# A rellenar\n",
    "def remonte(A, B):\n",
    "    m, n = shape(A)\n",
    "    p, q = shape(B)\n",
    "    if m != n or n != p or q < 1:\n",
    "        return False, \"Error remonte: error en las dimensiones.\"\n",
    "    if min(abs(diag(A))) < 1e-200:\n",
    "        return False, \"Error remonte: matriz singular.\"\n",
    "    if A.dtype == complex or B.dtype == complex:\n",
    "        X = zeros((n, q), dtype=complex)\n",
    "    else:\n",
    "        X = zeros((n, q), dtype=float)\n",
    "    for i in range(n):\n",
    "        for k in range (q): \n",
    "            j=n-1-i\n",
    "            X[j, k] = B[j, k]\n",
    "            if i != k:\n",
    "                X[j, k] -= A[j, (j+1):n]@X[(j+1):n, k]\n",
    "            X[j, k] = X[j, k]/A[j, j]\n",
    "    return True, X\n",
    "    "
   ]
  },
  {
   "cell_type": "markdown",
   "metadata": {},
   "source": [
    "<span style=\"color:#FF0000\"><b>Ejercicio 6.</b></span> \n",
    "\n",
    "Comprobar el funcionamiento de la función elaborada resolviendo el sistema\n",
    "$$\n",
    "\\left( \\begin{array}{ccc}\n",
    "1 & 2 & 3\\\\\n",
    "& 4 & 5 \\\\\n",
    "& & 6\n",
    "\\end{array} \\right) \\left( \\begin{array}{c}\n",
    "x_1 \\\\ x_2 \\\\ x_3\n",
    "\\end{array} \\right) = \\left( \\begin{array}{c}\n",
    "6 \\\\ 9 \\\\ 6\n",
    "\\end{array} \\right)\\,,\n",
    "$$\n",
    "cuya solución es el vector con sus tres componentes iguales a 1. Calcular también la inversa de la matriz de coeficientes. Comprobar los resultados obtenidos.\n"
   ]
  },
  {
   "cell_type": "code",
   "execution_count": 74,
   "metadata": {},
   "outputs": [
    {
     "data": {
      "text/plain": [
       "(True,\n",
       " array([[1.],\n",
       "        [1.],\n",
       "        [1.]]))"
      ]
     },
     "execution_count": 74,
     "metadata": {},
     "output_type": "execute_result"
    }
   ],
   "source": [
    "A = array([[1, 2, 3], [0, 4, 5], [0, 0, 6]])\n",
    "B = array([[6], [9], [6]])\n",
    "\n",
    "remonte(A, B)"
   ]
  },
  {
   "cell_type": "markdown",
   "metadata": {},
   "source": [
    "<span style=\"color:#FF0000\"><b>Problema.</b></span> Resolver los siguientes sistemas de ecuaciones lineales:\n",
    "$$\n",
    "\\begin{array}{lllll}\n",
    "(a) & \\left( \\begin{array}{rrrr}\n",
    "5 & & & \\\\ 1 & 3 & & \\\\ 3 & 4 & 2 & \\\\ -1 & 3 & -6 & -1\n",
    "\\end{array} \\right) \\left( \\begin{array}{c}\n",
    "x_1 \\\\ x_2 \\\\ x_3 \\\\ x_4\n",
    "\\end{array} \\right) = \\left( \\begin{array}{r}\n",
    "-10 \\\\ 4 \\\\ 2 \\\\ 5\n",
    "\\end{array} \\right) &\n",
    "(b) & \\left( \\begin{array}{rrrr}\n",
    "2 & & & \\\\ -1 & 4 & & \\\\ 3 & -2 & -1 & \\\\ 1 & -2 & 6 & 3\n",
    "\\end{array} \\right) \\left( \\begin{array}{c}\n",
    "x_1 \\\\ x_2 \\\\ x_3 \\\\ x_4\n",
    "\\end{array} \\right) = \\left( \\begin{array}{r}\n",
    "6 \\\\ 5 \\\\ 4 \\\\ 2\n",
    "\\end{array} \\right) \\\\\n",
    " \\\\\n",
    "(c) & \\left( \\begin{array}{rrrr}\n",
    "4 & -1 & 2 & 3 \\\\ & -2 & 7 & -4 \\\\ & & 6 & 5 \\\\ & & & 3\n",
    "\\end{array} \\right) \\left( \\begin{array}{c}\n",
    "x_1 \\\\ x_2 \\\\ x_3 \\\\ x_4\n",
    "\\end{array} \\right) = \\left( \\begin{array}{r}\n",
    "20 \\\\ -7 \\\\ 4 \\\\ 6\n",
    "\\end{array} \\right) &\n",
    "(d) & \\left( \\begin{array}{rrrr}\n",
    "3 & -2 & 1 & -1 \\\\ & 4 & -1 & 2 \\\\ & & 2 & 3 \\\\ & & & 5\n",
    "\\end{array} \\right) \\left( \\begin{array}{c}\n",
    "x_1 \\\\ x_2 \\\\ x_3 \\\\ x_4\n",
    "\\end{array} \\right) = \\left( \\begin{array}{r}\n",
    "8 \\\\ -3 \\\\ 11 \\\\ 15\n",
    "\\end{array} \\right)\n",
    "\\end{array}\n",
    "$$\n",
    "<br><br>\n",
    "Como tarea adicional se pide:\n",
    "<ul>\n",
    "    <li> comprobar la exactitud de los resultados obtenidos;</li>\n",
    "    <li> calcular las inversas de las matrices de coeficientes y comprobar la exactitud de los resultados;</li>\n",
    "    <li> en algún caso, cambiar alguna dimensión en la matriz de coeficientes o en el segundo miembro, de manera que se provoque una situación de error;</li>\n",
    "    <li> el algún caso, cambiar a 0 (o a un número muy próximo a 0) el valor de un elemento diagonal de la matriz de coeficientes, de manera que se provoque una situación de error;</li>\n",
    "    <li> en algún caso, cambiar el valor de algunos de los elementos que deben ser 0 en una matriz triangular, por otros valores distintos de 0 de manera que la matriz deje de ser triangular; observar como los programas obvian estos valores y resuelven los sistemas como si las matrices fueran triangulares (si se hace la comprobación de la exactitud de los resultados se detectará este problema);</li>\n",
    "    <li> cambiar algunos de los elementos de la matriz de coeficientes y/o del segundo miembro por números complejos para comprobar que los programas funcionan con aritmética compleja.</li>\n",
    "</ul>"
   ]
  },
  {
   "cell_type": "code",
   "execution_count": 75,
   "metadata": {},
   "outputs": [
    {
     "data": {
      "text/plain": [
       "(True,\n",
       " array([[-2.],\n",
       "        [ 2.],\n",
       "        [ 0.],\n",
       "        [ 3.]]))"
      ]
     },
     "execution_count": 75,
     "metadata": {},
     "output_type": "execute_result"
    }
   ],
   "source": [
    "# Problema a.\n",
    "A = array([[5, 0, 0, 0], [1, 3, 0, 0], [3, 4, 2, 0], [-1, 3, -6, -1]])\n",
    "B = array([[-10], [4], [2], [5]])\n",
    "\n",
    "descenso(A, B)\n",
    "#print(inv(A)@B)\n"
   ]
  },
  {
   "cell_type": "code",
   "execution_count": null,
   "metadata": {},
   "outputs": [],
   "source": []
  },
  {
   "cell_type": "code",
   "execution_count": 76,
   "metadata": {},
   "outputs": [
    {
     "data": {
      "text/plain": [
       "(True,\n",
       " array([[ 3.],\n",
       "        [-4.],\n",
       "        [-1.],\n",
       "        [ 2.]]))"
      ]
     },
     "execution_count": 76,
     "metadata": {},
     "output_type": "execute_result"
    }
   ],
   "source": [
    "# Problema c.\n",
    "A = array([[4, -1, 2, 3], [0, -2, 7, -4], [0, 0, 6, 5], [0, 0, 0, 3]])\n",
    "B = array([[20], [-7], [4], [6]])\n",
    "\n",
    "remonte(A, B)\n",
    "# print(inv(A)@B)\n"
   ]
  },
  {
   "cell_type": "code",
   "execution_count": null,
   "metadata": {},
   "outputs": [],
   "source": []
  },
  {
   "cell_type": "markdown",
   "metadata": {},
   "source": [
    "\n",
    "<span style=\"color:#FF0000\"><b>Ejercicio 7.</b></span> Elaborar dos nuevas funciones, a las que daremos el nombre de <span style=\"font-family: Courier,monospace\">descenso1()</span> y <span style=\"font-family: Courier,monospace\">remonte1()</span>, respectivamente, que implementen los mismos <b>métodos de descenso y remonte</b>, pero suponiendo ahora que la matriz de coeficientes $A$ tiene <b>1 en la diagonal principal</b> (independientemente de los valores que estén guardados en los elementos diagonales de la matriz que se pasa como argumento a las funciones creadas). Estos programas serán de utilidad en la fase final de resolución de un sistema lineal por métodos de descomposición.\n",
    "<br><br>\n",
    "<span style=\"color:#FF0000\"><b>Comentario.</b></span> Para realizar los programas anteriores, únicamente hay que tener en cuenta que los elementos diagonales de las matrices solamente aparecen en la división final del algoritmo, por lo que <i>suprimir esa división</i> es equivalente a <i>dividir por 1</i>. Por otro lado no será necesario en este caso la comprobación sobre el carácter regular de la matriz, puesto que estamos suponiendo que los elementos diagonales valen 1 (independientemente de los valores que se encuentren almacenados en dichas posiciones) y por tanto la matriz es siempre inversible.\n",
    "    "
   ]
  },
  {
   "cell_type": "code",
   "execution_count": 77,
   "metadata": {},
   "outputs": [],
   "source": [
    "# A rellenar.\n",
    "def descenso1(A, B):\n",
    "    (m, n) = shape(A)\n",
    "    (p, q) = shape(B)\n",
    "    if m != n or n != p or q < 1:\n",
    "        return False, \"descenso: error en las dimensiones\"\n",
    "    #if min(abs(diag(A))) < 1e-100:\n",
    "    #    return False, \"descenso: matriz singular\"\n",
    "    if A.dtype == complex or B.dtype == complex:\n",
    "        X = zeros((n, q), dtype=complex)\n",
    "    else:\n",
    "        X = zeros((n, q), dtype=float)\n",
    "    for i in range(n):\n",
    "        X[i, :] = B[i, :]\n",
    "        if i != 0:\n",
    "            X[i, :] = X[i, :] - A[i, :i]@X[:i, :]\n",
    "        #X[i, :] = X[i, :]/A[i, i]\n",
    "    return True, X    "
   ]
  },
  {
   "cell_type": "code",
   "execution_count": 78,
   "metadata": {},
   "outputs": [],
   "source": [
    "# A rellenar.\n",
    "def remonte1(A, B):\n",
    "    m, n = shape(A)\n",
    "    p, q = shape(B)\n",
    "    if m != n or n != p or q < 1:\n",
    "        return False, \"Error descenso: error en las dimensiones.\"\n",
    "    if min(abs(diag(A))) < 1e-200:\n",
    "        return False, \"Error descenso: matriz singular.\"\n",
    "    if A.dtype == complex or B.dtype == complex:\n",
    "        X = zeros((n, q), dtype=complex)\n",
    "    else:\n",
    "        X = zeros((n, q), dtype=float)\n",
    "    for i in range(n-1 , -1 ,-1): #Desde n-1 hasta 0 con salto -1  (ponemos -1 porque el -1 no está incluido, para en 0) \n",
    "        X[i, :] = B[i, :]\n",
    "        if i != n-1:\n",
    "            X[i, :] -= A[i, i+1:]@X[i+1:, :]\n",
    "    return True, X"
   ]
  },
  {
   "cell_type": "markdown",
   "metadata": {},
   "source": [
    "<span style=\"color:#FF0000\"><b>Ejercicio 8.</b></span> Resolver los siguientes sistemas de ecuaciones lineales:\n",
    "$$\n",
    "\\begin{array}{lllll}\n",
    "(a) & \\left( \\begin{array}{rrrr}\n",
    "1 & & & \\\\ 1 & 1 & & \\\\ 3 & 4 & 1 & \\\\ -1 & 3 & -6 & 1\n",
    "\\end{array} \\right) \\left( \\begin{array}{c}\n",
    "x_1 \\\\ x_2 \\\\ x_3 \\\\ x_4\n",
    "\\end{array} \\right) = \\left( \\begin{array}{r}\n",
    "-10 \\\\ 4 \\\\ 2 \\\\ 5\n",
    "\\end{array} \\right) &\n",
    "(b) & \\left( \\begin{array}{rrrr}\n",
    "1 & -1 & 2 & 3 \\\\ & 1 & 7 & -4 \\\\ & & 1 & 5 \\\\ & & & 1\n",
    "\\end{array} \\right) \\left( \\begin{array}{c}\n",
    "x_1 \\\\ x_2 \\\\ x_3 \\\\ x_4\n",
    "\\end{array} \\right) = \\left( \\begin{array}{r}\n",
    "20 \\\\ -7 \\\\ 4 \\\\ 6\n",
    "\\end{array} \\right)\n",
    "\\end{array}\n",
    "$$\n",
    "<br><br>\n",
    "Dado que ambas matrices tienes elementos diagonales iguales a 1, resolver los sistemas utilizando tanto los métodos generales de <span style=\"font-family: Courier,monospace\">descenso()</span> y <span style=\"font-family: Courier,monospace\">remonte()</span>, respectivamente, como los métodos modificados de <span style=\"font-family: Courier,monospace\">descenso1()</span> y <span style=\"font-family: Courier,monospace\">remonte1()</span>, viendo que se obtienen los mismos resultados.\n"
   ]
  },
  {
   "cell_type": "code",
   "execution_count": 79,
   "metadata": {},
   "outputs": [
    {
     "data": {
      "text/plain": [
       "(True,\n",
       " array([[ -10.],\n",
       "        [  14.],\n",
       "        [ -24.],\n",
       "        [-191.]]))"
      ]
     },
     "execution_count": 79,
     "metadata": {},
     "output_type": "execute_result"
    }
   ],
   "source": [
    "A = array([[1, 0, 0, 0], [1, 1, 0, 0], [3, 4, 1, 0], [-1, 3, -6, 1]])\n",
    "B = array([[-10], [4], [2], [5]])\n",
    "\n",
    "descenso1(A, B)\n"
   ]
  },
  {
   "cell_type": "code",
   "execution_count": 80,
   "metadata": {},
   "outputs": [
    {
     "data": {
      "text/plain": [
       "(True,\n",
       " array([[253.],\n",
       "        [199.],\n",
       "        [-26.],\n",
       "        [  6.]]))"
      ]
     },
     "execution_count": 80,
     "metadata": {},
     "output_type": "execute_result"
    }
   ],
   "source": [
    "A = array([[1, -1, 2, 3], [0, 1, 7, -4], [0, 0, 1, 5], [0, 0, 0, 1]])\n",
    "B = array([[20], [-7], [4], [6]])\n",
    "\n",
    "remonte1(A, B)"
   ]
  },
  {
   "cell_type": "markdown",
   "metadata": {},
   "source": [
    "\n",
    "Otro caso particularmente interesante se produce cuando la <b>matriz triangular</b> $A$ es, al mismo tiempo, <b>tridiagonal</b>, lo que significa que realmente sus únicos elementos no nulos pueden estar situados en dos diagonales: la diagonal principal y una diagonal adicional, bien la sub-diagonal en el caso de triangulares inferiores, bien la supra-diagonal en el caso de triangulares superiores. Una <b>resolución óptima</b> de estos sistemas evita aquellos cálculos inútiles al involucrar los muchos 0 que existen.\n"
   ]
  },
  {
   "cell_type": "markdown",
   "metadata": {},
   "source": [
    "<span style=\"color:#FF0000\"><b>Ejercicio 9.</b></span> Elaborar dos nuevas funciones, a las que daremos el nombre de <span style=\"font-family: Courier,monospace\">descenso_1diag()</span> y <span style=\"font-family: Courier,monospace\">remonte_1diag()</span>, respectivamente, que implementen la <b>mejora de tiempo de cálculo</b> descrita en el párrafo anterior para <b>matrices triangulares y tridiagonales</b>. Estos programas serán similares a los anteriores en cuanto a argumentos de entrada y de salida y tampoco harán una comprobación sobre el carácter tridiagonal de la matriz, suponiendo que son nulos los elementos que deben serlo, independientemente de los valores que estén guardados en dichas posiciones de la matriz."
   ]
  },
  {
   "cell_type": "code",
   "execution_count": 81,
   "metadata": {},
   "outputs": [],
   "source": [
    "# A rellenar.\n",
    "def descenso_1diag(A, B):\n",
    "    (m, n) = shape(A)\n",
    "    (p, q) = shape(B)\n",
    "    if m != n or n != p or q < 1:\n",
    "        return False, \"descenso: error en las dimensiones\"\n",
    "    if min(abs(diag(A))) < 1e-100:\n",
    "        return False, \"descenso: matriz singular\"\n",
    "    if A.dtype == complex or B.dtype == complex:\n",
    "        X = zeros((n, q), dtype=complex)\n",
    "    else:\n",
    "        X = zeros((n, q), dtype=float)\n",
    "    for i in range(n):\n",
    "        X[i, :] = B[i, :]\n",
    "        if i != 0:\n",
    "            X[i, i] = X[i, i] - A[i, i-1]*X[i-1, :]\n",
    "        X[i, :] = X[i, :]/A[i, i]\n",
    "    return True, X"
   ]
  },
  {
   "cell_type": "code",
   "execution_count": null,
   "metadata": {},
   "outputs": [],
   "source": [
    "# A rellenar.\n",
    "def remonte_1diag(A, B):\n",
    "    (m, n) = shape(A)\n",
    "    (p, q) = shape(B)\n",
    "    if m != n or n != p or q < 1:\n",
    "        return False, \"remonte: error en las dimensiones\"\n",
    "    if min(abs(diag(A))) < 1e-100:\n",
    "        return False, \"remonte: matriz singular\"\n",
    "    if A.dtype == complex or B.dtype == complex:\n",
    "        X = zeros((n, q), dtype=complex)\n",
    "    else:\n",
    "        X = zeros((n, q), dtype=float)\n",
    "    for i in range(n-1,-1,-1):\n",
    "        X[i, :] = B[i, :]\n",
    "        if i != n-1:\n",
    "            X[i, :] = X[i, :] - A[i, i+1:]@X[i+1:, :]\n",
    "        X[i, :] = X[i, :]/A[i, i]\n",
    "    return True, X"
   ]
  },
  {
   "cell_type": "markdown",
   "metadata": {},
   "source": [
    "\n",
    "<span style=\"color:#FF0000\"><b>Ejercicio 10.</b></span> Crear una matriz de orden 5, triangular inferior (superior) y tridiagonal, que tenga en la diagonal principal 2 y en la sub-diagonal (supra-diagonal) $-1$; crear igualmente un segundo miembro adecuado para que la solución del sistema lineal correspondiente sea el vector con todos sus elementos igual a 1 (esto se consigue tomando como segundo miembro el vector cuyos elementos son las sumas de los elementos de las filas correspondientes de la matriz de coeficientes).\n",
    "<br><br>\n",
    "Resolver ese sistema lineal con la función que implementa el método de descenso (remonte) completo y el que implementa el método correspondiente optimizado para matrices tridiagonales, comprobando que se obtienen resultados similares."
   ]
  },
  {
   "cell_type": "code",
   "execution_count": 85,
   "metadata": {},
   "outputs": [
    {
     "name": "stdout",
     "output_type": "stream",
     "text": [
      "[[ 2.  0.  0.  0.  0.]\n",
      " [-1.  2.  0.  0.  0.]\n",
      " [ 0. -1.  2.  0.  0.]\n",
      " [ 0.  0. -1.  2.  0.]\n",
      " [ 0.  0.  0. -1.  2.]]\n"
     ]
    },
    {
     "ename": "ValueError",
     "evalue": "not enough values to unpack (expected 2, got 1)",
     "output_type": "error",
     "traceback": [
      "\u001b[0;31m---------------------------------------------------------------------------\u001b[0m",
      "\u001b[0;31mValueError\u001b[0m                                Traceback (most recent call last)",
      "\u001b[1;32m/home/juanmagdev/Documentos/Metodos/Practicas/Prácticas-4.ipynb Cell 35'\u001b[0m in \u001b[0;36m<cell line: 5>\u001b[0;34m()\u001b[0m\n\u001b[1;32m      <a href='vscode-notebook-cell:/home/juanmagdev/Documentos/Metodos/Practicas/Pr%C3%A1cticas-4.ipynb#ch0000034?line=1'>2</a>\u001b[0m \u001b[39mprint\u001b[39m(A)\n\u001b[1;32m      <a href='vscode-notebook-cell:/home/juanmagdev/Documentos/Metodos/Practicas/Pr%C3%A1cticas-4.ipynb#ch0000034?line=2'>3</a>\u001b[0m B \u001b[39m=\u001b[39m [\u001b[39m1\u001b[39m, \u001b[39m1\u001b[39m, \u001b[39m1\u001b[39m, \u001b[39m1\u001b[39m]\n\u001b[0;32m----> <a href='vscode-notebook-cell:/home/juanmagdev/Documentos/Metodos/Practicas/Pr%C3%A1cticas-4.ipynb#ch0000034?line=4'>5</a>\u001b[0m descenso1(A, B)\n",
      "\u001b[1;32m/home/juanmagdev/Documentos/Metodos/Practicas/Prácticas-4.ipynb Cell 25'\u001b[0m in \u001b[0;36mdescenso1\u001b[0;34m(A, B)\u001b[0m\n\u001b[1;32m      <a href='vscode-notebook-cell:/home/juanmagdev/Documentos/Metodos/Practicas/Pr%C3%A1cticas-4.ipynb#ch0000024?line=1'>2</a>\u001b[0m \u001b[39mdef\u001b[39;00m \u001b[39mdescenso1\u001b[39m(A, B):\n\u001b[1;32m      <a href='vscode-notebook-cell:/home/juanmagdev/Documentos/Metodos/Practicas/Pr%C3%A1cticas-4.ipynb#ch0000024?line=2'>3</a>\u001b[0m     (m, n) \u001b[39m=\u001b[39m shape(A)\n\u001b[0;32m----> <a href='vscode-notebook-cell:/home/juanmagdev/Documentos/Metodos/Practicas/Pr%C3%A1cticas-4.ipynb#ch0000024?line=3'>4</a>\u001b[0m     (p, q) \u001b[39m=\u001b[39m shape(B)\n\u001b[1;32m      <a href='vscode-notebook-cell:/home/juanmagdev/Documentos/Metodos/Practicas/Pr%C3%A1cticas-4.ipynb#ch0000024?line=4'>5</a>\u001b[0m     \u001b[39mif\u001b[39;00m m \u001b[39m!=\u001b[39m n \u001b[39mor\u001b[39;00m n \u001b[39m!=\u001b[39m p \u001b[39mor\u001b[39;00m q \u001b[39m<\u001b[39m \u001b[39m1\u001b[39m:\n\u001b[1;32m      <a href='vscode-notebook-cell:/home/juanmagdev/Documentos/Metodos/Practicas/Pr%C3%A1cticas-4.ipynb#ch0000024?line=5'>6</a>\u001b[0m         \u001b[39mreturn\u001b[39;00m \u001b[39mFalse\u001b[39;00m, \u001b[39m\"\u001b[39m\u001b[39mdescenso: error en las dimensiones\u001b[39m\u001b[39m\"\u001b[39m\n",
      "\u001b[0;31mValueError\u001b[0m: not enough values to unpack (expected 2, got 1)"
     ]
    }
   ],
   "source": [
    "A = 2*eye(5) + diag([-1,-1,-1, -1], k=-1)\n",
    "print(A)\n",
    "B = [1, 1, 1, 1]\n",
    "\n",
    "descenso(A, B)\n"
   ]
  },
  {
   "cell_type": "code",
   "execution_count": 86,
   "metadata": {},
   "outputs": [
    {
     "name": "stdout",
     "output_type": "stream",
     "text": [
      "[[0.5     0.      0.      0.      0.     ]\n",
      " [0.25    0.5     0.      0.      0.     ]\n",
      " [0.125   0.25    0.5     0.      0.     ]\n",
      " [0.0625  0.125   0.25    0.5     0.     ]\n",
      " [0.03125 0.0625  0.125   0.25    0.5    ]]\n"
     ]
    }
   ],
   "source": [
    "A = 2*eye(5) + diag([-1,-1,-1, -1], k=-1)\n",
    "B = inv(A)\n",
    "\n",
    "print(B)\n"
   ]
  },
  {
   "cell_type": "markdown",
   "metadata": {},
   "source": [
    "<span style=\"color:#FF0000\"><b>Ejercicio 11.</b></span> Calcular las inversas de las matrices del ejercicio anterior, comprobando que dichas inversas no conservan el carácter tridiagonal de la matriz inicial."
   ]
  },
  {
   "cell_type": "code",
   "execution_count": null,
   "metadata": {},
   "outputs": [],
   "source": [
    "A = 2*eye(5) ...\n",
    "B = ...\n"
   ]
  },
  {
   "cell_type": "code",
   "execution_count": null,
   "metadata": {},
   "outputs": [],
   "source": [
    "A = 2*eye(5) ...\n",
    "B = ...\n"
   ]
  },
  {
   "cell_type": "markdown",
   "metadata": {},
   "source": [
    "\n",
    "<span style=\"color:#FF0000\"><b>Ejercicio 12.</b></span> Se puede <b>controlar el tiempo de ejecución</b> de un programa importando la función <span style=\"font-family: Courier,monospace\">time()</span> del módulo <span style=\"font-family: Courier,monospace\">time</span>, haciendo una llamada a dicha función antes y después de ejecutar el programa que queramos controlar y calculando la diferencia de tiempos.\n",
    "<br><br>\n",
    "Analizar la diferencia de tiempos de ejecución de la versión general del programa <span style=\"font-family: Courier,monospace\">descenso()</span> (respect. <span style=\"font-family: Courier,monospace\">remonte()</span>) y del programa <span style=\"font-family: Courier,monospace\">descenso_1diag()</span> (respect. <span style=\"font-family: Courier,monospace\">remonte_1diag()</span>), usando un sistema lineal análogo al del Ejercicio 10, pero de tamaño tan grande como sea posible."
   ]
  },
  {
   "cell_type": "code",
   "execution_count": 87,
   "metadata": {},
   "outputs": [
    {
     "ename": "ValueError",
     "evalue": "not enough values to unpack (expected 2, got 1)",
     "output_type": "error",
     "traceback": [
      "\u001b[0;31m---------------------------------------------------------------------------\u001b[0m",
      "\u001b[0;31mValueError\u001b[0m                                Traceback (most recent call last)",
      "\u001b[1;32m/home/juanmagdev/Documentos/Metodos/Practicas/Prácticas-4.ipynb Cell 41'\u001b[0m in \u001b[0;36m<cell line: 7>\u001b[0;34m()\u001b[0m\n\u001b[1;32m      <a href='vscode-notebook-cell:/home/juanmagdev/Documentos/Metodos/Practicas/Pr%C3%A1cticas-4.ipynb#ch0000040?line=4'>5</a>\u001b[0m \u001b[39m#\u001b[39;00m\n\u001b[1;32m      <a href='vscode-notebook-cell:/home/juanmagdev/Documentos/Metodos/Practicas/Pr%C3%A1cticas-4.ipynb#ch0000040?line=5'>6</a>\u001b[0m tiempo_ini \u001b[39m=\u001b[39m time()\n\u001b[0;32m----> <a href='vscode-notebook-cell:/home/juanmagdev/Documentos/Metodos/Practicas/Pr%C3%A1cticas-4.ipynb#ch0000040?line=6'>7</a>\u001b[0m exito, X \u001b[39m=\u001b[39m descenso(A, B)\n\u001b[1;32m      <a href='vscode-notebook-cell:/home/juanmagdev/Documentos/Metodos/Practicas/Pr%C3%A1cticas-4.ipynb#ch0000040?line=7'>8</a>\u001b[0m tiempo_fin \u001b[39m=\u001b[39m time()\n",
      "\u001b[1;32m/home/juanmagdev/Documentos/Metodos/Practicas/Prácticas-4.ipynb Cell 6'\u001b[0m in \u001b[0;36mdescenso\u001b[0;34m(A, B)\u001b[0m\n\u001b[1;32m      <a href='vscode-notebook-cell:/home/juanmagdev/Documentos/Metodos/Practicas/Pr%C3%A1cticas-4.ipynb#ch0000005?line=0'>1</a>\u001b[0m \u001b[39mdef\u001b[39;00m \u001b[39mdescenso\u001b[39m(A, B):\n\u001b[1;32m      <a href='vscode-notebook-cell:/home/juanmagdev/Documentos/Metodos/Practicas/Pr%C3%A1cticas-4.ipynb#ch0000005?line=1'>2</a>\u001b[0m     m, n \u001b[39m=\u001b[39m shape(A)\n\u001b[0;32m----> <a href='vscode-notebook-cell:/home/juanmagdev/Documentos/Metodos/Practicas/Pr%C3%A1cticas-4.ipynb#ch0000005?line=2'>3</a>\u001b[0m     p, q \u001b[39m=\u001b[39m shape(B)\n\u001b[1;32m      <a href='vscode-notebook-cell:/home/juanmagdev/Documentos/Metodos/Practicas/Pr%C3%A1cticas-4.ipynb#ch0000005?line=3'>4</a>\u001b[0m     \u001b[39mif\u001b[39;00m m \u001b[39m!=\u001b[39m n \u001b[39mor\u001b[39;00m n \u001b[39m!=\u001b[39m p \u001b[39mor\u001b[39;00m q \u001b[39m!=\u001b[39m \u001b[39m1\u001b[39m:\n\u001b[1;32m      <a href='vscode-notebook-cell:/home/juanmagdev/Documentos/Metodos/Practicas/Pr%C3%A1cticas-4.ipynb#ch0000005?line=4'>5</a>\u001b[0m         \u001b[39mreturn\u001b[39;00m \u001b[39mFalse\u001b[39;00m, \u001b[39m\"\u001b[39m\u001b[39mError descenso: error en las dimensiones.\u001b[39m\u001b[39m\"\u001b[39m\n",
      "\u001b[0;31mValueError\u001b[0m: not enough values to unpack (expected 2, got 1)"
     ]
    }
   ],
   "source": [
    "from time import time\n",
    "n = 10000\n",
    "A = 2*eye(5) + diag([-1,-1,-1, -1], k=-1)\n",
    "B = [1, 1, 1, 1, 1]\n",
    "#\n",
    "tiempo_ini = time()\n",
    "exito, X = descenso(A, B)\n",
    "tiempo_fin = time()\n"
   ]
  },
  {
   "cell_type": "code",
   "execution_count": null,
   "metadata": {},
   "outputs": [],
   "source": [
    "from time import time\n",
    "n = 10000\n",
    "A = 2*eye(n) ...\n",
    "B = ...\n"
   ]
  },
  {
   "cell_type": "markdown",
   "metadata": {},
   "source": [
    "\n",
    "<span style=\"color:#FF0000\"><b>Ejercicio 13.</b></span> Al igual que para las matrices triangulares y tridiagonales (es decir, matrices banda con semi-anchura de la banda $r=1$) hemos elaborado funciones optimizadas de los algoritmos de descenso y de remonte respectivamente, elaborar funciones similares para el caso de <b>matrices banda con semi-anchura de la banda $r$</b> ($1\\le r<n$).\n",
    "<br><br>\n",
    "Utilizar los nombres de <span style=\"font-family: Courier,monospace\">descenso_rdiag()</span> y <span style=\"font-family: Courier,monospace\">remonte_rdiag()</span> para dichas funciones, que deben tener un parámetro de entrada adicional que es justamente el valor de $r$.\n",
    "<br><br>\n",
    "Observamos que en el caso $r=n-1$ la matriz es realmente llena, si bien el carácter de matriz banda se utiliza cuando $r$ es <i>pequeño<i> en comparación con $n$."
   ]
  },
  {
   "cell_type": "code",
   "execution_count": null,
   "metadata": {},
   "outputs": [],
   "source": [
    "# A rellenar.\n",
    "def descenso_rdiag(A, B, r):\n",
    "    "
   ]
  },
  {
   "cell_type": "code",
   "execution_count": null,
   "metadata": {},
   "outputs": [],
   "source": [
    "# A rellenar.\n",
    "def remonte_rdiag(A, B, r):\n",
    "    "
   ]
  },
  {
   "cell_type": "markdown",
   "metadata": {},
   "source": [
    "\n",
    "<span style=\"color:#FF0000\"><b>Ejercicio 14.</b></span> Crear una matriz de orden 5, pentadiagonal inferior (superior) y tridiagonal, que tenga en la diagonal principal 4 y en las dos sub-diagonales (supra-diagonales) $-1$; crear igualmente un segundo miembro adecuado para que la solución del sistema lineal correspondiente sea el vector con todos sus elementos igual a 1.\n",
    "<br><br>\n",
    "Resolver ese sistema lineal con la función que implementa el método de descenso (remonte) completo y el que implementa el método correspondiente optimizado para matrices $r$-bandas, comprobando que se obtienen resultados similares."
   ]
  },
  {
   "cell_type": "code",
   "execution_count": null,
   "metadata": {},
   "outputs": [],
   "source": [
    "A = 4*eye(5) ...\n",
    "B = ...\n"
   ]
  },
  {
   "cell_type": "code",
   "execution_count": null,
   "metadata": {},
   "outputs": [],
   "source": [
    "A = 4*eye(5) ...\n",
    "B = ...\n"
   ]
  },
  {
   "cell_type": "markdown",
   "metadata": {},
   "source": [
    "<span style=\"color:#FF0000\"><b>Comentario.</b></span> Consideremos de nuevo el caso de una matriz invertible $A\\in\\mathcal{M}_n(\\mathbf{K})$ triangular inferior y tridiagonal. Es habitual que para el <b>almacenamiento</b> de la misma en la memoria del ordenador, no se utilice una matriz de tamaño $n\\times n$ (cuyos elementos serían en su mayoría 0), sino que se utilice una <i>matriz optimizada</i> de tamaño $n\\times2$, en cuya segunda columna se almacenan los elementos de la diagonal principal conservando la fila, y en cuya primera columna se almacenan los elementos de la sub-diagonal también conservando la fila (el valor almacenada en la primera fila y primera columna de esta <i>matriz optimizada</i> no tiene ninguna utilidad en este caso). En el caso de matrices triangulares superiores se almacena la diagonal principal en la primera columna, mientras que en la segunda columna se almacenan los elementos de la supra-diagonal, siempre conservando la fila (en este caso el valor almacenado en la segunda columna de la última fila no tiene ninguna utilidad).\n",
    "<br><br>\n",
    "Otras técnicas similares se utilizan, en general, para el almacenamiento de <b>matrices vacías</b>."
   ]
  },
  {
   "cell_type": "markdown",
   "metadata": {},
   "source": [
    "<span style=\"color:#FF0000\"><b>Ejercicio 15.</b></span> Modificar nuestro programa <span style=\"font-family: Courier,monospace\">descenso_1diag()</span> creando un nuevo programa de nombre <span style=\"font-family: Courier,monospace\">descenso_1diag_vacia()</span> que tenga en cuenta esta forma optimizada de almacenamiento de la matriz. Realizar un análisis similar para el caso de matrices triangulares superiores, pasando del programa <span style=\"font-family: Courier,monospace\">remonte_1diag()</span> al programa <span style=\"font-family: Courier,monospace\">remonte_1diag_vacia()"
   ]
  },
  {
   "cell_type": "code",
   "execution_count": null,
   "metadata": {},
   "outputs": [],
   "source": [
    "# A rellenar.\n",
    "def descenso_1diag_vacia(A, B):\n",
    "    "
   ]
  },
  {
   "cell_type": "code",
   "execution_count": null,
   "metadata": {},
   "outputs": [],
   "source": [
    "# A rellenar.\n",
    "def remonte_1diag_vacia(A, B):\n",
    "    "
   ]
  },
  {
   "cell_type": "markdown",
   "metadata": {},
   "source": [
    "<span style=\"color:#FF0000\"><b>Ejercicio 16.</b></span> Crear una matriz de orden $n$ (con $n$ suficientemente grande), triangular inferior (superior) y tridiagonal, que tenga en la diagonal principal 2 y en la sub-diagonal (supra-diagonal) $-1$; crear igualmente un segundo miembro adecuado para que la solución del sistema lineal correspondiente sea el vector con todos sus elementos igual a 1.\n",
    "<br><br>\n",
    "Resolver ese sistema lineal con la función que implementa el método de descenso (remonte) completo, el que implementa el método de descenso (remonte) optimizado para matrices triadiagonales y el que implementa el método correspondiente optimizado para matrices tridiagonales y para el almacenamiento optimizado de la matriz, comprobando que se obtienen resultados similares."
   ]
  },
  {
   "cell_type": "code",
   "execution_count": null,
   "metadata": {},
   "outputs": [],
   "source": [
    "from time import time\n",
    "n = 10000\n",
    "A = 2*eye(n) ...\n",
    "A_vacia = zeros((n,2))\n",
    "A_vacia[:, 0] = -1\n",
    "A_vacia[:, 1] = 2\n",
    "B = ...\n"
   ]
  },
  {
   "cell_type": "code",
   "execution_count": null,
   "metadata": {},
   "outputs": [],
   "source": [
    "from time import time\n",
    "n = 10000\n",
    "A = 2*eye(n) ...\n",
    "A_vacia = zeros((n,2))\n",
    "A_vacia[:, 0] = 2\n",
    "A_vacia[:, 1] = -1\n",
    "B = ...\n"
   ]
  },
  {
   "cell_type": "code",
   "execution_count": null,
   "metadata": {},
   "outputs": [],
   "source": []
  }
 ],
 "metadata": {
  "kernelspec": {
   "display_name": "Python 3 (ipykernel)",
   "language": "python",
   "name": "python3"
  },
  "language_info": {
   "codemirror_mode": {
    "name": "ipython",
    "version": 3
   },
   "file_extension": ".py",
   "mimetype": "text/x-python",
   "name": "python",
   "nbconvert_exporter": "python",
   "pygments_lexer": "ipython3",
   "version": "3.10.4"
  }
 },
 "nbformat": 4,
 "nbformat_minor": 4
}
