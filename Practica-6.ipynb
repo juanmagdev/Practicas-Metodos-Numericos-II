{
 "cells": [
  {
   "cell_type": "markdown",
   "metadata": {},
   "source": [
    "# Práctica 6. Factorizaciones de tipo LU y de Cholesky."
   ]
  },
  {
   "cell_type": "code",
   "execution_count": 1,
   "metadata": {},
   "outputs": [],
   "source": [
    "from algoritmos import *"
   ]
  },
  {
   "cell_type": "markdown",
   "metadata": {},
   "source": [
    "El objetivo de esta práctica es definir funciones ```Python``` para resolver sistemas de ecuaciones lineales utilizando para ello **factorizaciones de tipo $LU$ y de Cholesky**.\n",
    "\n",
    "Recordamos que dada $A\\in\\mathcal{M}_n(\\mathbb{K})$ inversible, se llama factorización $LU$ a la descomposición, si es posible,\n",
    "$$A=LU$$\n",
    "siendo $L\\in\\mathcal{M}_n(\\mathbb{K})$  triangular inferior, inversible y con unos en la diagonal principal y $U\\in\\mathcal{M}_n(\\mathbb{K})$  triangular superior e inversible. Esta factorización es posible si y solamente si todas las submatrices principales de A son también inversibles, siendo además única."
   ]
  },
  {
   "cell_type": "markdown",
   "metadata": {},
   "source": [
    "La factorización $LU$ de una matriz está asociada de forma natural a un método directo de resolución del sistema $AX=B$, llamado método $LU$, en el que se pueden diferenciar dos etapas:\n",
    "1. determinación de la factorización $LU$ de la matriz $A$\n",
    "2. resolución mediante un proceso de descenso seguido de uno de remonte del sistema lineal, ya que\n",
    "$$AX=B \\Longleftrightarrow LY=B \\quad y \\quad UX=Y $$"
   ]
  },
  {
   "cell_type": "markdown",
   "metadata": {},
   "source": [
    "Las funciones para realizar la factorización $LU$ de una\n",
    "matriz, de nombre ```facto_lu()```, y para resolver un sistema lineal utilizando dicha factorización, de nombre ```metodo_lu()```,\n",
    "aparecen a continuación. La función que realiza la factorización\n",
    "tiene un único argumento de entrada, que es la matriz a factorizar(si es posible); tiene dos argumentos de salida que son una variable booleana indicando el éxito o no de la factorización,\n",
    "así como una única matriz conteniendo la factorización en la\n",
    "forma que se indica a continuación. \n",
    "\n",
    "Al igual que en el método de Gauss, la función que resuelve sistemas lineales mediante el método $LU$ tiene dos argumentos de entrada, matriz del sistema y segundo(s) miembro(s), y dos argumentos de salida, variable booleana y solución(ones). Como puede observarse, la función que realiza la factorización es totalmente análoga a la del método de Gauss, sin estrategia de pivot; no obstante, si se localiza un pívot nulo el proceso se para al no existir entonces dicha factorización. Notamos que, al finalizar la factorización, en la parte triangular superior de la matriz que se devuelve se ha almacenado la matriz $U$, mientras que en la parte estrictamente triangular inferior se ha almacenado la\n",
    "matriz $L$, cuyos elementos diagonales, que valen 1, no se han\n",
    "guardado; esto implica que en el el programa para la resolución por el método $LU$ de un sistema lineal, cuando se realiza\n",
    "el descenso correspondiente se llame al programa descenso1,\n",
    "que es una versión modificada del programa descenso en la\n",
    "que no se realiza la división por el elemento diagonal, lo cual\n",
    "es equivalente a dividir por 1."
   ]
  },
  {
   "cell_type": "code",
   "execution_count": null,
   "metadata": {},
   "outputs": [],
   "source": [
    "# Definición de la función facto_lu(A)\n",
    "# Esta en algoritmos.py"
   ]
  },
  {
   "cell_type": "code",
   "execution_count": null,
   "metadata": {},
   "outputs": [],
   "source": [
    "# Definición de la función metodo_lu(A,B)\n",
    "def metodo_lu(A, B):\n",
    "# Esta en algoritmos.py"
   ]
  },
  {
   "cell_type": "markdown",
   "metadata": {},
   "source": [
    "**Ejercicio 1.** Realizar la factorización $LU$ de las siguientes matrices\n",
    "$$\n",
    "(a) \\quad A= \\begin{pmatrix}\n",
    "2 & -1 & 4 & 0 \\\\ 4 & -1 & 5 & 1 \\\\ -2 & 2 & -2 & 3 \\\\ 0 & 3 & -9 & 4\n",
    "\\end{pmatrix} \n",
    "\\qquad\n",
    "(b) \\quad A=\\begin{pmatrix}\n",
    "3 & -2 & 6 & -5 \\\\ 24 & -12 & 41 & -39 \\\\ -27 & 18 & -62 & 54 \\\\ 9 & 14 & 15 & -47\n",
    "\\end{pmatrix} \n",
    "$$\n",
    "\n",
    "Cambiar el elemento $(2,1)$ de la matriz del apartado (b) por 18 y analizar lo que ocurre."
   ]
  },
  {
   "cell_type": "code",
   "execution_count": 3,
   "metadata": {},
   "outputs": [
    {
     "data": {
      "text/plain": [
       "(True,\n",
       " array([[ 2., -1.,  4.,  0.],\n",
       "        [ 2.,  1., -3.,  1.],\n",
       "        [-1.,  1.,  5.,  2.],\n",
       "        [ 0.,  3.,  0.,  1.]]))"
      ]
     },
     "execution_count": 3,
     "metadata": {},
     "output_type": "execute_result"
    }
   ],
   "source": [
    "A = array([[2,-1, 4, 0], [4, -1, 5, 1], [-2, 2, -2, 3], [0, 3, -9, 4]])\n",
    "facto_lu(A)"
   ]
  },
  {
   "cell_type": "code",
   "execution_count": 5,
   "metadata": {},
   "outputs": [
    {
     "data": {
      "text/plain": [
       "(False, 'facto_lu: no existe la factorización')"
      ]
     },
     "execution_count": 5,
     "metadata": {},
     "output_type": "execute_result"
    }
   ],
   "source": [
    "A = array([[3, -2, 6, -5], [18, -12, 41, -39], [-27, 18, -62, 54], [9, 14, 15, -47]])\n",
    "facto_lu(A) # cambiando el elemento no existe la factorizacion"
   ]
  },
  {
   "cell_type": "markdown",
   "metadata": {},
   "source": [
    "**Ejercicio 2.** Construir segundos miembros convenientes para que la solución del sistema sea el vector con todas las componentes iguales a 1 y resolver los sistemas lineales correspondientes con las matrices del ejercicio anterior\n",
    "mediante el método $LU$. Calcular también sus inversas."
   ]
  },
  {
   "cell_type": "code",
   "execution_count": 8,
   "metadata": {},
   "outputs": [
    {
     "ename": "ValueError",
     "evalue": "not enough values to unpack (expected 2, got 1)",
     "output_type": "error",
     "traceback": [
      "\u001b[0;31m---------------------------------------------------------------------------\u001b[0m",
      "\u001b[0;31mValueError\u001b[0m                                Traceback (most recent call last)",
      "\u001b[1;32m/home/juanmagdev/Documentos/Metodos/Practicas/Practica-6.ipynb Cell 12'\u001b[0m in \u001b[0;36m<cell line: 4>\u001b[0;34m()\u001b[0m\n\u001b[1;32m      <a href='vscode-notebook-cell:/home/juanmagdev/Documentos/Metodos/Practicas/Practica-6.ipynb#ch0000011?line=0'>1</a>\u001b[0m B \u001b[39m=\u001b[39m [\u001b[39m5\u001b[39m, \u001b[39m9\u001b[39m, \u001b[39m4\u001b[39m, \u001b[39m-\u001b[39m\u001b[39m2\u001b[39m]\n\u001b[1;32m      <a href='vscode-notebook-cell:/home/juanmagdev/Documentos/Metodos/Practicas/Practica-6.ipynb#ch0000011?line=1'>2</a>\u001b[0m A \u001b[39m=\u001b[39m array([[\u001b[39m2\u001b[39m,\u001b[39m-\u001b[39m\u001b[39m1\u001b[39m, \u001b[39m4\u001b[39m, \u001b[39m0\u001b[39m], [\u001b[39m4\u001b[39m, \u001b[39m-\u001b[39m\u001b[39m1\u001b[39m, \u001b[39m5\u001b[39m, \u001b[39m1\u001b[39m], [\u001b[39m-\u001b[39m\u001b[39m2\u001b[39m, \u001b[39m2\u001b[39m, \u001b[39m-\u001b[39m\u001b[39m2\u001b[39m, \u001b[39m3\u001b[39m], [\u001b[39m0\u001b[39m, \u001b[39m3\u001b[39m, \u001b[39m-\u001b[39m\u001b[39m9\u001b[39m, \u001b[39m4\u001b[39m]])\n\u001b[0;32m----> <a href='vscode-notebook-cell:/home/juanmagdev/Documentos/Metodos/Practicas/Practica-6.ipynb#ch0000011?line=3'>4</a>\u001b[0m metodo_lu(A, B)\n",
      "File \u001b[0;32m~/Documentos/Metodos/Practicas/algoritmos.py:344\u001b[0m, in \u001b[0;36mmetodo_lu\u001b[0;34m(A, B)\u001b[0m\n\u001b[1;32m    <a href='file:///home/juanmagdev/Documentos/Metodos/Practicas/algoritmos.py?line=341'>342</a>\u001b[0m exito, lu \u001b[39m=\u001b[39m facto_lu(A)\n\u001b[1;32m    <a href='file:///home/juanmagdev/Documentos/Metodos/Practicas/algoritmos.py?line=342'>343</a>\u001b[0m \u001b[39mif\u001b[39;00m exito:\n\u001b[0;32m--> <a href='file:///home/juanmagdev/Documentos/Metodos/Practicas/algoritmos.py?line=343'>344</a>\u001b[0m     exito2, Y \u001b[39m=\u001b[39m descenso1(lu, B)\n\u001b[1;32m    <a href='file:///home/juanmagdev/Documentos/Metodos/Practicas/algoritmos.py?line=344'>345</a>\u001b[0m     exito3, X \u001b[39m=\u001b[39m remonte(lu, Y)\n\u001b[1;32m    <a href='file:///home/juanmagdev/Documentos/Metodos/Practicas/algoritmos.py?line=345'>346</a>\u001b[0m     \u001b[39mif\u001b[39;00m exito2 \u001b[39mand\u001b[39;00m exito3:\n",
      "File \u001b[0;32m~/Documentos/Metodos/Practicas/algoritmos.py:102\u001b[0m, in \u001b[0;36mdescenso1\u001b[0;34m(A, B)\u001b[0m\n\u001b[1;32m    <a href='file:///home/juanmagdev/Documentos/Metodos/Practicas/algoritmos.py?line=99'>100</a>\u001b[0m \u001b[39mdef\u001b[39;00m \u001b[39mdescenso1\u001b[39m(A, B):\n\u001b[1;32m    <a href='file:///home/juanmagdev/Documentos/Metodos/Practicas/algoritmos.py?line=100'>101</a>\u001b[0m     (m, n) \u001b[39m=\u001b[39m shape(A)\n\u001b[0;32m--> <a href='file:///home/juanmagdev/Documentos/Metodos/Practicas/algoritmos.py?line=101'>102</a>\u001b[0m     (p, q) \u001b[39m=\u001b[39m shape(B)\n\u001b[1;32m    <a href='file:///home/juanmagdev/Documentos/Metodos/Practicas/algoritmos.py?line=102'>103</a>\u001b[0m     \u001b[39mif\u001b[39;00m m \u001b[39m!=\u001b[39m n \u001b[39mor\u001b[39;00m n \u001b[39m!=\u001b[39m p \u001b[39mor\u001b[39;00m q \u001b[39m<\u001b[39m \u001b[39m1\u001b[39m:\n\u001b[1;32m    <a href='file:///home/juanmagdev/Documentos/Metodos/Practicas/algoritmos.py?line=103'>104</a>\u001b[0m         \u001b[39mreturn\u001b[39;00m \u001b[39mFalse\u001b[39;00m, \u001b[39m\"\u001b[39m\u001b[39mdescenso: error en las dimensiones\u001b[39m\u001b[39m\"\u001b[39m\n",
      "\u001b[0;31mValueError\u001b[0m: not enough values to unpack (expected 2, got 1)"
     ]
    }
   ],
   "source": [
    "B = [5, 9, 4, -2]\n",
    "A = array([[2,-1, 4, 0], [4, -1, 5, 1], [-2, 2, -2, 3], [0, 3, -9, 4]])\n",
    "\n",
    "metodo_lu(A, B)"
   ]
  },
  {
   "cell_type": "code",
   "execution_count": null,
   "metadata": {},
   "outputs": [],
   "source": []
  },
  {
   "cell_type": "markdown",
   "metadata": {},
   "source": [
    "Por otro lado, dada dada $A\\in\\mathcal{M}_n(\\mathbb{K})$ simétrica-hermítica e inversible, se llama factorización de Cholesky a la descomposición, si es posible,\n",
    "$$A=CC^*$$\n",
    "siendo $C\\in\\mathcal{M}_n(\\mathbb{K})$ triangular inferior e inversile. Dicha factorización existe, (y es única suponiendo la positividad de los elementos diagonales de $C$ si y solamente si la matriz $A$ es definida positiva."
   ]
  },
  {
   "cell_type": "markdown",
   "metadata": {},
   "source": [
    "La factorización de Cholesky de una matriz está asociada de forma natural a un método directo de resolución del sistema lineal $AX=B$, llamado método de Cholesky, en el que se pueden diferenciar dos etapas:\n",
    "1. determinación de la factorización de Cholesky de la matriz $A$\n",
    "2. resolución mediante un proceso de descenso seguido de uno de remonte del sistema lineal, ya que\n",
    "$$AX=B \\Longleftrightarrow CY=B \\quad y \\quad C^*X=Y $$"
   ]
  },
  {
   "cell_type": "markdown",
   "metadata": {},
   "source": [
    "Las funciones para realizar la factorización de Cholesky de\n",
    "una matriz simétrica-hermítica y definida positiva, de nombre ```facto_cholesky()```, y resolver un sistema lineal utilizando\n",
    "dicha factorización, de nombre ```metodo_cholesky()``` se construyen a continuación. \n",
    "La función que realiza la factorización tiene un\n",
    "único argumento de entrada, que es la matriz a factorizar(si es\n",
    "posible); tiene dos argumentos de salida que son una variable\n",
    "booleana indicando el éxito o no de la factorización, así como una única matriz conteniendo la factorización en la forma\n",
    "que se indica a continuación. Al igual que en el método $LU$,\n",
    "la función que resuelve sistemas lineales mediante el método\n",
    "de Cholesky tiene dos argumentos de entrada, matriz del sistema y segundo(s) miembro(s), y dos argumentos de salida,\n",
    "variable booleana y solución(ones). Como puede observarse\n",
    "la función no hace ninguna comprobación sobre el carácter\n",
    "simétrico-hermítico de la matriz; de hecho sólo trabaja con la\n",
    "parte triangular superior de la matriz original, ignorando los\n",
    "elementos de la parte estrictamente triangular inferior. Por\n",
    "otro lado, el carácter definido positivo lo detecta verificando\n",
    "que todas las raíces cuadradas que tiene que calcular son de números reales y positivos; en caso contrario detiene el proceso al no existir dicha factorización. Notamos que, al finalizar\n",
    "la factorización, en la parte triangular inferior de la matriz de\n",
    "salida se ha almacenado la matriz triangular inferior de la factorización, mientras que en la parte triangular inferior se ha\n",
    "almacenado su transpuesta-conjugada, compartiendo ambas\n",
    "matrices los elementos diagonales. En el programa de resolución mediante el método de Cholesky se hace una llamada a\n",
    "la factorización y posteriormente se hacen llamadas a los programas de descenso y remonte para resolver el sistema lineal."
   ]
  },
  {
   "cell_type": "code",
   "execution_count": null,
   "metadata": {},
   "outputs": [],
   "source": [
    "# Definición de la función facto_cholesky(A)\n",
    "def facto_cholesky(A):\n",
    "    m, n = shape(A)\n",
    "    if m != n:\n",
    "        return False, \"Error facto_cholesky: error en las dimensiones.\"\n",
    "    if A.dtype == complex:\n",
    "        chol = array(A, dtype=complex)\n",
    "    else:\n",
    "        chol = array(A, dtype=float)\n",
    "    for i in range(n):\n",
    "        chol[i, i] -= sum(power(abs(chol[i, 0:i]), 2)) \n",
    "        if chol[i, i] >= 1e-100:\n",
    "            chol[i, i] = sqrt(chol[i, i])\n",
    "        else:\n",
    "            return False, \"Error facto_cholesky: no se factoriza la matriz\"\n",
    "        chol[i, i+1:] -= chol[i, 0:i]@conjugada(chol[i+1:, 0:i])\n",
    "        chol[i, i+1:] = chol[i, i+1:]/chol[i, i]\n",
    "        chol[i+1:, i] = conjugada(chol[i, i+1:])\n",
    "    return True, chol"
   ]
  },
  {
   "cell_type": "code",
   "execution_count": null,
   "metadata": {},
   "outputs": [],
   "source": [
    "#Definicion de la función metodo_cholesky(A,B)\n",
    "# Esta en algoritmos.py"
   ]
  },
  {
   "cell_type": "markdown",
   "metadata": {},
   "source": [
    "**Ejercicio 3.** Realizar la factorización de Cholesky de las siguientes matrices\n",
    "$$\n",
    "(a) \\quad \\begin{pmatrix}\n",
    "1 & 2 & 3 & 4 \\\\ 2 & 5 & 1 & 10 \\\\ 3 & 1 & 35 & 5 \\\\ 4 & 10 & 5 & 45\n",
    "\\end{pmatrix} \n",
    "\\qquad\n",
    "(b) \\quad \\begin{pmatrix}\n",
    "1 & 2 & 1 & 1 \\\\ 2 & 3 & 4 & 3 \\\\ 1 & 4 & -4 & 0 \\\\ 1 & 3 & 0 & 0\n",
    "\\end{pmatrix} \n",
    "$$\n"
   ]
  },
  {
   "cell_type": "code",
   "execution_count": 21,
   "metadata": {},
   "outputs": [
    {
     "name": "stdout",
     "output_type": "stream",
     "text": [
      "[[ 1.  2.  3.  4.]\n",
      " [ 2.  1. -5.  2.]\n",
      " [ 3. -5.  1.  3.]\n",
      " [ 4.  2.  3.  4.]]\n"
     ]
    }
   ],
   "source": [
    "A=array([[1 , 2 , 3 , 4],[ 2 , 5 , 1 , 10],[ 3 , 1 , 35 , 5],[ 4 , 10 , 5 , 45]])\n",
    "exit, B = facto_cholesky(A)\n",
    "print(B)\n"
   ]
  },
  {
   "cell_type": "code",
   "execution_count": 22,
   "metadata": {},
   "outputs": [
    {
     "data": {
      "text/plain": [
       "(False, 'facto_cholesky: no se factoriza la matriz')"
      ]
     },
     "execution_count": 22,
     "metadata": {},
     "output_type": "execute_result"
    }
   ],
   "source": [
    "A=array([[1 , 2 , 1 , 1 ] , [ 2 , 3 , 4 , 3 ] , [ 1 , 4 , -4 , 0 ] , [ 1 , 3 , 0 , 0]])\n",
    "facto_cholesky(A)"
   ]
  },
  {
   "cell_type": "markdown",
   "metadata": {},
   "source": [
    "**Ejercicio 4.** Construir segundos miembros convenientes y resolver, cuando sea posible, sistemas lineales con las matrices del ejercicio anterior mediante el método de Cholesky."
   ]
  },
  {
   "cell_type": "code",
   "execution_count": null,
   "metadata": {},
   "outputs": [],
   "source": []
  },
  {
   "cell_type": "code",
   "execution_count": null,
   "metadata": {},
   "outputs": [],
   "source": []
  },
  {
   "cell_type": "markdown",
   "metadata": {},
   "source": [
    "**Ejercicio 5.** Considerar las matrices de Hilbert de orden $n=5,6,7,\\ldots$, y tomar como segundo miembro la suma de las columnas de A. Evidentemente la solución del sistema resultante es el vector con todas las componentes igual a 1. Resolver los sistemas con el método de Cholesky y ver qué ocurre. (Observación: se puede demostrar que las matrices de Hilbert son simétricas y definidas positivas, por lo que admiten dicha factorización.)\n",
    "\n",
    "Nota: Las matrices de Hilbert se caracterizan porque el patrón de generación de sus elementos responde a la siguiente estructura: \n",
    "\n",
    "$$H_{i,j}=\\frac{1}{i+j-1}$$\n",
    "\n",
    "$$\n",
    "H_4=\\begin{pmatrix} 1&\\frac{1}{2}&\\frac{1}{3}&\\frac{1}{4}\\\\ \n",
    "\\frac{1}{2}&\\frac{1}{3}&\\frac{1}{4}&\\frac{1}{5}\\\\ \n",
    "\\frac{1}{3}&\\frac{1}{4}&\\frac{1}{5}&\\frac{1}{6}\\\\ \n",
    "\\frac{1}{4}&\\frac{1}{5}&\\frac{1}{6}&\\frac{1}{7}\n",
    "\\end{pmatrix}\n",
    "$$"
   ]
  },
  {
   "cell_type": "code",
   "execution_count": null,
   "metadata": {},
   "outputs": [],
   "source": []
  },
  {
   "cell_type": "code",
   "execution_count": null,
   "metadata": {},
   "outputs": [],
   "source": []
  },
  {
   "cell_type": "code",
   "execution_count": null,
   "metadata": {},
   "outputs": [],
   "source": []
  },
  {
   "cell_type": "markdown",
   "metadata": {},
   "source": [
    "----"
   ]
  }
 ],
 "metadata": {
  "kernelspec": {
   "display_name": "Python 3 (ipykernel)",
   "language": "python",
   "name": "python3"
  },
  "language_info": {
   "codemirror_mode": {
    "name": "ipython",
    "version": 3
   },
   "file_extension": ".py",
   "mimetype": "text/x-python",
   "name": "python",
   "nbconvert_exporter": "python",
   "pygments_lexer": "ipython3",
   "version": "3.10.4"
  }
 },
 "nbformat": 4,
 "nbformat_minor": 4
}
